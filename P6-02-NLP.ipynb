{
 "cells": [
  {
   "cell_type": "code",
   "execution_count": 1,
   "id": "28627936",
   "metadata": {},
   "outputs": [
    {
     "name": "stderr",
     "output_type": "stream",
     "text": [
      "D:\\Users\\Damien\\anaconda3\\lib\\site-packages\\outdated\\utils.py:14: OutdatedPackageWarning: The package pingouin is out of date. Your version is 0.4.0, the latest is 0.5.0.\n",
      "Set the environment variable OUTDATED_IGNORE=1 to disable these warnings.\n",
      "  return warn(\n"
     ]
    },
    {
     "data": {
      "text/html": [
       "<style>.container { width:100% !important; }</style>"
      ],
      "text/plain": [
       "<IPython.core.display.HTML object>"
      ]
     },
     "metadata": {},
     "output_type": "display_data"
    }
   ],
   "source": [
    "import pandas as pd\n",
    "import seaborn as sns\n",
    "import matplotlib.pyplot as plt\n",
    "import numpy as np\n",
    "import pingouin as pg\n",
    "import cv2\n",
    "from PIL import Image as Image_PIL\n",
    "from os import listdir\n",
    "from matplotlib.image import imread\n",
    "import time\n",
    "from random import sample\n",
    "from sklearn import manifold, decomposition, preprocessing\n",
    "from sklearn.model_selection import train_test_split\n",
    "\n",
    "\n",
    "from IPython.core.display import display, HTML\n",
    "display(HTML(\"<style>.container { width:100% !important; }</style>\"))"
   ]
  },
  {
   "cell_type": "markdown",
   "id": "5fd1b772",
   "metadata": {},
   "source": [
    "### Dataframe"
   ]
  },
  {
   "cell_type": "code",
   "execution_count": 2,
   "id": "ffb28a37",
   "metadata": {},
   "outputs": [
    {
     "data": {
      "text/html": [
       "<div>\n",
       "<style scoped>\n",
       "    .dataframe tbody tr th:only-of-type {\n",
       "        vertical-align: middle;\n",
       "    }\n",
       "\n",
       "    .dataframe tbody tr th {\n",
       "        vertical-align: top;\n",
       "    }\n",
       "\n",
       "    .dataframe thead th {\n",
       "        text-align: right;\n",
       "    }\n",
       "</style>\n",
       "<table border=\"1\" class=\"dataframe\">\n",
       "  <thead>\n",
       "    <tr style=\"text-align: right;\">\n",
       "      <th></th>\n",
       "      <th>uniq_id</th>\n",
       "      <th>crawl_timestamp</th>\n",
       "      <th>product_url</th>\n",
       "      <th>product_name</th>\n",
       "      <th>pid</th>\n",
       "      <th>retail_price</th>\n",
       "      <th>discounted_price</th>\n",
       "      <th>image</th>\n",
       "      <th>is_FK_Advantage_product</th>\n",
       "      <th>description</th>\n",
       "      <th>product_rating</th>\n",
       "      <th>overall_rating</th>\n",
       "      <th>brand</th>\n",
       "      <th>product_specifications</th>\n",
       "      <th>cat_lvl_1</th>\n",
       "      <th>cat_lvl_2</th>\n",
       "      <th>cat_lvl_3</th>\n",
       "    </tr>\n",
       "  </thead>\n",
       "  <tbody>\n",
       "    <tr>\n",
       "      <th>0</th>\n",
       "      <td>55b85ea15a1536d46b7190ad6fff8ce7</td>\n",
       "      <td>2016-04-30 03:22:56 +0000</td>\n",
       "      <td>http://www.flipkart.com/elegance-polyester-mul...</td>\n",
       "      <td>Elegance Polyester Multicolor Abstract Eyelet ...</td>\n",
       "      <td>CRNEG7BKMFFYHQ8Z</td>\n",
       "      <td>1899.0</td>\n",
       "      <td>899.0</td>\n",
       "      <td>55b85ea15a1536d46b7190ad6fff8ce7.jpg</td>\n",
       "      <td>False</td>\n",
       "      <td>Key Features of Elegance Polyester Multicolor ...</td>\n",
       "      <td>No rating available</td>\n",
       "      <td>No rating available</td>\n",
       "      <td>Elegance</td>\n",
       "      <td>{\"product_specification\"=&gt;[{\"key\"=&gt;\"Brand\", \"v...</td>\n",
       "      <td>Home Furnishing</td>\n",
       "      <td>Curtains &amp; Accessories</td>\n",
       "      <td>Curtains</td>\n",
       "    </tr>\n",
       "    <tr>\n",
       "      <th>1</th>\n",
       "      <td>7b72c92c2f6c40268628ec5f14c6d590</td>\n",
       "      <td>2016-04-30 03:22:56 +0000</td>\n",
       "      <td>http://www.flipkart.com/sathiyas-cotton-bath-t...</td>\n",
       "      <td>Sathiyas Cotton Bath Towel</td>\n",
       "      <td>BTWEGFZHGBXPHZUH</td>\n",
       "      <td>600.0</td>\n",
       "      <td>449.0</td>\n",
       "      <td>7b72c92c2f6c40268628ec5f14c6d590.jpg</td>\n",
       "      <td>False</td>\n",
       "      <td>Specifications of Sathiyas Cotton Bath Towel (...</td>\n",
       "      <td>No rating available</td>\n",
       "      <td>No rating available</td>\n",
       "      <td>Sathiyas</td>\n",
       "      <td>{\"product_specification\"=&gt;[{\"key\"=&gt;\"Machine Wa...</td>\n",
       "      <td>Baby Care</td>\n",
       "      <td>Baby Bath &amp; Skin</td>\n",
       "      <td>Baby Bath Towels</td>\n",
       "    </tr>\n",
       "    <tr>\n",
       "      <th>2</th>\n",
       "      <td>64d5d4a258243731dc7bbb1eef49ad74</td>\n",
       "      <td>2016-04-30 03:22:56 +0000</td>\n",
       "      <td>http://www.flipkart.com/eurospa-cotton-terry-f...</td>\n",
       "      <td>Eurospa Cotton Terry Face Towel Set</td>\n",
       "      <td>BTWEG6SHXTDB2A2Y</td>\n",
       "      <td>NaN</td>\n",
       "      <td>NaN</td>\n",
       "      <td>64d5d4a258243731dc7bbb1eef49ad74.jpg</td>\n",
       "      <td>False</td>\n",
       "      <td>Key Features of Eurospa Cotton Terry Face Towe...</td>\n",
       "      <td>No rating available</td>\n",
       "      <td>No rating available</td>\n",
       "      <td>Eurospa</td>\n",
       "      <td>{\"product_specification\"=&gt;[{\"key\"=&gt;\"Material\",...</td>\n",
       "      <td>Baby Care</td>\n",
       "      <td>Baby Bath &amp; Skin</td>\n",
       "      <td>Baby Bath Towels</td>\n",
       "    </tr>\n",
       "    <tr>\n",
       "      <th>3</th>\n",
       "      <td>d4684dcdc759dd9cdf41504698d737d8</td>\n",
       "      <td>2016-06-20 08:49:52 +0000</td>\n",
       "      <td>http://www.flipkart.com/santosh-royal-fashion-...</td>\n",
       "      <td>SANTOSH ROYAL FASHION Cotton Printed King size...</td>\n",
       "      <td>BDSEJT9UQWHDUBH4</td>\n",
       "      <td>2699.0</td>\n",
       "      <td>1299.0</td>\n",
       "      <td>d4684dcdc759dd9cdf41504698d737d8.jpg</td>\n",
       "      <td>False</td>\n",
       "      <td>Key Features of SANTOSH ROYAL FASHION Cotton P...</td>\n",
       "      <td>No rating available</td>\n",
       "      <td>No rating available</td>\n",
       "      <td>SANTOSH ROYAL FASHION</td>\n",
       "      <td>{\"product_specification\"=&gt;[{\"key\"=&gt;\"Brand\", \"v...</td>\n",
       "      <td>Home Furnishing</td>\n",
       "      <td>Bed Linen</td>\n",
       "      <td>Bedsheets</td>\n",
       "    </tr>\n",
       "    <tr>\n",
       "      <th>4</th>\n",
       "      <td>6325b6870c54cd47be6ebfbffa620ec7</td>\n",
       "      <td>2016-06-20 08:49:52 +0000</td>\n",
       "      <td>http://www.flipkart.com/jaipur-print-cotton-fl...</td>\n",
       "      <td>Jaipur Print Cotton Floral King sized Double B...</td>\n",
       "      <td>BDSEJTHNGWVGWWQU</td>\n",
       "      <td>2599.0</td>\n",
       "      <td>698.0</td>\n",
       "      <td>6325b6870c54cd47be6ebfbffa620ec7.jpg</td>\n",
       "      <td>False</td>\n",
       "      <td>Key Features of Jaipur Print Cotton Floral Kin...</td>\n",
       "      <td>No rating available</td>\n",
       "      <td>No rating available</td>\n",
       "      <td>Jaipur Print</td>\n",
       "      <td>{\"product_specification\"=&gt;[{\"key\"=&gt;\"Machine Wa...</td>\n",
       "      <td>Home Furnishing</td>\n",
       "      <td>Bed Linen</td>\n",
       "      <td>Bedsheets</td>\n",
       "    </tr>\n",
       "  </tbody>\n",
       "</table>\n",
       "</div>"
      ],
      "text/plain": [
       "                            uniq_id            crawl_timestamp  \\\n",
       "0  55b85ea15a1536d46b7190ad6fff8ce7  2016-04-30 03:22:56 +0000   \n",
       "1  7b72c92c2f6c40268628ec5f14c6d590  2016-04-30 03:22:56 +0000   \n",
       "2  64d5d4a258243731dc7bbb1eef49ad74  2016-04-30 03:22:56 +0000   \n",
       "3  d4684dcdc759dd9cdf41504698d737d8  2016-06-20 08:49:52 +0000   \n",
       "4  6325b6870c54cd47be6ebfbffa620ec7  2016-06-20 08:49:52 +0000   \n",
       "\n",
       "                                         product_url  \\\n",
       "0  http://www.flipkart.com/elegance-polyester-mul...   \n",
       "1  http://www.flipkart.com/sathiyas-cotton-bath-t...   \n",
       "2  http://www.flipkart.com/eurospa-cotton-terry-f...   \n",
       "3  http://www.flipkart.com/santosh-royal-fashion-...   \n",
       "4  http://www.flipkart.com/jaipur-print-cotton-fl...   \n",
       "\n",
       "                                        product_name               pid  \\\n",
       "0  Elegance Polyester Multicolor Abstract Eyelet ...  CRNEG7BKMFFYHQ8Z   \n",
       "1                         Sathiyas Cotton Bath Towel  BTWEGFZHGBXPHZUH   \n",
       "2                Eurospa Cotton Terry Face Towel Set  BTWEG6SHXTDB2A2Y   \n",
       "3  SANTOSH ROYAL FASHION Cotton Printed King size...  BDSEJT9UQWHDUBH4   \n",
       "4  Jaipur Print Cotton Floral King sized Double B...  BDSEJTHNGWVGWWQU   \n",
       "\n",
       "   retail_price  discounted_price                                 image  \\\n",
       "0        1899.0             899.0  55b85ea15a1536d46b7190ad6fff8ce7.jpg   \n",
       "1         600.0             449.0  7b72c92c2f6c40268628ec5f14c6d590.jpg   \n",
       "2           NaN               NaN  64d5d4a258243731dc7bbb1eef49ad74.jpg   \n",
       "3        2699.0            1299.0  d4684dcdc759dd9cdf41504698d737d8.jpg   \n",
       "4        2599.0             698.0  6325b6870c54cd47be6ebfbffa620ec7.jpg   \n",
       "\n",
       "   is_FK_Advantage_product                                        description  \\\n",
       "0                    False  Key Features of Elegance Polyester Multicolor ...   \n",
       "1                    False  Specifications of Sathiyas Cotton Bath Towel (...   \n",
       "2                    False  Key Features of Eurospa Cotton Terry Face Towe...   \n",
       "3                    False  Key Features of SANTOSH ROYAL FASHION Cotton P...   \n",
       "4                    False  Key Features of Jaipur Print Cotton Floral Kin...   \n",
       "\n",
       "        product_rating       overall_rating                  brand  \\\n",
       "0  No rating available  No rating available               Elegance   \n",
       "1  No rating available  No rating available               Sathiyas   \n",
       "2  No rating available  No rating available                Eurospa   \n",
       "3  No rating available  No rating available  SANTOSH ROYAL FASHION   \n",
       "4  No rating available  No rating available           Jaipur Print   \n",
       "\n",
       "                              product_specifications        cat_lvl_1  \\\n",
       "0  {\"product_specification\"=>[{\"key\"=>\"Brand\", \"v...  Home Furnishing   \n",
       "1  {\"product_specification\"=>[{\"key\"=>\"Machine Wa...        Baby Care   \n",
       "2  {\"product_specification\"=>[{\"key\"=>\"Material\",...        Baby Care   \n",
       "3  {\"product_specification\"=>[{\"key\"=>\"Brand\", \"v...  Home Furnishing   \n",
       "4  {\"product_specification\"=>[{\"key\"=>\"Machine Wa...  Home Furnishing   \n",
       "\n",
       "                cat_lvl_2         cat_lvl_3  \n",
       "0  Curtains & Accessories          Curtains  \n",
       "1        Baby Bath & Skin  Baby Bath Towels  \n",
       "2        Baby Bath & Skin  Baby Bath Towels  \n",
       "3               Bed Linen         Bedsheets  \n",
       "4               Bed Linen         Bedsheets  "
      ]
     },
     "execution_count": 2,
     "metadata": {},
     "output_type": "execute_result"
    }
   ],
   "source": [
    "df = pd.read_csv(\n",
    "    r\"C:\\Users\\Damien\\Desktop\\Data Scientist\\P6\\Dataset\\images_clean.csv\")\n",
    "df.head(5)"
   ]
  },
  {
   "cell_type": "markdown",
   "id": "d631addd",
   "metadata": {},
   "source": [
    "### CNN"
   ]
  },
  {
   "cell_type": "code",
   "execution_count": 3,
   "id": "a94636bc",
   "metadata": {},
   "outputs": [],
   "source": [
    "import tensorflow as tf\n",
    "from tensorflow import keras\n",
    "from tensorflow.keras import layers\n",
    "from tensorflow.keras.preprocessing import image_dataset_from_directory"
   ]
  },
  {
   "cell_type": "markdown",
   "id": "b696170b",
   "metadata": {},
   "source": [
    "### NLP"
   ]
  },
  {
   "cell_type": "markdown",
   "id": "4c585d56",
   "metadata": {},
   "source": [
    "#### Bag of Words"
   ]
  },
  {
   "cell_type": "code",
   "execution_count": 4,
   "id": "b8ebc3e6",
   "metadata": {},
   "outputs": [
    {
     "data": {
      "text/html": [
       "<div>\n",
       "<style scoped>\n",
       "    .dataframe tbody tr th:only-of-type {\n",
       "        vertical-align: middle;\n",
       "    }\n",
       "\n",
       "    .dataframe tbody tr th {\n",
       "        vertical-align: top;\n",
       "    }\n",
       "\n",
       "    .dataframe thead th {\n",
       "        text-align: right;\n",
       "    }\n",
       "</style>\n",
       "<table border=\"1\" class=\"dataframe\">\n",
       "  <thead>\n",
       "    <tr style=\"text-align: right;\">\n",
       "      <th></th>\n",
       "      <th>description</th>\n",
       "    </tr>\n",
       "  </thead>\n",
       "  <tbody>\n",
       "    <tr>\n",
       "      <th>632</th>\n",
       "      <td>Key Features of Lilliput Solid Baby Boy's Blue...</td>\n",
       "    </tr>\n",
       "    <tr>\n",
       "      <th>547</th>\n",
       "      <td>Maxima 01727LPLN Mac Gold Analog Watch  - For ...</td>\n",
       "    </tr>\n",
       "    <tr>\n",
       "      <th>92</th>\n",
       "      <td>Buy Exotic India Vaishnava Symbols - Shankha A...</td>\n",
       "    </tr>\n",
       "    <tr>\n",
       "      <th>372</th>\n",
       "      <td>Flipkart.com: Buy Wild Stone Charge,Surge Comb...</td>\n",
       "    </tr>\n",
       "    <tr>\n",
       "      <th>615</th>\n",
       "      <td>Specifications of Boreal Plastic rectangular h...</td>\n",
       "    </tr>\n",
       "  </tbody>\n",
       "</table>\n",
       "</div>"
      ],
      "text/plain": [
       "                                           description\n",
       "632  Key Features of Lilliput Solid Baby Boy's Blue...\n",
       "547  Maxima 01727LPLN Mac Gold Analog Watch  - For ...\n",
       "92   Buy Exotic India Vaishnava Symbols - Shankha A...\n",
       "372  Flipkart.com: Buy Wild Stone Charge,Surge Comb...\n",
       "615  Specifications of Boreal Plastic rectangular h..."
      ]
     },
     "execution_count": 4,
     "metadata": {},
     "output_type": "execute_result"
    }
   ],
   "source": [
    "df[['description']].sample(5)"
   ]
  },
  {
   "cell_type": "code",
   "execution_count": 5,
   "id": "8bed7e92",
   "metadata": {},
   "outputs": [],
   "source": [
    "from sklearn.feature_extraction.text import TfidfVectorizer\n",
    "from string import punctuation\n",
    "from nltk.corpus import stopwords"
   ]
  },
  {
   "cell_type": "code",
   "execution_count": 6,
   "id": "860c5926",
   "metadata": {},
   "outputs": [],
   "source": [
    "import nltk"
   ]
  },
  {
   "cell_type": "code",
   "execution_count": 7,
   "id": "e412599d",
   "metadata": {},
   "outputs": [],
   "source": [
    "stopwords_en = set(nltk.corpus.stopwords.words('english'))\n",
    "stopwords_nltk = set(stopwords.words('english'))\n",
    "stopwords_punct = set(punctuation)\n",
    "stopwords_combined = set.union(stopwords_en, stopwords_nltk, stopwords_punct)"
   ]
  },
  {
   "cell_type": "code",
   "execution_count": 8,
   "id": "4182ec92",
   "metadata": {},
   "outputs": [
    {
     "name": "stdout",
     "output_type": "stream",
     "text": [
      "ponctuation :  ['\\\\', '\"', ':', '}']\n",
      "stopwords :  ['your', 'd', 'now', 'me']\n"
     ]
    }
   ],
   "source": [
    "print('ponctuation : ', list(stopwords_punct)[0:4])\n",
    "print('stopwords : ', list(stopwords_nltk)[0:4])"
   ]
  },
  {
   "cell_type": "code",
   "execution_count": 9,
   "id": "84a4755a",
   "metadata": {},
   "outputs": [],
   "source": [
    "list_sentences = [sent for sent in df['description']]"
   ]
  },
  {
   "cell_type": "code",
   "execution_count": 10,
   "id": "e4dfbef8",
   "metadata": {},
   "outputs": [
    {
     "name": "stdout",
     "output_type": "stream",
     "text": [
      "nombre de phrases:  1050\n"
     ]
    }
   ],
   "source": [
    "print(\"nombre de phrases: \", len(list_sentences))"
   ]
  },
  {
   "cell_type": "code",
   "execution_count": 11,
   "id": "6e567a99",
   "metadata": {},
   "outputs": [
    {
     "name": "stdout",
     "output_type": "stream",
     "text": [
      "nombre total de mots:  80013\n"
     ]
    }
   ],
   "source": [
    "corpus = ' '.join(df['description'].values)\n",
    "print(\"nombre total de mots: \", len(corpus.split()))"
   ]
  },
  {
   "cell_type": "markdown",
   "id": "40420066",
   "metadata": {},
   "source": [
    "#### Test comptage de mots"
   ]
  },
  {
   "cell_type": "code",
   "execution_count": 12,
   "id": "2ade1c5c",
   "metadata": {},
   "outputs": [],
   "source": [
    "sentence = list_sentences[0]\n",
    "\n",
    "tokens = nltk.word_tokenize(sentence)"
   ]
  },
  {
   "cell_type": "code",
   "execution_count": 13,
   "id": "1f61319d",
   "metadata": {},
   "outputs": [
    {
     "data": {
      "text/plain": [
       "'Key Features of Elegance Polyester Multicolor Abstract Eyelet Door Curtain Floral Curtain,Elegance Polyester Multicolor Abstract Eyelet Door Curtain (213 cm in Height, Pack of 2) Price: Rs. 899 This curtain enhances the look of the interiors.This curtain is made from 100% high quality polyester fabric.It features an eyelet style stitch with Metal Ring.It makes the room environment romantic and loving.This curtain is ant- wrinkle and anti shrinkage and have elegant apparance.Give your home a bright and modernistic appeal with these designs. The surreal attention is sure to steal hearts. These contemporary eyelet and valance curtains slide smoothly so when you draw them apart first thing in the morning to welcome the bright sun rays you want to wish good morning to the whole world and when you draw them close in the evening, you create the most special moments of joyous beauty given by the soothing prints. Bring home the elegant curtain that softly filters light in your room so that you get the right amount of sunlight.,Specifications of Elegance Polyester Multicolor Abstract Eyelet Door Curtain (213 cm in Height, Pack of 2) General Brand Elegance Designed For Door Type Eyelet Model Name Abstract Polyester Door Curtain Set Of 2 Model ID Duster25 Color Multicolor Dimensions Length 213 cm In the Box Number of Contents in Sales Package Pack of 2 Sales Package 2 Curtains Body & Design Material Polyester'"
      ]
     },
     "execution_count": 13,
     "metadata": {},
     "output_type": "execute_result"
    }
   ],
   "source": [
    "sentence"
   ]
  },
  {
   "cell_type": "code",
   "execution_count": 14,
   "id": "b411c73d",
   "metadata": {},
   "outputs": [
    {
     "data": {
      "text/plain": [
       "['Key',\n",
       " 'Features',\n",
       " 'of',\n",
       " 'Elegance',\n",
       " 'Polyester',\n",
       " 'Multicolor',\n",
       " 'Abstract',\n",
       " 'Eyelet',\n",
       " 'Door',\n",
       " 'Curtain',\n",
       " 'Floral',\n",
       " 'Curtain',\n",
       " ',',\n",
       " 'Elegance',\n",
       " 'Polyester',\n",
       " 'Multicolor',\n",
       " 'Abstract',\n",
       " 'Eyelet',\n",
       " 'Door',\n",
       " 'Curtain',\n",
       " '(',\n",
       " '213',\n",
       " 'cm',\n",
       " 'in',\n",
       " 'Height',\n",
       " ',',\n",
       " 'Pack',\n",
       " 'of',\n",
       " '2',\n",
       " ')',\n",
       " 'Price',\n",
       " ':',\n",
       " 'Rs',\n",
       " '.',\n",
       " '899',\n",
       " 'This',\n",
       " 'curtain',\n",
       " 'enhances',\n",
       " 'the',\n",
       " 'look',\n",
       " 'of',\n",
       " 'the',\n",
       " 'interiors.This',\n",
       " 'curtain',\n",
       " 'is',\n",
       " 'made',\n",
       " 'from',\n",
       " '100',\n",
       " '%',\n",
       " 'high',\n",
       " 'quality',\n",
       " 'polyester',\n",
       " 'fabric.It',\n",
       " 'features',\n",
       " 'an',\n",
       " 'eyelet',\n",
       " 'style',\n",
       " 'stitch',\n",
       " 'with',\n",
       " 'Metal',\n",
       " 'Ring.It',\n",
       " 'makes',\n",
       " 'the',\n",
       " 'room',\n",
       " 'environment',\n",
       " 'romantic',\n",
       " 'and',\n",
       " 'loving.This',\n",
       " 'curtain',\n",
       " 'is',\n",
       " 'ant-',\n",
       " 'wrinkle',\n",
       " 'and',\n",
       " 'anti',\n",
       " 'shrinkage',\n",
       " 'and',\n",
       " 'have',\n",
       " 'elegant',\n",
       " 'apparance.Give',\n",
       " 'your',\n",
       " 'home',\n",
       " 'a',\n",
       " 'bright',\n",
       " 'and',\n",
       " 'modernistic',\n",
       " 'appeal',\n",
       " 'with',\n",
       " 'these',\n",
       " 'designs',\n",
       " '.',\n",
       " 'The',\n",
       " 'surreal',\n",
       " 'attention',\n",
       " 'is',\n",
       " 'sure',\n",
       " 'to',\n",
       " 'steal',\n",
       " 'hearts',\n",
       " '.',\n",
       " 'These',\n",
       " 'contemporary',\n",
       " 'eyelet',\n",
       " 'and',\n",
       " 'valance',\n",
       " 'curtains',\n",
       " 'slide',\n",
       " 'smoothly',\n",
       " 'so',\n",
       " 'when',\n",
       " 'you',\n",
       " 'draw',\n",
       " 'them',\n",
       " 'apart',\n",
       " 'first',\n",
       " 'thing',\n",
       " 'in',\n",
       " 'the',\n",
       " 'morning',\n",
       " 'to',\n",
       " 'welcome',\n",
       " 'the',\n",
       " 'bright',\n",
       " 'sun',\n",
       " 'rays',\n",
       " 'you',\n",
       " 'want',\n",
       " 'to',\n",
       " 'wish',\n",
       " 'good',\n",
       " 'morning',\n",
       " 'to',\n",
       " 'the',\n",
       " 'whole',\n",
       " 'world',\n",
       " 'and',\n",
       " 'when',\n",
       " 'you',\n",
       " 'draw',\n",
       " 'them',\n",
       " 'close',\n",
       " 'in',\n",
       " 'the',\n",
       " 'evening',\n",
       " ',',\n",
       " 'you',\n",
       " 'create',\n",
       " 'the',\n",
       " 'most',\n",
       " 'special',\n",
       " 'moments',\n",
       " 'of',\n",
       " 'joyous',\n",
       " 'beauty',\n",
       " 'given',\n",
       " 'by',\n",
       " 'the',\n",
       " 'soothing',\n",
       " 'prints',\n",
       " '.',\n",
       " 'Bring',\n",
       " 'home',\n",
       " 'the',\n",
       " 'elegant',\n",
       " 'curtain',\n",
       " 'that',\n",
       " 'softly',\n",
       " 'filters',\n",
       " 'light',\n",
       " 'in',\n",
       " 'your',\n",
       " 'room',\n",
       " 'so',\n",
       " 'that',\n",
       " 'you',\n",
       " 'get',\n",
       " 'the',\n",
       " 'right',\n",
       " 'amount',\n",
       " 'of',\n",
       " 'sunlight.',\n",
       " ',',\n",
       " 'Specifications',\n",
       " 'of',\n",
       " 'Elegance',\n",
       " 'Polyester',\n",
       " 'Multicolor',\n",
       " 'Abstract',\n",
       " 'Eyelet',\n",
       " 'Door',\n",
       " 'Curtain',\n",
       " '(',\n",
       " '213',\n",
       " 'cm',\n",
       " 'in',\n",
       " 'Height',\n",
       " ',',\n",
       " 'Pack',\n",
       " 'of',\n",
       " '2',\n",
       " ')',\n",
       " 'General',\n",
       " 'Brand',\n",
       " 'Elegance',\n",
       " 'Designed',\n",
       " 'For',\n",
       " 'Door',\n",
       " 'Type',\n",
       " 'Eyelet',\n",
       " 'Model',\n",
       " 'Name',\n",
       " 'Abstract',\n",
       " 'Polyester',\n",
       " 'Door',\n",
       " 'Curtain',\n",
       " 'Set',\n",
       " 'Of',\n",
       " '2',\n",
       " 'Model',\n",
       " 'ID',\n",
       " 'Duster25',\n",
       " 'Color',\n",
       " 'Multicolor',\n",
       " 'Dimensions',\n",
       " 'Length',\n",
       " '213',\n",
       " 'cm',\n",
       " 'In',\n",
       " 'the',\n",
       " 'Box',\n",
       " 'Number',\n",
       " 'of',\n",
       " 'Contents',\n",
       " 'in',\n",
       " 'Sales',\n",
       " 'Package',\n",
       " 'Pack',\n",
       " 'of',\n",
       " '2',\n",
       " 'Sales',\n",
       " 'Package',\n",
       " '2',\n",
       " 'Curtains',\n",
       " 'Body',\n",
       " '&',\n",
       " 'Design',\n",
       " 'Material',\n",
       " 'Polyester']"
      ]
     },
     "execution_count": 14,
     "metadata": {},
     "output_type": "execute_result"
    }
   ],
   "source": [
    "tokens"
   ]
  },
  {
   "cell_type": "code",
   "execution_count": 15,
   "id": "cb225afa",
   "metadata": {},
   "outputs": [],
   "source": [
    "from collections import Counter"
   ]
  },
  {
   "cell_type": "code",
   "execution_count": 16,
   "id": "5fcb4976",
   "metadata": {},
   "outputs": [
    {
     "data": {
      "text/plain": [
       "Counter({'Key': 1,\n",
       "         'Features': 1,\n",
       "         'of': 9,\n",
       "         'Elegance': 4,\n",
       "         'Polyester': 5,\n",
       "         'Multicolor': 4,\n",
       "         'Abstract': 4,\n",
       "         'Eyelet': 4,\n",
       "         'Door': 5,\n",
       "         'Curtain': 5,\n",
       "         'Floral': 1,\n",
       "         ',': 5,\n",
       "         '(': 2,\n",
       "         '213': 3,\n",
       "         'cm': 3,\n",
       "         'in': 6,\n",
       "         'Height': 2,\n",
       "         'Pack': 3,\n",
       "         '2': 5,\n",
       "         ')': 2,\n",
       "         'Price': 1,\n",
       "         ':': 1,\n",
       "         'Rs': 1,\n",
       "         '.': 4,\n",
       "         '899': 1,\n",
       "         'This': 1,\n",
       "         'curtain': 4,\n",
       "         'enhances': 1,\n",
       "         'the': 12,\n",
       "         'look': 1,\n",
       "         'interiors.This': 1,\n",
       "         'is': 3,\n",
       "         'made': 1,\n",
       "         'from': 1,\n",
       "         '100': 1,\n",
       "         '%': 1,\n",
       "         'high': 1,\n",
       "         'quality': 1,\n",
       "         'polyester': 1,\n",
       "         'fabric.It': 1,\n",
       "         'features': 1,\n",
       "         'an': 1,\n",
       "         'eyelet': 2,\n",
       "         'style': 1,\n",
       "         'stitch': 1,\n",
       "         'with': 2,\n",
       "         'Metal': 1,\n",
       "         'Ring.It': 1,\n",
       "         'makes': 1,\n",
       "         'room': 2,\n",
       "         'environment': 1,\n",
       "         'romantic': 1,\n",
       "         'and': 6,\n",
       "         'loving.This': 1,\n",
       "         'ant-': 1,\n",
       "         'wrinkle': 1,\n",
       "         'anti': 1,\n",
       "         'shrinkage': 1,\n",
       "         'have': 1,\n",
       "         'elegant': 2,\n",
       "         'apparance.Give': 1,\n",
       "         'your': 2,\n",
       "         'home': 2,\n",
       "         'a': 1,\n",
       "         'bright': 2,\n",
       "         'modernistic': 1,\n",
       "         'appeal': 1,\n",
       "         'these': 1,\n",
       "         'designs': 1,\n",
       "         'The': 1,\n",
       "         'surreal': 1,\n",
       "         'attention': 1,\n",
       "         'sure': 1,\n",
       "         'to': 4,\n",
       "         'steal': 1,\n",
       "         'hearts': 1,\n",
       "         'These': 1,\n",
       "         'contemporary': 1,\n",
       "         'valance': 1,\n",
       "         'curtains': 1,\n",
       "         'slide': 1,\n",
       "         'smoothly': 1,\n",
       "         'so': 2,\n",
       "         'when': 2,\n",
       "         'you': 5,\n",
       "         'draw': 2,\n",
       "         'them': 2,\n",
       "         'apart': 1,\n",
       "         'first': 1,\n",
       "         'thing': 1,\n",
       "         'morning': 2,\n",
       "         'welcome': 1,\n",
       "         'sun': 1,\n",
       "         'rays': 1,\n",
       "         'want': 1,\n",
       "         'wish': 1,\n",
       "         'good': 1,\n",
       "         'whole': 1,\n",
       "         'world': 1,\n",
       "         'close': 1,\n",
       "         'evening': 1,\n",
       "         'create': 1,\n",
       "         'most': 1,\n",
       "         'special': 1,\n",
       "         'moments': 1,\n",
       "         'joyous': 1,\n",
       "         'beauty': 1,\n",
       "         'given': 1,\n",
       "         'by': 1,\n",
       "         'soothing': 1,\n",
       "         'prints': 1,\n",
       "         'Bring': 1,\n",
       "         'that': 2,\n",
       "         'softly': 1,\n",
       "         'filters': 1,\n",
       "         'light': 1,\n",
       "         'get': 1,\n",
       "         'right': 1,\n",
       "         'amount': 1,\n",
       "         'sunlight.': 1,\n",
       "         'Specifications': 1,\n",
       "         'General': 1,\n",
       "         'Brand': 1,\n",
       "         'Designed': 1,\n",
       "         'For': 1,\n",
       "         'Type': 1,\n",
       "         'Model': 2,\n",
       "         'Name': 1,\n",
       "         'Set': 1,\n",
       "         'Of': 1,\n",
       "         'ID': 1,\n",
       "         'Duster25': 1,\n",
       "         'Color': 1,\n",
       "         'Dimensions': 1,\n",
       "         'Length': 1,\n",
       "         'In': 1,\n",
       "         'Box': 1,\n",
       "         'Number': 1,\n",
       "         'Contents': 1,\n",
       "         'Sales': 2,\n",
       "         'Package': 2,\n",
       "         'Curtains': 1,\n",
       "         'Body': 1,\n",
       "         '&': 1,\n",
       "         'Design': 1,\n",
       "         'Material': 1})"
      ]
     },
     "execution_count": 16,
     "metadata": {},
     "output_type": "execute_result"
    }
   ],
   "source": [
    "Counter(tokens)"
   ]
  },
  {
   "cell_type": "markdown",
   "id": "c8364a33",
   "metadata": {},
   "source": [
    "#### Preprocessing (Stemmer - Lemmatizer)"
   ]
  },
  {
   "cell_type": "code",
   "execution_count": 17,
   "id": "97092c54",
   "metadata": {},
   "outputs": [],
   "source": [
    "from nltk import word_tokenize\n",
    "from nltk.stem import WordNetLemmatizer"
   ]
  },
  {
   "cell_type": "code",
   "execution_count": 18,
   "id": "92f4c09c",
   "metadata": {},
   "outputs": [],
   "source": [
    "from nltk.stem.snowball import EnglishStemmer\n",
    "import spacy\n",
    "\n",
    "stemmer = EnglishStemmer()\n",
    "lemmatizer = spacy.load('en_core_web_sm', disable=['parser', 'ner'])"
   ]
  },
  {
   "cell_type": "code",
   "execution_count": 19,
   "id": "0235ab4b",
   "metadata": {},
   "outputs": [],
   "source": [
    "def tokenize_clean(document, stopwords=None, keep_tags=None,  # ('NN' or 'JJ')\n",
    "                   lemmatizer=None, stemmer=None):\n",
    "    # 1 - tokenizing\n",
    "    tokenizer = nltk.RegexpTokenizer(r'[A-Za-z]+')\n",
    "    li_words = tokenizer.tokenize(document)\n",
    "    # 2 - lower case\n",
    "    li_words = [s.lower() for s in li_words]\n",
    "    # 3 - Garder certain tags\n",
    "    if keep_tags is not None:\n",
    "        li_words = [word for word, tag in nltk.pos_tag(li_words)\n",
    "                    if tag in keep_tags]\n",
    "    if stopwords is None:\n",
    "        stopwords = []\n",
    "    # 4 - lemmatizing - stemming\n",
    "    if lemmatizer is not None:\n",
    "        lem_doc = lemmatizer(' '.join(li_words))\n",
    "        li_words = [token.lemma_ for token in lem_doc]\n",
    "    elif stemmer is not None:\n",
    "        li_words = [stemmer.stem(s) for s in li_words]\n",
    "    # 5 - Suppression des stopwords\n",
    "    li_words = [s for s in li_words if s not in stopwords]\n",
    "\n",
    "    return li_words"
   ]
  },
  {
   "cell_type": "code",
   "execution_count": 20,
   "id": "bb1f286f",
   "metadata": {},
   "outputs": [],
   "source": [
    "df['desc_clean'] = \\\n",
    "    df['description'].apply(lambda x:\n",
    "                            tokenize_clean(x,\n",
    "                                           stopwords=stopwords_en,\n",
    "                                           keep_tags=['NN', 'JJ'],\n",
    "                                           stemmer=None,\n",
    "                                           lemmatizer=lemmatizer))\\\n",
    "    .apply(lambda x: ' '.join(x))\n",
    "\n",
    "df['pname_clean'] = \\\n",
    "    df['product_name'].apply(lambda x:\n",
    "                             tokenize_clean(x,\n",
    "                                            stopwords=stopwords_en,\n",
    "                                            keep_tags=['NN', 'JJ'],\n",
    "                                            stemmer=None,\n",
    "                                            lemmatizer=lemmatizer))\\\n",
    "    .apply(lambda x: ' '.join(x))"
   ]
  },
  {
   "cell_type": "code",
   "execution_count": 21,
   "id": "808e3a6a",
   "metadata": {},
   "outputs": [
    {
     "data": {
      "text/html": [
       "<div>\n",
       "<style scoped>\n",
       "    .dataframe tbody tr th:only-of-type {\n",
       "        vertical-align: middle;\n",
       "    }\n",
       "\n",
       "    .dataframe tbody tr th {\n",
       "        vertical-align: top;\n",
       "    }\n",
       "\n",
       "    .dataframe thead th {\n",
       "        text-align: right;\n",
       "    }\n",
       "</style>\n",
       "<table border=\"1\" class=\"dataframe\">\n",
       "  <thead>\n",
       "    <tr style=\"text-align: right;\">\n",
       "      <th></th>\n",
       "      <th>uniq_id</th>\n",
       "      <th>crawl_timestamp</th>\n",
       "      <th>product_url</th>\n",
       "      <th>product_name</th>\n",
       "      <th>pid</th>\n",
       "      <th>retail_price</th>\n",
       "      <th>discounted_price</th>\n",
       "      <th>image</th>\n",
       "      <th>is_FK_Advantage_product</th>\n",
       "      <th>description</th>\n",
       "      <th>product_rating</th>\n",
       "      <th>overall_rating</th>\n",
       "      <th>brand</th>\n",
       "      <th>product_specifications</th>\n",
       "      <th>cat_lvl_1</th>\n",
       "      <th>cat_lvl_2</th>\n",
       "      <th>cat_lvl_3</th>\n",
       "      <th>desc_clean</th>\n",
       "      <th>pname_clean</th>\n",
       "    </tr>\n",
       "  </thead>\n",
       "  <tbody>\n",
       "    <tr>\n",
       "      <th>0</th>\n",
       "      <td>55b85ea15a1536d46b7190ad6fff8ce7</td>\n",
       "      <td>2016-04-30 03:22:56 +0000</td>\n",
       "      <td>http://www.flipkart.com/elegance-polyester-mul...</td>\n",
       "      <td>Elegance Polyester Multicolor Abstract Eyelet ...</td>\n",
       "      <td>CRNEG7BKMFFYHQ8Z</td>\n",
       "      <td>1899.0</td>\n",
       "      <td>899.0</td>\n",
       "      <td>55b85ea15a1536d46b7190ad6fff8ce7.jpg</td>\n",
       "      <td>False</td>\n",
       "      <td>Key Features of Elegance Polyester Multicolor ...</td>\n",
       "      <td>No rating available</td>\n",
       "      <td>No rating available</td>\n",
       "      <td>Elegance</td>\n",
       "      <td>{\"product_specification\"=&gt;[{\"key\"=&gt;\"Brand\", \"v...</td>\n",
       "      <td>Home Furnishing</td>\n",
       "      <td>Curtains &amp; Accessories</td>\n",
       "      <td>Curtains</td>\n",
       "      <td>key elegance polyester multicolor abstract eye...</td>\n",
       "      <td>elegance polyester multicolor abstract eyelet ...</td>\n",
       "    </tr>\n",
       "    <tr>\n",
       "      <th>1</th>\n",
       "      <td>7b72c92c2f6c40268628ec5f14c6d590</td>\n",
       "      <td>2016-04-30 03:22:56 +0000</td>\n",
       "      <td>http://www.flipkart.com/sathiyas-cotton-bath-t...</td>\n",
       "      <td>Sathiyas Cotton Bath Towel</td>\n",
       "      <td>BTWEGFZHGBXPHZUH</td>\n",
       "      <td>600.0</td>\n",
       "      <td>449.0</td>\n",
       "      <td>7b72c92c2f6c40268628ec5f14c6d590.jpg</td>\n",
       "      <td>False</td>\n",
       "      <td>Specifications of Sathiyas Cotton Bath Towel (...</td>\n",
       "      <td>No rating available</td>\n",
       "      <td>No rating available</td>\n",
       "      <td>Sathiyas</td>\n",
       "      <td>{\"product_specification\"=&gt;[{\"key\"=&gt;\"Machine Wa...</td>\n",
       "      <td>Baby Care</td>\n",
       "      <td>Baby Bath &amp; Skin</td>\n",
       "      <td>Baby Bath Towels</td>\n",
       "      <td>sathiyas cotton bath towel bath towel yellow b...</td>\n",
       "      <td>sathiyas cotton bath towel</td>\n",
       "    </tr>\n",
       "    <tr>\n",
       "      <th>2</th>\n",
       "      <td>64d5d4a258243731dc7bbb1eef49ad74</td>\n",
       "      <td>2016-04-30 03:22:56 +0000</td>\n",
       "      <td>http://www.flipkart.com/eurospa-cotton-terry-f...</td>\n",
       "      <td>Eurospa Cotton Terry Face Towel Set</td>\n",
       "      <td>BTWEG6SHXTDB2A2Y</td>\n",
       "      <td>NaN</td>\n",
       "      <td>NaN</td>\n",
       "      <td>64d5d4a258243731dc7bbb1eef49ad74.jpg</td>\n",
       "      <td>False</td>\n",
       "      <td>Key Features of Eurospa Cotton Terry Face Towe...</td>\n",
       "      <td>No rating available</td>\n",
       "      <td>No rating available</td>\n",
       "      <td>Eurospa</td>\n",
       "      <td>{\"product_specification\"=&gt;[{\"key\"=&gt;\"Material\",...</td>\n",
       "      <td>Baby Care</td>\n",
       "      <td>Baby Bath &amp; Skin</td>\n",
       "      <td>Baby Bath Towels</td>\n",
       "      <td>key eurospa cotton terry face towel size small...</td>\n",
       "      <td>eurospa cotton terry face towel set</td>\n",
       "    </tr>\n",
       "  </tbody>\n",
       "</table>\n",
       "</div>"
      ],
      "text/plain": [
       "                            uniq_id            crawl_timestamp  \\\n",
       "0  55b85ea15a1536d46b7190ad6fff8ce7  2016-04-30 03:22:56 +0000   \n",
       "1  7b72c92c2f6c40268628ec5f14c6d590  2016-04-30 03:22:56 +0000   \n",
       "2  64d5d4a258243731dc7bbb1eef49ad74  2016-04-30 03:22:56 +0000   \n",
       "\n",
       "                                         product_url  \\\n",
       "0  http://www.flipkart.com/elegance-polyester-mul...   \n",
       "1  http://www.flipkart.com/sathiyas-cotton-bath-t...   \n",
       "2  http://www.flipkart.com/eurospa-cotton-terry-f...   \n",
       "\n",
       "                                        product_name               pid  \\\n",
       "0  Elegance Polyester Multicolor Abstract Eyelet ...  CRNEG7BKMFFYHQ8Z   \n",
       "1                         Sathiyas Cotton Bath Towel  BTWEGFZHGBXPHZUH   \n",
       "2                Eurospa Cotton Terry Face Towel Set  BTWEG6SHXTDB2A2Y   \n",
       "\n",
       "   retail_price  discounted_price                                 image  \\\n",
       "0        1899.0             899.0  55b85ea15a1536d46b7190ad6fff8ce7.jpg   \n",
       "1         600.0             449.0  7b72c92c2f6c40268628ec5f14c6d590.jpg   \n",
       "2           NaN               NaN  64d5d4a258243731dc7bbb1eef49ad74.jpg   \n",
       "\n",
       "   is_FK_Advantage_product                                        description  \\\n",
       "0                    False  Key Features of Elegance Polyester Multicolor ...   \n",
       "1                    False  Specifications of Sathiyas Cotton Bath Towel (...   \n",
       "2                    False  Key Features of Eurospa Cotton Terry Face Towe...   \n",
       "\n",
       "        product_rating       overall_rating     brand  \\\n",
       "0  No rating available  No rating available  Elegance   \n",
       "1  No rating available  No rating available  Sathiyas   \n",
       "2  No rating available  No rating available   Eurospa   \n",
       "\n",
       "                              product_specifications        cat_lvl_1  \\\n",
       "0  {\"product_specification\"=>[{\"key\"=>\"Brand\", \"v...  Home Furnishing   \n",
       "1  {\"product_specification\"=>[{\"key\"=>\"Machine Wa...        Baby Care   \n",
       "2  {\"product_specification\"=>[{\"key\"=>\"Material\",...        Baby Care   \n",
       "\n",
       "                cat_lvl_2         cat_lvl_3  \\\n",
       "0  Curtains & Accessories          Curtains   \n",
       "1        Baby Bath & Skin  Baby Bath Towels   \n",
       "2        Baby Bath & Skin  Baby Bath Towels   \n",
       "\n",
       "                                          desc_clean  \\\n",
       "0  key elegance polyester multicolor abstract eye...   \n",
       "1  sathiyas cotton bath towel bath towel yellow b...   \n",
       "2  key eurospa cotton terry face towel size small...   \n",
       "\n",
       "                                         pname_clean  \n",
       "0  elegance polyester multicolor abstract eyelet ...  \n",
       "1                         sathiyas cotton bath towel  \n",
       "2                eurospa cotton terry face towel set  "
      ]
     },
     "execution_count": 21,
     "metadata": {},
     "output_type": "execute_result"
    }
   ],
   "source": [
    "df.head(3)"
   ]
  },
  {
   "cell_type": "code",
   "execution_count": 22,
   "id": "11e452c1",
   "metadata": {},
   "outputs": [
    {
     "data": {
      "text/plain": [
       "'elegance polyester multicolor abstract eyelet door curtain'"
      ]
     },
     "execution_count": 22,
     "metadata": {},
     "output_type": "execute_result"
    }
   ],
   "source": [
    "df['pname_clean'][0]"
   ]
  },
  {
   "cell_type": "code",
   "execution_count": 23,
   "id": "a514bee3",
   "metadata": {},
   "outputs": [
    {
     "data": {
      "text/plain": [
       "'key elegance polyester multicolor abstract eyelet door floral curtain elegance polyester multicolor abstract eyelet door curtain cm height pack price r curtain look curtain high quality polyester fabric eyelet style stitch metal room environment romantic curtain ant wrinkle anti shrinkage elegant apparance home bright modernistic appeal surreal attention sure contemporary eyelet valance first thing morning bright sun good morning whole world evening special joyous beauty soothe home elegant curtain light room right amount sunlight elegance polyester multicolor abstract eyelet door curtain cm height pack general brand elegance door type eyelet model name abstract polyester door curtain set model -PRON- duster color multicolor cm box number pack package body design material polyester'"
      ]
     },
     "execution_count": 23,
     "metadata": {},
     "output_type": "execute_result"
    }
   ],
   "source": [
    "df['desc_clean'][0]"
   ]
  },
  {
   "cell_type": "code",
   "execution_count": 24,
   "id": "6fb57a50",
   "metadata": {},
   "outputs": [],
   "source": [
    "sentence_tokenized = tokenize_clean(sentence,\n",
    "                                    stopwords=stopwords_en,\n",
    "                                    keep_tags=['NN', 'JJ'],\n",
    "                                    stemmer=None,\n",
    "                                    lemmatizer=lemmatizer)"
   ]
  },
  {
   "cell_type": "code",
   "execution_count": 25,
   "id": "c8f56992",
   "metadata": {},
   "outputs": [
    {
     "data": {
      "text/plain": [
       "Counter({'Key': 1,\n",
       "         'Features': 1,\n",
       "         'of': 9,\n",
       "         'Elegance': 4,\n",
       "         'Polyester': 5,\n",
       "         'Multicolor': 4,\n",
       "         'Abstract': 4,\n",
       "         'Eyelet': 4,\n",
       "         'Door': 5,\n",
       "         'Curtain': 5,\n",
       "         'Floral': 1,\n",
       "         ',': 5,\n",
       "         '(': 2,\n",
       "         '213': 3,\n",
       "         'cm': 3,\n",
       "         'in': 6,\n",
       "         'Height': 2,\n",
       "         'Pack': 3,\n",
       "         '2': 5,\n",
       "         ')': 2,\n",
       "         'Price': 1,\n",
       "         ':': 1,\n",
       "         'Rs': 1,\n",
       "         '.': 4,\n",
       "         '899': 1,\n",
       "         'This': 1,\n",
       "         'curtain': 4,\n",
       "         'enhances': 1,\n",
       "         'the': 12,\n",
       "         'look': 1,\n",
       "         'interiors.This': 1,\n",
       "         'is': 3,\n",
       "         'made': 1,\n",
       "         'from': 1,\n",
       "         '100': 1,\n",
       "         '%': 1,\n",
       "         'high': 1,\n",
       "         'quality': 1,\n",
       "         'polyester': 1,\n",
       "         'fabric.It': 1,\n",
       "         'features': 1,\n",
       "         'an': 1,\n",
       "         'eyelet': 2,\n",
       "         'style': 1,\n",
       "         'stitch': 1,\n",
       "         'with': 2,\n",
       "         'Metal': 1,\n",
       "         'Ring.It': 1,\n",
       "         'makes': 1,\n",
       "         'room': 2,\n",
       "         'environment': 1,\n",
       "         'romantic': 1,\n",
       "         'and': 6,\n",
       "         'loving.This': 1,\n",
       "         'ant-': 1,\n",
       "         'wrinkle': 1,\n",
       "         'anti': 1,\n",
       "         'shrinkage': 1,\n",
       "         'have': 1,\n",
       "         'elegant': 2,\n",
       "         'apparance.Give': 1,\n",
       "         'your': 2,\n",
       "         'home': 2,\n",
       "         'a': 1,\n",
       "         'bright': 2,\n",
       "         'modernistic': 1,\n",
       "         'appeal': 1,\n",
       "         'these': 1,\n",
       "         'designs': 1,\n",
       "         'The': 1,\n",
       "         'surreal': 1,\n",
       "         'attention': 1,\n",
       "         'sure': 1,\n",
       "         'to': 4,\n",
       "         'steal': 1,\n",
       "         'hearts': 1,\n",
       "         'These': 1,\n",
       "         'contemporary': 1,\n",
       "         'valance': 1,\n",
       "         'curtains': 1,\n",
       "         'slide': 1,\n",
       "         'smoothly': 1,\n",
       "         'so': 2,\n",
       "         'when': 2,\n",
       "         'you': 5,\n",
       "         'draw': 2,\n",
       "         'them': 2,\n",
       "         'apart': 1,\n",
       "         'first': 1,\n",
       "         'thing': 1,\n",
       "         'morning': 2,\n",
       "         'welcome': 1,\n",
       "         'sun': 1,\n",
       "         'rays': 1,\n",
       "         'want': 1,\n",
       "         'wish': 1,\n",
       "         'good': 1,\n",
       "         'whole': 1,\n",
       "         'world': 1,\n",
       "         'close': 1,\n",
       "         'evening': 1,\n",
       "         'create': 1,\n",
       "         'most': 1,\n",
       "         'special': 1,\n",
       "         'moments': 1,\n",
       "         'joyous': 1,\n",
       "         'beauty': 1,\n",
       "         'given': 1,\n",
       "         'by': 1,\n",
       "         'soothing': 1,\n",
       "         'prints': 1,\n",
       "         'Bring': 1,\n",
       "         'that': 2,\n",
       "         'softly': 1,\n",
       "         'filters': 1,\n",
       "         'light': 1,\n",
       "         'get': 1,\n",
       "         'right': 1,\n",
       "         'amount': 1,\n",
       "         'sunlight.': 1,\n",
       "         'Specifications': 1,\n",
       "         'General': 1,\n",
       "         'Brand': 1,\n",
       "         'Designed': 1,\n",
       "         'For': 1,\n",
       "         'Type': 1,\n",
       "         'Model': 2,\n",
       "         'Name': 1,\n",
       "         'Set': 1,\n",
       "         'Of': 1,\n",
       "         'ID': 1,\n",
       "         'Duster25': 1,\n",
       "         'Color': 1,\n",
       "         'Dimensions': 1,\n",
       "         'Length': 1,\n",
       "         'In': 1,\n",
       "         'Box': 1,\n",
       "         'Number': 1,\n",
       "         'Contents': 1,\n",
       "         'Sales': 2,\n",
       "         'Package': 2,\n",
       "         'Curtains': 1,\n",
       "         'Body': 1,\n",
       "         '&': 1,\n",
       "         'Design': 1,\n",
       "         'Material': 1})"
      ]
     },
     "execution_count": 25,
     "metadata": {},
     "output_type": "execute_result"
    }
   ],
   "source": [
    "Counter(tokens)"
   ]
  },
  {
   "cell_type": "code",
   "execution_count": 26,
   "id": "fd987d29",
   "metadata": {
    "scrolled": true
   },
   "outputs": [
    {
     "data": {
      "text/plain": [
       "Counter({'key': 1,\n",
       "         'elegance': 4,\n",
       "         'polyester': 6,\n",
       "         'multicolor': 4,\n",
       "         'abstract': 4,\n",
       "         'eyelet': 6,\n",
       "         'door': 5,\n",
       "         'floral': 1,\n",
       "         'curtain': 8,\n",
       "         'cm': 3,\n",
       "         'height': 2,\n",
       "         'pack': 3,\n",
       "         'price': 1,\n",
       "         'r': 1,\n",
       "         'look': 1,\n",
       "         'high': 1,\n",
       "         'quality': 1,\n",
       "         'fabric': 1,\n",
       "         'style': 1,\n",
       "         'stitch': 1,\n",
       "         'metal': 1,\n",
       "         'room': 2,\n",
       "         'environment': 1,\n",
       "         'romantic': 1,\n",
       "         'ant': 1,\n",
       "         'wrinkle': 1,\n",
       "         'anti': 1,\n",
       "         'shrinkage': 1,\n",
       "         'elegant': 2,\n",
       "         'apparance': 1,\n",
       "         'home': 2,\n",
       "         'bright': 2,\n",
       "         'modernistic': 1,\n",
       "         'appeal': 1,\n",
       "         'surreal': 1,\n",
       "         'attention': 1,\n",
       "         'sure': 1,\n",
       "         'contemporary': 1,\n",
       "         'valance': 1,\n",
       "         'first': 1,\n",
       "         'thing': 1,\n",
       "         'morning': 2,\n",
       "         'sun': 1,\n",
       "         'good': 1,\n",
       "         'whole': 1,\n",
       "         'world': 1,\n",
       "         'evening': 1,\n",
       "         'special': 1,\n",
       "         'joyous': 1,\n",
       "         'beauty': 1,\n",
       "         'soothe': 1,\n",
       "         'light': 1,\n",
       "         'right': 1,\n",
       "         'amount': 1,\n",
       "         'sunlight': 1,\n",
       "         'general': 1,\n",
       "         'brand': 1,\n",
       "         'type': 1,\n",
       "         'model': 2,\n",
       "         'name': 1,\n",
       "         'set': 1,\n",
       "         '-PRON-': 1,\n",
       "         'duster': 1,\n",
       "         'color': 1,\n",
       "         'box': 1,\n",
       "         'number': 1,\n",
       "         'package': 1,\n",
       "         'body': 1,\n",
       "         'design': 1,\n",
       "         'material': 1})"
      ]
     },
     "execution_count": 26,
     "metadata": {},
     "output_type": "execute_result"
    }
   ],
   "source": [
    "Counter(sentence_tokenized)"
   ]
  },
  {
   "cell_type": "code",
   "execution_count": 27,
   "id": "35858a8b",
   "metadata": {},
   "outputs": [],
   "source": [
    "df.to_csv(\n",
    "    r'C:\\Users\\Damien\\Desktop\\Data Scientist\\P6\\Dataset\\df_clean.csv', index=False)"
   ]
  },
  {
   "cell_type": "markdown",
   "id": "a783717b",
   "metadata": {},
   "source": [
    "#### Evaluation des frequences"
   ]
  },
  {
   "cell_type": "code",
   "execution_count": 28,
   "id": "c4361668",
   "metadata": {},
   "outputs": [
    {
     "data": {
      "image/png": "[encoded data removed]",
      "text/plain": [
       "<Figure size 1800x576 with 2 Axes>"
      ]
     },
     "metadata": {
      "needs_background": "light"
     },
     "output_type": "display_data"
    }
   ],
   "source": [
    "# creation of a corpus of all the cleaned descriptions and product_names\n",
    "corpus_desc = ' '.join(df['desc_clean'].values)\n",
    "corpus_pname = ' '.join(df['pname_clean'].values)\n",
    "# tokenizing the words in the cleaned corpus\n",
    "tokenizer = nltk.RegexpTokenizer(r'[a-z]+')\n",
    "li_words_desc = tokenizer.tokenize(corpus_desc.lower())\n",
    "li_words_pname = tokenizer.tokenize(corpus_pname.lower())\n",
    "# counting frequency of each word\n",
    "ser_freq_desc = pd.Series(nltk.FreqDist(li_words_desc))\n",
    "ser_freq_pname = pd.Series(nltk.FreqDist(li_words_pname))\n",
    "\n",
    "fig = plt.figure(figsize=(25, 8))\n",
    "# plotting the most frequent words\n",
    "ax = fig.add_subplot(1, 2, 1)\n",
    "ser_freq_desc.sort_values(ascending=False)[0:20].plot.bar(width=0.8,\n",
    "                                                          color='red',\n",
    "                                                          ec='k',\n",
    "                                                          ax=ax)\n",
    "ax.set_title(\"Top 20 words frequ. on descriptions\", fontweight='bold')\n",
    "ax = fig.add_subplot(1, 2, 2)\n",
    "ser_freq_pname.sort_values(ascending=False)[0:20].plot.bar(width=0.8,\n",
    "                                                           color='green',\n",
    "                                                           ec='k',\n",
    "                                                           ax=ax)\n",
    "ax.set_title(\"Top 20 words freq. on product names\", fontweight='bold')\n",
    "plt.show()"
   ]
  },
  {
   "cell_type": "code",
   "execution_count": 29,
   "id": "7376e3ab",
   "metadata": {},
   "outputs": [],
   "source": [
    "from wordcloud import WordCloud"
   ]
  },
  {
   "cell_type": "code",
   "execution_count": 30,
   "id": "af9564d4",
   "metadata": {},
   "outputs": [],
   "source": [
    "text_cloud = df['desc_clean'][0]"
   ]
  },
  {
   "cell_type": "code",
   "execution_count": 31,
   "id": "16c14451",
   "metadata": {},
   "outputs": [],
   "source": [
    "wordcloud = WordCloud(\n",
    "    max_words=20, background_color=\"white\").generate(text_cloud)"
   ]
  },
  {
   "cell_type": "code",
   "execution_count": 32,
   "id": "18541ef6",
   "metadata": {},
   "outputs": [
    {
     "data": {
      "image/png": "[encoded data removed]",
      "text/plain": [
       "<Figure size 432x288 with 1 Axes>"
      ]
     },
     "metadata": {
      "needs_background": "light"
     },
     "output_type": "display_data"
    }
   ],
   "source": [
    "plt.imshow(wordcloud, interpolation='bilinear')\n",
    "plt.axis(\"off\")\n",
    "plt.show()"
   ]
  },
  {
   "cell_type": "code",
   "execution_count": 33,
   "id": "d5e0bc7d",
   "metadata": {},
   "outputs": [],
   "source": [
    "def plot_wordclouds_from_gb(gb, n_top_words, n_rows=1, figsize=(18, 8),\n",
    "                            backgnd_color='black', cmap='Dark2',\n",
    "                            random_state=None):\n",
    "\n",
    "    fig = plt.figure(figsize=figsize)\n",
    "\n",
    "    for i, tup in enumerate(gb, 1):\n",
    "        n_topic, ser_texts = tup\n",
    "        # creation of a corpus of all the cleaned descriptions and product_names\n",
    "        corpus = ' '.join(ser_texts.values)\n",
    "        # tokenizing the words in the cleaned corpus\n",
    "        tokenizer = nltk.RegexpTokenizer(r'[a-z]+')\n",
    "        li_words = tokenizer.tokenize(corpus.lower())\n",
    "        # counting frequency of each word\n",
    "        ser_freq = pd.Series(nltk.FreqDist(li_words))\n",
    "\n",
    "        wc = WordCloud(stopwords=None, background_color=backgnd_color,\n",
    "                       colormap=cmap, max_font_size=150,\n",
    "                       random_state=14)\n",
    "        ser_topic = ser_freq\\\n",
    "            .sort_values(ascending=False)[0:n_top_words]\n",
    "        wc.generate(' '.join(list(ser_topic.index)))\n",
    "\n",
    "        n_tot = len(gb)\n",
    "        n_cols = (n_tot//n_rows)+((n_tot % n_rows) > 0)*1\n",
    "        ax = fig.add_subplot(n_rows, n_cols, i)\n",
    "        plt.imshow(wc, interpolation=\"bilinear\")\n",
    "        plt.axis(\"off\")\n",
    "        plt.tight_layout()\n",
    "        plt.title(n_topic, fontweight='bold')"
   ]
  },
  {
   "cell_type": "code",
   "execution_count": 34,
   "id": "f4822a02",
   "metadata": {},
   "outputs": [
    {
     "data": {
      "image/png": "[encoded data removed]",
      "text/plain": [
       "<Figure size 1080x360 with 7 Axes>"
      ]
     },
     "metadata": {
      "needs_background": "light"
     },
     "output_type": "display_data"
    }
   ],
   "source": [
    "gb = df.groupby('cat_lvl_1')['desc_clean']\n",
    "\n",
    "plot_wordclouds_from_gb(gb, n_top_words=10, n_rows=2, figsize=(15, 5),\n",
    "                        backgnd_color='beige', cmap='tab10', random_state=14)"
   ]
  },
  {
   "cell_type": "markdown",
   "id": "6e7ced94",
   "metadata": {},
   "source": [
    "### TF-IDF"
   ]
  },
  {
   "cell_type": "markdown",
   "id": "1cf90867",
   "metadata": {},
   "source": [
    "#### Train - Test set"
   ]
  },
  {
   "cell_type": "code",
   "execution_count": 35,
   "id": "cb1d840f",
   "metadata": {},
   "outputs": [],
   "source": [
    "train_NLP, test_NLP = train_test_split(df, test_size=0.25, random_state=42)"
   ]
  },
  {
   "cell_type": "code",
   "execution_count": 36,
   "id": "667d7c66",
   "metadata": {},
   "outputs": [],
   "source": [
    "train_NLP.to_csv('C:/Users/Damien/Desktop/Data Scientist/P6/Dataset/train.csv')\n",
    "test_NLP.to_csv('C:/Users/Damien/Desktop/Data Scientist/P6/Dataset/test.csv')"
   ]
  },
  {
   "cell_type": "markdown",
   "id": "f0786623",
   "metadata": {},
   "source": [
    "#### Model"
   ]
  },
  {
   "cell_type": "code",
   "execution_count": 37,
   "id": "cfd39106",
   "metadata": {},
   "outputs": [
    {
     "data": {
      "text/plain": [
       "<787x2842 sparse matrix of type '<class 'numpy.float64'>'\n",
       "\twith 18225 stored elements in Compressed Sparse Row format>"
      ]
     },
     "execution_count": 37,
     "metadata": {},
     "output_type": "execute_result"
    }
   ],
   "source": [
    "vectorizer = TfidfVectorizer(stop_words='english')\n",
    "X1 = vectorizer.fit_transform(train_NLP['desc_clean'])\n",
    "X1"
   ]
  },
  {
   "cell_type": "code",
   "execution_count": 38,
   "id": "0c9cc823",
   "metadata": {
    "scrolled": true
   },
   "outputs": [
    {
     "name": "stdout",
     "output_type": "stream",
     "text": [
      "  (0, 2297)\t0.17885963608855535\n",
      "  (0, 1982)\t0.18982745125207995\n",
      "  (0, 2169)\t0.2190239988450008\n",
      "  (0, 1463)\t0.20674605981149205\n",
      "  (0, 1867)\t0.23485301530455685\n",
      "  (0, 1845)\t0.19491007177242106\n",
      "  (0, 1850)\t0.2571627609738687\n",
      "  (0, 664)\t0.16860729768262414\n",
      "  (0, 590)\t0.2544781991410078\n",
      "  (0, 861)\t0.24272679621158302\n",
      "  (0, 634)\t0.09414771219864629\n",
      "  (0, 2404)\t0.2571627609738687\n",
      "  (0, 988)\t0.23485301530455685\n",
      "  (0, 2560)\t0.2571627609738687\n",
      "  (0, 1964)\t0.058335569074059145\n",
      "  (0, 1639)\t0.29104453701424193\n",
      "  (0, 397)\t0.28720505848726346\n",
      "  (0, 618)\t0.13147998539881078\n",
      "  (0, 2132)\t0.38171729871151167\n",
      "  (1, 1099)\t0.06616294435058019\n",
      "  (1, 2088)\t0.06474084377723027\n",
      "  (1, 1035)\t0.05954473719736046\n",
      "  (1, 651)\t0.059372050861654306\n",
      "  (1, 379)\t0.05954473719736046\n",
      "  (1, 982)\t0.05760606272478218\n",
      "  :\t:\n",
      "  (785, 2741)\t0.6295247693936198\n",
      "  (785, 1099)\t0.09321067528736462\n",
      "  (785, 2088)\t0.091207213136918\n",
      "  (785, 1035)\t0.08388691311205163\n",
      "  (785, 651)\t0.08364363176896658\n",
      "  (785, 379)\t0.08388691311205163\n",
      "  (785, 982)\t0.08115569915951217\n",
      "  (785, 1749)\t0.11261940228743132\n",
      "  (785, 2153)\t0.06977416093123379\n",
      "  (785, 634)\t0.08887395950015828\n",
      "  (786, 892)\t0.35959576053806985\n",
      "  (786, 1848)\t0.35959576053806985\n",
      "  (786, 722)\t0.35959576053806985\n",
      "  (786, 1584)\t0.26311378362336796\n",
      "  (786, 2668)\t0.4212233012914426\n",
      "  (786, 891)\t0.590044275392262\n",
      "  (786, 1099)\t0.04625045548084717\n",
      "  (786, 2088)\t0.04525635221197669\n",
      "  (786, 1035)\t0.0416240728688356\n",
      "  (786, 651)\t0.04150335844537512\n",
      "  (786, 379)\t0.0416240728688356\n",
      "  (786, 982)\t0.04026886447740236\n",
      "  (786, 1749)\t0.05588092389328003\n",
      "  (786, 2153)\t0.03462142843525723\n",
      "  (786, 634)\t0.04409860881917554\n"
     ]
    }
   ],
   "source": [
    "print(X1)"
   ]
  },
  {
   "cell_type": "code",
   "execution_count": 39,
   "id": "0ff2fac8",
   "metadata": {},
   "outputs": [],
   "source": [
    "# nltk.download('wordnet')"
   ]
  },
  {
   "cell_type": "code",
   "execution_count": 40,
   "id": "6af57289",
   "metadata": {},
   "outputs": [
    {
     "name": "stdout",
     "output_type": "stream",
     "text": [
      "======== PRE TRAITEMENT ========\n",
      "Key Features of Mom and Kid Baby Girl's Printed Green Top & Pyjama Set Fabric: Cotton Brand Color: Green,Mom and Kid Baby Girl's Printed Green Top & Pyjama Set Price: Rs. 309 Girls Pyjama set,Specifications of Mom and Kid Baby Girl's Printed Green Top & Pyjama Set General Details Pattern Printed Ideal For Baby Girl's Night Suit Details Fabric Cotton Type Top & Pyjama Set Neck Round Neck In the Box 1 Top & Pyjama Set \n",
      "\n",
      "======== LOWERCASE ========\n",
      "key features of mom and kid baby girl's printed green top & pyjama set fabric: cotton brand color: green,mom and kid baby girl's printed green top & pyjama set price: rs. 309 girls pyjama set,specifications of mom and kid baby girl's printed green top & pyjama set general details pattern printed ideal for baby girl's night suit details fabric cotton type top & pyjama set neck round neck in the box 1 top & pyjama set \n",
      "\n",
      "======== TOKENIZER ========\n",
      "['key', 'features', 'of', 'mom', 'and', 'kid', 'baby', 'girl', \"'s\", 'printed', 'green', 'top', '&', 'pyjama', 'set', 'fabric', ':', 'cotton', 'brand', 'color', ':', 'green', ',', 'mom', 'and', 'kid', 'baby', 'girl', \"'s\", 'printed', 'green', 'top', '&', 'pyjama', 'set', 'price', ':', 'rs', '.', '309', 'girls', 'pyjama', 'set', ',', 'specifications', 'of', 'mom', 'and', 'kid', 'baby', 'girl', \"'s\", 'printed', 'green', 'top', '&', 'pyjama', 'set', 'general', 'details', 'pattern', 'printed', 'ideal', 'for', 'baby', 'girl', \"'s\", 'night', 'suit', 'details', 'fabric', 'cotton', 'type', 'top', '&', 'pyjama', 'set', 'neck', 'round', 'neck', 'in', 'the', 'box', '1', 'top', '&', 'pyjama', 'set'] \n",
      "\n",
      "======== STOPWORDS ========\n",
      "['key', 'features', 'mom', 'kid', 'baby', 'girl', \"'s\", 'printed', 'green', 'top', 'pyjama', 'set', 'fabric', 'cotton', 'brand', 'color', 'green', 'mom', 'kid', 'baby', 'girl', \"'s\", 'printed', 'green', 'top', 'pyjama', 'set', 'price', 'rs', '309', 'girls', 'pyjama', 'set', 'specifications', 'mom', 'kid', 'baby', 'girl', \"'s\", 'printed', 'green', 'top', 'pyjama', 'set', 'general', 'details', 'pattern', 'printed', 'ideal', 'baby', 'girl', \"'s\", 'night', 'suit', 'details', 'fabric', 'cotton', 'type', 'top', 'pyjama', 'set', 'neck', 'round', 'neck', 'box', '1', 'top', 'pyjama', 'set'] \n",
      "\n",
      "======== LEMMATISATION ========\n",
      "['key', 'feature', 'mom', 'kid', 'baby', 'girl', \"'s\", 'printed', 'green', 'top', 'pyjama', 'set', 'fabric', 'cotton', 'brand', 'color', 'green', 'mom', 'kid', 'baby', 'girl', \"'s\", 'printed', 'green', 'top', 'pyjama', 'set', 'price', 'r', '309', 'girl', 'pyjama', 'set', 'specification', 'mom', 'kid', 'baby', 'girl', \"'s\", 'printed', 'green', 'top', 'pyjama', 'set', 'general', 'detail', 'pattern', 'printed', 'ideal', 'baby', 'girl', \"'s\", 'night', 'suit', 'detail', 'fabric', 'cotton', 'type', 'top', 'pyjama', 'set', 'neck', 'round', 'neck', 'box', '1', 'top', 'pyjama', 'set'] \n",
      "\n"
     ]
    },
    {
     "data": {
      "text/html": [
       "<div>\n",
       "<style scoped>\n",
       "    .dataframe tbody tr th:only-of-type {\n",
       "        vertical-align: middle;\n",
       "    }\n",
       "\n",
       "    .dataframe tbody tr th {\n",
       "        vertical-align: top;\n",
       "    }\n",
       "\n",
       "    .dataframe thead th {\n",
       "        text-align: right;\n",
       "    }\n",
       "</style>\n",
       "<table border=\"1\" class=\"dataframe\">\n",
       "  <thead>\n",
       "    <tr style=\"text-align: right;\">\n",
       "      <th></th>\n",
       "      <th>mot</th>\n",
       "      <th>tfidf</th>\n",
       "    </tr>\n",
       "  </thead>\n",
       "  <tbody>\n",
       "    <tr>\n",
       "      <th>4</th>\n",
       "      <td>fan</td>\n",
       "      <td>0.659088</td>\n",
       "    </tr>\n",
       "    <tr>\n",
       "      <th>12</th>\n",
       "      <td>usb</td>\n",
       "      <td>0.470512</td>\n",
       "    </tr>\n",
       "    <tr>\n",
       "      <th>3</th>\n",
       "      <td>epresent</td>\n",
       "      <td>0.401673</td>\n",
       "    </tr>\n",
       "    <tr>\n",
       "      <th>8</th>\n",
       "      <td>mfan</td>\n",
       "      <td>0.401673</td>\n",
       "    </tr>\n",
       "    <tr>\n",
       "      <th>9</th>\n",
       "      <td>online</td>\n",
       "      <td>0.062420</td>\n",
       "    </tr>\n",
       "    <tr>\n",
       "      <th>7</th>\n",
       "      <td>guarantee</td>\n",
       "      <td>0.051662</td>\n",
       "    </tr>\n",
       "    <tr>\n",
       "      <th>10</th>\n",
       "      <td>replacement</td>\n",
       "      <td>0.050552</td>\n",
       "    </tr>\n",
       "    <tr>\n",
       "      <th>1</th>\n",
       "      <td>day</td>\n",
       "      <td>0.049259</td>\n",
       "    </tr>\n",
       "    <tr>\n",
       "      <th>0</th>\n",
       "      <td>cash</td>\n",
       "      <td>0.046495</td>\n",
       "    </tr>\n",
       "    <tr>\n",
       "      <th>6</th>\n",
       "      <td>genuine</td>\n",
       "      <td>0.046495</td>\n",
       "    </tr>\n",
       "  </tbody>\n",
       "</table>\n",
       "</div>"
      ],
      "text/plain": [
       "            mot     tfidf\n",
       "4           fan  0.659088\n",
       "12          usb  0.470512\n",
       "3      epresent  0.401673\n",
       "8          mfan  0.401673\n",
       "9        online  0.062420\n",
       "7     guarantee  0.051662\n",
       "10  replacement  0.050552\n",
       "1           day  0.049259\n",
       "0          cash  0.046495\n",
       "6       genuine  0.046495"
      ]
     },
     "execution_count": 40,
     "metadata": {},
     "output_type": "execute_result"
    }
   ],
   "source": [
    "def affiche_liste(liste):\n",
    "    return liste\n",
    "\n",
    "\n",
    "description_example = train_NLP['description'][40]\n",
    "print('======== PRE TRAITEMENT ========')\n",
    "print(affiche_liste(description_example), '\\n')\n",
    "# lowercase\n",
    "description_example = description_example.lower()\n",
    "print('======== LOWERCASE ========')\n",
    "print(affiche_liste(description_example), '\\n')\n",
    "\n",
    "# tokenizer\n",
    "description_example = word_tokenize(description_example)\n",
    "print('======== TOKENIZER ========')\n",
    "print(affiche_liste(description_example), '\\n')\n",
    "\n",
    "# stopwords\n",
    "description_example = [\n",
    "    w for w in description_example if not w in stopwords_combined]\n",
    "print('======== STOPWORDS ========')\n",
    "print(affiche_liste(description_example), '\\n')\n",
    "\n",
    "# lemmatizer\n",
    "lemm = WordNetLemmatizer()\n",
    "description_example = [lemm.lemmatize(el) for el in description_example]\n",
    "print('======== LEMMATISATION ========')\n",
    "print(affiche_liste(description_example), '\\n')\n",
    "\n",
    "transformation = []\n",
    "for i, el in enumerate(X1.todense()[4, :].tolist()[0]):\n",
    "    if el != 0:\n",
    "        transformation.append((vectorizer.get_feature_names()[i], el))\n",
    "pd.DataFrame(transformation, columns=['mot', 'tfidf']).sort_values(\n",
    "    by='tfidf', ascending=False).head(10)"
   ]
  },
  {
   "cell_type": "code",
   "execution_count": 41,
   "id": "f47b6de0",
   "metadata": {},
   "outputs": [],
   "source": [
    "from sklearn.cluster import KMeans"
   ]
  },
  {
   "cell_type": "markdown",
   "id": "9275a893",
   "metadata": {},
   "source": [
    "#### Bag of Words (feature extractor)"
   ]
  },
  {
   "cell_type": "code",
   "execution_count": 42,
   "id": "11915cc5",
   "metadata": {},
   "outputs": [],
   "source": [
    "from sklearn.decomposition import LatentDirichletAllocation\n",
    "from sklearn.feature_extraction.text import CountVectorizer"
   ]
  },
  {
   "cell_type": "code",
   "execution_count": 43,
   "id": "7b406c2d",
   "metadata": {},
   "outputs": [
    {
     "name": "stderr",
     "output_type": "stream",
     "text": [
      "D:\\Users\\Damien\\anaconda3\\lib\\site-packages\\sklearn\\feature_extraction\\text.py:388: UserWarning: Your stop_words may be inconsistent with your preprocessing. Tokenizing the stop words generated tokens [\"'d\", \"'ll\", \"'re\", \"'s\", \"'ve\", '``', 'could', 'might', 'must', \"n't\", 'need', 'sha', 'wo', 'would'] not in stop_words.\n",
      "  warnings.warn('Your stop_words may be inconsistent with '\n"
     ]
    }
   ],
   "source": [
    "bow_vectorizer = CountVectorizer(\n",
    "    tokenizer=nltk.word_tokenize,\n",
    "    stop_words=stopwords_combined)\n",
    "X_bow = bow_vectorizer.fit_transform(df['desc_clean'])"
   ]
  },
  {
   "cell_type": "code",
   "execution_count": 44,
   "id": "8ebbeb7d",
   "metadata": {},
   "outputs": [
    {
     "data": {
      "text/plain": [
       "<1050x3475 sparse matrix of type '<class 'numpy.int64'>'\n",
       "\twith 25485 stored elements in Compressed Sparse Row format>"
      ]
     },
     "execution_count": 44,
     "metadata": {},
     "output_type": "execute_result"
    }
   ],
   "source": [
    "X_bow"
   ]
  },
  {
   "cell_type": "markdown",
   "id": "181011d6",
   "metadata": {},
   "source": [
    "#### Reduction dimensions (LSA)"
   ]
  },
  {
   "cell_type": "code",
   "execution_count": 45,
   "id": "dc9e80b4",
   "metadata": {},
   "outputs": [],
   "source": [
    "from sklearn.decomposition import TruncatedSVD"
   ]
  },
  {
   "cell_type": "code",
   "execution_count": 46,
   "id": "20459199",
   "metadata": {},
   "outputs": [
    {
     "name": "stdout",
     "output_type": "stream",
     "text": [
      "Dimensions dataset avant réduction LSA :  (1050, 3475)\n",
      "Dimensions dataset après réduction LSA :  (1050, 500)\n"
     ]
    }
   ],
   "source": [
    "print(\"Dimensions dataset avant réduction LSA : \", X_bow.shape)\n",
    "svd = TruncatedSVD(n_components=500, n_iter=7, random_state=42)\n",
    "feat_svd = svd.fit_transform(X_bow)\n",
    "print(\"Dimensions dataset après réduction LSA : \", feat_svd.shape)"
   ]
  },
  {
   "cell_type": "markdown",
   "id": "1a120173",
   "metadata": {},
   "source": [
    "#### Clustering K-Means"
   ]
  },
  {
   "cell_type": "code",
   "execution_count": 47,
   "id": "bcd55d84",
   "metadata": {},
   "outputs": [
    {
     "data": {
      "image/png": "[encoded data removed]",
      "text/plain": [
       "<Figure size 864x576 with 1 Axes>"
      ]
     },
     "metadata": {
      "needs_background": "light"
     },
     "output_type": "display_data"
    }
   ],
   "source": [
    "kmeans = KMeans(n_clusters=7, init='k-means++')\n",
    "y_kmeans = kmeans.fit_predict(feat_svd)\n",
    "plt.figure(figsize=(12, 8))\n",
    "plt.plot(y_kmeans, \".\")\n",
    "plt.show()"
   ]
  },
  {
   "cell_type": "code",
   "execution_count": 48,
   "id": "285b358d",
   "metadata": {},
   "outputs": [],
   "source": [
    "def print_cluster(i):\n",
    "    print(\"Cluster %d:\" % i),\n",
    "    for ind in order_centroids[i, :10]:\n",
    "        print(' %s' % terms[ind]),\n",
    "    print"
   ]
  },
  {
   "cell_type": "code",
   "execution_count": 49,
   "id": "2846d637",
   "metadata": {},
   "outputs": [
    {
     "name": "stdout",
     "output_type": "stream",
     "text": [
      "Top terms per cluster:\n",
      "Cluster 0:\n",
      " cm\n",
      " pack\n",
      " baby\n",
      " color\n",
      " box\n",
      " type\n",
      " general\n",
      " price\n",
      " cotton\n",
      " number\n",
      "Cluster 1:\n",
      " adapter\n",
      " vgn\n",
      " replacement\n",
      " cr\n",
      " vaio\n",
      " warranty\n",
      " smartpro\n",
      " e\n",
      " power\n",
      " product\n",
      "Cluster 2:\n",
      " rs\n",
      " free\n",
      " delivery\n",
      " genuine\n",
      " cash\n",
      " day\n",
      " flipkart\n",
      " replacement\n",
      " guarantee\n",
      " com\n",
      "Cluster 3:\n",
      " cm\n",
      " sheet\n",
      " bedsheet\n",
      " cotton\n",
      " inch\n",
      " cover\n",
      " double\n",
      " pillow\n",
      " length\n",
      " flat\n",
      "Cluster 4:\n",
      " battery\n",
      " quality\n",
      " laptop\n",
      " replacement\n",
      " lapguard\n",
      " label\n",
      " etc\n",
      " durability\n",
      " rohs\n",
      " authentication\n",
      "Cluster 5:\n",
      " mug\n",
      " coffee\n",
      " ceramic\n",
      " perfect\n",
      " tea\n",
      " love\n",
      " ml\n",
      " material\n",
      " quality\n",
      " printland\n",
      "Cluster 6:\n",
      " skin\n",
      " laptop\n",
      " print\n",
      " mouse\n",
      " pad\n",
      " combo\n",
      " multicolor\n",
      " warranty\n",
      " easy\n",
      " price\n"
     ]
    }
   ],
   "source": [
    "# # Optimal clusters is\n",
    "\n",
    "true_k = 7\n",
    "\n",
    "model = KMeans(n_clusters=true_k, init='k-means++', max_iter=100, n_init=1)\n",
    "model.fit_predict(X_bow)\n",
    "\n",
    "print(\"Top terms per cluster:\")\n",
    "order_centroids = model.cluster_centers_.argsort()[:, ::-1]\n",
    "terms = bow_vectorizer.get_feature_names()\n",
    "for i in range(true_k):\n",
    "    print_cluster(i)"
   ]
  },
  {
   "cell_type": "code",
   "execution_count": 50,
   "id": "a09d9958",
   "metadata": {},
   "outputs": [],
   "source": [
    "def show_recommendations(product):\n",
    "    #print(\"Cluster ID:\")\n",
    "    Y = bow_vectorizer.transform([product])\n",
    "    prediction = model.predict(Y)\n",
    "    # print(prediction)\n",
    "    print_cluster(prediction[0])"
   ]
  },
  {
   "cell_type": "code",
   "execution_count": 51,
   "id": "e5747959",
   "metadata": {},
   "outputs": [
    {
     "name": "stdout",
     "output_type": "stream",
     "text": [
      "Cluster 2:\n",
      " rs\n",
      " free\n",
      " delivery\n",
      " genuine\n",
      " cash\n",
      " day\n",
      " flipkart\n",
      " replacement\n",
      " guarantee\n",
      " com\n"
     ]
    }
   ],
   "source": [
    "show_recommendations(\"beautiful watch\")"
   ]
  },
  {
   "cell_type": "code",
   "execution_count": 52,
   "id": "28f79808",
   "metadata": {},
   "outputs": [],
   "source": [
    "le = preprocessing.LabelEncoder()\n",
    "df[\"nlp_label\"] = le.fit_transform(df[\"cat_lvl_1\"])"
   ]
  },
  {
   "cell_type": "code",
   "execution_count": 53,
   "id": "7ae2029a",
   "metadata": {},
   "outputs": [
    {
     "name": "stdout",
     "output_type": "stream",
     "text": [
      "ARI :  0.04573344865252744\n"
     ]
    }
   ],
   "source": [
    "from sklearn import cluster, metrics\n",
    "print(\"ARI : \", metrics.adjusted_rand_score(df[\"nlp_label\"], model.labels_))"
   ]
  },
  {
   "cell_type": "code",
   "execution_count": 54,
   "id": "a78cfc3c",
   "metadata": {},
   "outputs": [
    {
     "data": {
      "text/plain": [
       "<AxesSubplot:>"
      ]
     },
     "execution_count": 54,
     "metadata": {},
     "output_type": "execute_result"
    },
    {
     "data": {
      "image/png": "[encoded data removed]",
      "text/plain": [
       "<Figure size 432x288 with 2 Axes>"
      ]
     },
     "metadata": {
      "needs_background": "light"
     },
     "output_type": "display_data"
    }
   ],
   "source": [
    "conf_mat = metrics.confusion_matrix(df[\"nlp_label\"], model.labels_)\n",
    "sns.heatmap(conf_mat, annot=True, fmt=\".0f\")"
   ]
  },
  {
   "cell_type": "code",
   "execution_count": 55,
   "id": "aa4273cd",
   "metadata": {},
   "outputs": [],
   "source": [
    "list_labels = ['Home Furnishing', 'Baby Care', 'Watches',\n",
    "               'Home Decor & Festive Needs', 'Kitchen & Dining',\n",
    "               'Beauty and Personal Care', 'Computers']"
   ]
  },
  {
   "cell_type": "code",
   "execution_count": 56,
   "id": "31f0ef0c",
   "metadata": {},
   "outputs": [
    {
     "data": {
      "text/plain": [
       "<AxesSubplot:>"
      ]
     },
     "execution_count": 56,
     "metadata": {},
     "output_type": "execute_result"
    },
    {
     "data": {
      "image/png": "[encoded data removed]",
      "text/plain": [
       "<Figure size 432x288 with 2 Axes>"
      ]
     },
     "metadata": {
      "needs_background": "light"
     },
     "output_type": "display_data"
    }
   ],
   "source": [
    "df_cm = pd.DataFrame(conf_mat, index=[label for label in list_labels],\n",
    "                     columns=[i for i in \"0123456\"])\n",
    "plt.figure(figsize=(6, 4))\n",
    "sns.heatmap(conf_mat, annot=True, fmt=\".0f\", cmap=\"Blues\")"
   ]
  },
  {
   "cell_type": "code",
   "execution_count": 57,
   "id": "73cc7a06",
   "metadata": {},
   "outputs": [
    {
     "name": "stdout",
     "output_type": "stream",
     "text": [
      "              precision    recall  f1-score   support\n",
      "\n",
      "           0       0.29      0.71      0.41       150\n",
      "           1       0.00      0.00      0.00       150\n",
      "           2       0.16      0.67      0.26       150\n",
      "           3       0.00      0.00      0.00       150\n",
      "           4       0.00      0.00      0.00       150\n",
      "           5       1.00      0.21      0.35       150\n",
      "           6       0.00      0.00      0.00       150\n",
      "\n",
      "    accuracy                           0.23      1050\n",
      "   macro avg       0.21      0.23      0.15      1050\n",
      "weighted avg       0.21      0.23      0.15      1050\n",
      "\n"
     ]
    }
   ],
   "source": [
    "print(metrics.classification_report(df[\"nlp_label\"], model.labels_))"
   ]
  },
  {
   "cell_type": "markdown",
   "id": "897f2c1a",
   "metadata": {},
   "source": [
    "### Reduction de dimension LDA"
   ]
  },
  {
   "cell_type": "code",
   "execution_count": 58,
   "id": "918dfff9",
   "metadata": {},
   "outputs": [],
   "source": [
    "from sklearn.decomposition import LatentDirichletAllocation\n",
    "from sklearn.feature_extraction.text import CountVectorizer"
   ]
  },
  {
   "cell_type": "code",
   "execution_count": 59,
   "id": "02a557e0",
   "metadata": {},
   "outputs": [
    {
     "name": "stderr",
     "output_type": "stream",
     "text": [
      "D:\\Users\\Damien\\anaconda3\\lib\\site-packages\\sklearn\\feature_extraction\\text.py:388: UserWarning: Your stop_words may be inconsistent with your preprocessing. Tokenizing the stop words generated tokens [\"'d\", \"'ll\", \"'re\", \"'s\", \"'ve\", '``', 'could', 'might', 'must', \"n't\", 'need', 'sha', 'wo', 'would'] not in stop_words.\n",
      "  warnings.warn('Your stop_words may be inconsistent with '\n"
     ]
    }
   ],
   "source": [
    "tf_vectorizer = CountVectorizer(\n",
    "    tokenizer=nltk.word_tokenize,\n",
    "    stop_words=stopwords_combined)\n",
    "tf = tf_vectorizer.fit_transform(train_NLP['description'])"
   ]
  },
  {
   "cell_type": "code",
   "execution_count": 60,
   "id": "43719b4f",
   "metadata": {},
   "outputs": [],
   "source": [
    "lda = LatentDirichletAllocation(n_components=df['cat_lvl_1'].nunique(),\n",
    "                                random_state=2)"
   ]
  },
  {
   "cell_type": "code",
   "execution_count": 61,
   "id": "ee16d58a",
   "metadata": {},
   "outputs": [
    {
     "data": {
      "text/plain": [
       "LatentDirichletAllocation(n_components=7, random_state=2)"
      ]
     },
     "execution_count": 61,
     "metadata": {},
     "output_type": "execute_result"
    }
   ],
   "source": [
    "lda.fit(tf)"
   ]
  },
  {
   "cell_type": "code",
   "execution_count": 62,
   "id": "560a78a4",
   "metadata": {},
   "outputs": [],
   "source": [
    "def print_top_words(model, feature_names, n_top_words):\n",
    "    for topic_idx, topic in enumerate(model.components_):\n",
    "        message = \"Topic #%d: \" % topic_idx\n",
    "        message += \" \".join([feature_names[i]\n",
    "                             for i in topic.argsort()[:-n_top_words - 1:-1]])\n",
    "        print(message)\n",
    "    print()"
   ]
  },
  {
   "cell_type": "code",
   "execution_count": 63,
   "id": "3611cb8c",
   "metadata": {},
   "outputs": [
    {
     "name": "stdout",
     "output_type": "stream",
     "text": [
      "Topic #0: baby 's cm cotton 1 fabric details pack specifications general\n",
      "Topic #1: skin laptop usb print shapes pad multicolor mouse set warranty\n",
      "Topic #2: mug warranty product quality adapter material power battery made laptop\n",
      "Topic #3: pack sticker glass 1 wall price color features rs water\n",
      "Topic #4: mug '' ceramic rockmantra safe 4 design 3.5 specifications gift\n",
      "Topic #5: towel bath products eyelet curtain beauty usb face oxyglow door\n",
      "Topic #6: free delivery buy cash genuine shipping products 30 day flipkart.com\n",
      "\n"
     ]
    }
   ],
   "source": [
    "tf_feature_names = tf_vectorizer.get_feature_names()\n",
    "print_top_words(lda, tf_feature_names, n_top_words=10)"
   ]
  },
  {
   "cell_type": "code",
   "execution_count": 64,
   "id": "fefa299b",
   "metadata": {},
   "outputs": [
    {
     "data": {
      "text/plain": [
       "array([[9.52521142e-03, 9.52560900e-03, 9.52611347e-03, ...,\n",
       "        9.52671499e-03, 9.52627062e-03, 9.42844421e-01],\n",
       "       [5.71450881e-03, 5.72119067e-03, 3.34540688e-01, ...,\n",
       "        5.71507101e-03, 5.71615627e-03, 6.36877580e-01],\n",
       "       [8.51462292e-04, 8.51337309e-04, 9.68267043e-01, ...,\n",
       "        8.50704533e-04, 8.50761504e-04, 8.51023815e-04],\n",
       "       ...,\n",
       "       [7.90943012e-01, 9.53391394e-03, 9.53071280e-03, ...,\n",
       "        9.53287111e-03, 8.51578053e-02, 9.53693050e-03],\n",
       "       [7.84963396e-02, 4.76372966e-03, 4.76238237e-03, ...,\n",
       "        4.76306095e-03, 4.76345413e-03, 8.97688616e-01],\n",
       "       [4.93364785e-03, 4.92687687e-03, 4.92657890e-03, ...,\n",
       "        4.92821457e-03, 4.93016148e-03, 9.70426483e-01]])"
      ]
     },
     "execution_count": 64,
     "metadata": {},
     "output_type": "execute_result"
    }
   ],
   "source": [
    "lda.transform(tf_vectorizer.transform(test_NLP['description']))"
   ]
  },
  {
   "cell_type": "code",
   "execution_count": 65,
   "id": "b56b943b",
   "metadata": {},
   "outputs": [
    {
     "data": {
      "text/plain": [
       "array([0.00476604, 0.00476411, 0.00476409, 0.00476332, 0.00476226,\n",
       "       0.00476238, 0.9714178 ])"
      ]
     },
     "execution_count": 65,
     "metadata": {},
     "output_type": "execute_result"
    }
   ],
   "source": [
    "lda.transform(tf_vectorizer.transform(train_NLP['description']))[1, :]"
   ]
  },
  {
   "cell_type": "code",
   "execution_count": 66,
   "id": "55cba997",
   "metadata": {},
   "outputs": [
    {
     "data": {
      "text/plain": [
       "(787, 7)"
      ]
     },
     "execution_count": 66,
     "metadata": {},
     "output_type": "execute_result"
    }
   ],
   "source": [
    "lda.transform(tf_vectorizer.transform(train_NLP['description'])).shape"
   ]
  },
  {
   "cell_type": "markdown",
   "id": "0ac59996",
   "metadata": {},
   "source": [
    "**Topic le plus représenté par catégorie d'article**"
   ]
  },
  {
   "cell_type": "code",
   "execution_count": 67,
   "id": "275e5b6b",
   "metadata": {},
   "outputs": [],
   "source": [
    "val_best_topic = {}\n",
    "best_topic = {}\n",
    "matrix = lda.transform(tf_vectorizer.transform(train_NLP['description']))\n",
    "for i in range(0, matrix.shape[0]):\n",
    "    val_best_topic[i] = 0\n",
    "    for j in range(0, matrix.shape[1]):\n",
    "        if matrix[i, j] > val_best_topic[i]:\n",
    "            val_best_topic[i] = matrix[i, j]\n",
    "            best_topic[i] = j"
   ]
  },
  {
   "cell_type": "code",
   "execution_count": 68,
   "id": "95b8b8bf",
   "metadata": {},
   "outputs": [],
   "source": [
    "train_lda = train_NLP.copy()\n",
    "train_lda['topic_lda'] = list(best_topic.values())"
   ]
  },
  {
   "cell_type": "code",
   "execution_count": 69,
   "id": "608eff87",
   "metadata": {},
   "outputs": [
    {
     "data": {
      "text/html": [
       "<div>\n",
       "<style scoped>\n",
       "    .dataframe tbody tr th:only-of-type {\n",
       "        vertical-align: middle;\n",
       "    }\n",
       "\n",
       "    .dataframe tbody tr th {\n",
       "        vertical-align: top;\n",
       "    }\n",
       "\n",
       "    .dataframe thead th {\n",
       "        text-align: right;\n",
       "    }\n",
       "</style>\n",
       "<table border=\"1\" class=\"dataframe\">\n",
       "  <thead>\n",
       "    <tr style=\"text-align: right;\">\n",
       "      <th></th>\n",
       "      <th>topic_lda</th>\n",
       "    </tr>\n",
       "    <tr>\n",
       "      <th>cat_lvl_1</th>\n",
       "      <th></th>\n",
       "    </tr>\n",
       "  </thead>\n",
       "  <tbody>\n",
       "    <tr>\n",
       "      <th>Baby Care</th>\n",
       "      <td>112</td>\n",
       "    </tr>\n",
       "    <tr>\n",
       "      <th>Beauty and Personal Care</th>\n",
       "      <td>123</td>\n",
       "    </tr>\n",
       "    <tr>\n",
       "      <th>Computers</th>\n",
       "      <td>104</td>\n",
       "    </tr>\n",
       "    <tr>\n",
       "      <th>Home Decor &amp; Festive Needs</th>\n",
       "      <td>112</td>\n",
       "    </tr>\n",
       "    <tr>\n",
       "      <th>Home Furnishing</th>\n",
       "      <td>105</td>\n",
       "    </tr>\n",
       "    <tr>\n",
       "      <th>Kitchen &amp; Dining</th>\n",
       "      <td>119</td>\n",
       "    </tr>\n",
       "    <tr>\n",
       "      <th>Watches</th>\n",
       "      <td>112</td>\n",
       "    </tr>\n",
       "  </tbody>\n",
       "</table>\n",
       "</div>"
      ],
      "text/plain": [
       "                            topic_lda\n",
       "cat_lvl_1                            \n",
       "Baby Care                         112\n",
       "Beauty and Personal Care          123\n",
       "Computers                         104\n",
       "Home Decor & Festive Needs        112\n",
       "Home Furnishing                   105\n",
       "Kitchen & Dining                  119\n",
       "Watches                           112"
      ]
     },
     "execution_count": 69,
     "metadata": {},
     "output_type": "execute_result"
    }
   ],
   "source": [
    "train_lda[['cat_lvl_1', 'topic_lda']].groupby(['cat_lvl_1']).count()"
   ]
  },
  {
   "cell_type": "code",
   "execution_count": 70,
   "id": "eba5b66f",
   "metadata": {},
   "outputs": [
    {
     "data": {
      "text/plain": [
       "cat_lvl_1                   topic_lda\n",
       "Baby Care                   0             74\n",
       "                            1              4\n",
       "                            2              3\n",
       "                            3              3\n",
       "                            4              2\n",
       "                            5              1\n",
       "                            6             25\n",
       "Beauty and Personal Care    0              7\n",
       "                            1              2\n",
       "                            2              9\n",
       "                            3             13\n",
       "                            4              4\n",
       "                            5              8\n",
       "                            6             80\n",
       "Computers                   0              2\n",
       "                            1             18\n",
       "                            2             21\n",
       "                            3              5\n",
       "                            5              4\n",
       "                            6             54\n",
       "Home Decor & Festive Needs  0             19\n",
       "                            1              2\n",
       "                            2             21\n",
       "                            3              9\n",
       "                            5              1\n",
       "                            6             60\n",
       "Home Furnishing             0             32\n",
       "                            1              3\n",
       "                            2              4\n",
       "                            3              6\n",
       "                            4              1\n",
       "                            5              4\n",
       "                            6             55\n",
       "Kitchen & Dining            0             10\n",
       "                            1              2\n",
       "                            2             19\n",
       "                            3             17\n",
       "                            4             20\n",
       "                            5              2\n",
       "                            6             49\n",
       "Watches                     0              4\n",
       "                            2              3\n",
       "                            3              1\n",
       "                            4              1\n",
       "                            6            103\n",
       "dtype: int64"
      ]
     },
     "execution_count": 70,
     "metadata": {},
     "output_type": "execute_result"
    }
   ],
   "source": [
    "train_lda[['cat_lvl_1', 'topic_lda']].groupby(\n",
    "    ['cat_lvl_1', 'topic_lda']).size()"
   ]
  },
  {
   "cell_type": "markdown",
   "id": "26793f17",
   "metadata": {},
   "source": [
    "### Approche classique"
   ]
  },
  {
   "cell_type": "code",
   "execution_count": 71,
   "id": "91e9b1b1",
   "metadata": {},
   "outputs": [
    {
     "data": {
      "text/plain": [
       "(787, 2877)"
      ]
     },
     "execution_count": 71,
     "metadata": {},
     "output_type": "execute_result"
    }
   ],
   "source": [
    "from sklearn.feature_extraction.text import TfidfTransformer, CountVectorizer\n",
    "from sklearn.pipeline import make_pipeline\n",
    "pipe = make_pipeline(CountVectorizer(), TfidfTransformer())\n",
    "pipe.fit(train_NLP['desc_clean'])\n",
    "feat_train = pipe.transform(train_NLP['desc_clean'])\n",
    "feat_train.shape"
   ]
  },
  {
   "cell_type": "code",
   "execution_count": 72,
   "id": "d51b45c2",
   "metadata": {},
   "outputs": [
    {
     "data": {
      "text/plain": [
       "(0.0, 0.9392682690689905)"
      ]
     },
     "execution_count": 72,
     "metadata": {},
     "output_type": "execute_result"
    }
   ],
   "source": [
    "feat_train.min(), feat_train.max()"
   ]
  },
  {
   "cell_type": "code",
   "execution_count": 73,
   "id": "7ba8c173",
   "metadata": {},
   "outputs": [
    {
     "data": {
      "text/plain": [
       "(263, 2877)"
      ]
     },
     "execution_count": 73,
     "metadata": {},
     "output_type": "execute_result"
    }
   ],
   "source": [
    "feat_test = pipe.transform(test_NLP['desc_clean'])\n",
    "feat_test.shape"
   ]
  },
  {
   "cell_type": "code",
   "execution_count": 74,
   "id": "fee22587",
   "metadata": {},
   "outputs": [],
   "source": [
    "from sklearn.preprocessing import OrdinalEncoder, OneHotEncoder, LabelEncoder"
   ]
  },
  {
   "cell_type": "code",
   "execution_count": 75,
   "id": "353cb333",
   "metadata": {},
   "outputs": [],
   "source": [
    "encoder = LabelEncoder()\n",
    "y_train_TFIDF = encoder.fit_transform(train_NLP['cat_lvl_1'])\n",
    "y_test_TFIDF = encoder.fit_transform(test_NLP['cat_lvl_1'])"
   ]
  },
  {
   "cell_type": "code",
   "execution_count": 76,
   "id": "3f02d16d",
   "metadata": {},
   "outputs": [
    {
     "data": {
      "text/plain": [
       "RandomForestClassifier(n_estimators=50)"
      ]
     },
     "execution_count": 76,
     "metadata": {},
     "output_type": "execute_result"
    }
   ],
   "source": [
    "from sklearn.ensemble import RandomForestClassifier\n",
    "clf = RandomForestClassifier(n_estimators=50)\n",
    "clf.fit(feat_train, y_train_TFIDF)"
   ]
  },
  {
   "cell_type": "code",
   "execution_count": 77,
   "id": "4d1491d1",
   "metadata": {},
   "outputs": [
    {
     "data": {
      "text/plain": [
       "0.9429657794676806"
      ]
     },
     "execution_count": 77,
     "metadata": {},
     "output_type": "execute_result"
    }
   ],
   "source": [
    "clf.score(feat_test, y_test_TFIDF)"
   ]
  },
  {
   "cell_type": "code",
   "execution_count": 78,
   "id": "e334cb31",
   "metadata": {},
   "outputs": [
    {
     "data": {
      "text/plain": [
       "0.9467680608365019"
      ]
     },
     "execution_count": 78,
     "metadata": {},
     "output_type": "execute_result"
    }
   ],
   "source": [
    "from sklearn.linear_model import LogisticRegression\n",
    "lr = LogisticRegression()\n",
    "lr.fit(feat_train, y_train_TFIDF)\n",
    "lr.score(feat_test, y_test_TFIDF)"
   ]
  },
  {
   "cell_type": "code",
   "execution_count": 79,
   "id": "f954ead1",
   "metadata": {},
   "outputs": [
    {
     "data": {
      "text/plain": [
       "0.8935361216730038"
      ]
     },
     "execution_count": 79,
     "metadata": {},
     "output_type": "execute_result"
    }
   ],
   "source": [
    "from sklearn.naive_bayes import MultinomialNB\n",
    "mnb = MultinomialNB()\n",
    "mnb.fit(feat_train, y_train_TFIDF)\n",
    "mnb.score(feat_test, y_test_TFIDF)"
   ]
  },
  {
   "cell_type": "code",
   "execution_count": 80,
   "id": "b8bd7189",
   "metadata": {},
   "outputs": [
    {
     "data": {
      "text/plain": [
       "0.9467680608365019"
      ]
     },
     "execution_count": 80,
     "metadata": {},
     "output_type": "execute_result"
    }
   ],
   "source": [
    "# On test la performance en augmentant la profondeur de l'arbre\n",
    "clf20 = RandomForestClassifier(n_estimators=50, max_depth=20)\n",
    "clf20.fit(feat_train, y_train_TFIDF)\n",
    "clf20.score(feat_test, y_test_TFIDF)"
   ]
  },
  {
   "cell_type": "code",
   "execution_count": 81,
   "id": "c5d4442f",
   "metadata": {},
   "outputs": [
    {
     "data": {
      "text/plain": [
       "0.9277566539923955"
      ]
     },
     "execution_count": 81,
     "metadata": {},
     "output_type": "execute_result"
    }
   ],
   "source": [
    "clf40 = RandomForestClassifier(n_estimators=50, max_depth=40)\n",
    "clf40.fit(feat_train, y_train_TFIDF)\n",
    "clf40.score(feat_test, y_test_TFIDF)"
   ]
  },
  {
   "cell_type": "code",
   "execution_count": 82,
   "id": "17719d76",
   "metadata": {},
   "outputs": [
    {
     "data": {
      "text/plain": [
       "0.9467680608365019"
      ]
     },
     "execution_count": 82,
     "metadata": {},
     "output_type": "execute_result"
    }
   ],
   "source": [
    "clf400 = RandomForestClassifier(n_estimators=200, max_depth=40)\n",
    "clf400.fit(feat_train, y_train_TFIDF)\n",
    "clf400.score(feat_test, y_test_TFIDF)"
   ]
  },
  {
   "cell_type": "code",
   "execution_count": 84,
   "id": "4dc38769",
   "metadata": {},
   "outputs": [],
   "source": [
    "from sklearn.model_selection import GridSearchCV"
   ]
  },
  {
   "cell_type": "code",
   "execution_count": 85,
   "id": "08c5a544",
   "metadata": {},
   "outputs": [],
   "source": [
    "# Estimator\n",
    "Random_Forest = RandomForestClassifier()\n",
    "\n",
    "params = {\n",
    "    'n_estimators': [5, 10, 20, 50, 100, 200],\n",
    "    'min_samples_leaf': [1, 3, 5, 10],\n",
    "    'max_depth': [20, 40, 60],\n",
    "    'max_features': ['auto', 'sqrt']\n",
    "}\n",
    "\n",
    "\n",
    "grid_CL = GridSearchCV(Random_Forest, param_grid=params, cv=5)"
   ]
  },
  {
   "cell_type": "code",
   "execution_count": 86,
   "id": "485209d8",
   "metadata": {},
   "outputs": [
    {
     "data": {
      "text/plain": [
       "GridSearchCV(cv=5, estimator=RandomForestClassifier(),\n",
       "             param_grid={'max_depth': [20, 40, 60],\n",
       "                         'max_features': ['auto', 'sqrt'],\n",
       "                         'min_samples_leaf': [1, 3, 5, 10],\n",
       "                         'n_estimators': [5, 10, 20, 50, 100, 200]})"
      ]
     },
     "execution_count": 86,
     "metadata": {},
     "output_type": "execute_result"
    }
   ],
   "source": [
    "grid_CL.fit(feat_train, y_train_TFIDF)"
   ]
  },
  {
   "cell_type": "code",
   "execution_count": 87,
   "id": "7574db9c",
   "metadata": {},
   "outputs": [
    {
     "data": {
      "text/plain": [
       "{'max_depth': 40,\n",
       " 'max_features': 'auto',\n",
       " 'min_samples_leaf': 1,\n",
       " 'n_estimators': 100}"
      ]
     },
     "execution_count": 87,
     "metadata": {},
     "output_type": "execute_result"
    }
   ],
   "source": [
    "grid_CL.best_params_"
   ]
  },
  {
   "cell_type": "code",
   "execution_count": 88,
   "id": "c2a08a25",
   "metadata": {},
   "outputs": [],
   "source": [
    "best_model_RF = grid_CL.best_estimator_"
   ]
  },
  {
   "cell_type": "code",
   "execution_count": 89,
   "id": "a785dce3",
   "metadata": {},
   "outputs": [
    {
     "data": {
      "text/plain": [
       "0.9467680608365019"
      ]
     },
     "execution_count": 89,
     "metadata": {},
     "output_type": "execute_result"
    }
   ],
   "source": [
    "best_model_RF.score(feat_test, y_test_TFIDF)"
   ]
  },
  {
   "cell_type": "code",
   "execution_count": 90,
   "id": "98e0320d",
   "metadata": {},
   "outputs": [],
   "source": [
    "# Estimator\n",
    "Random_Forest = RandomForestClassifier()\n",
    "\n",
    "params = {\n",
    "    'n_estimators': [5, 10, 20, 50, 100, 200],\n",
    "    'min_samples_leaf': [1, 3, 5, 10],\n",
    "    'max_depth': [20, 40, 60],\n",
    "    'max_features': ['auto', 'sqrt']\n",
    "}\n",
    "\n",
    "\n",
    "grid_CL = GridSearchCV(Random_Forest, param_grid=params, cv=5)"
   ]
  },
  {
   "cell_type": "markdown",
   "id": "cffeab60",
   "metadata": {},
   "source": [
    "#### Avec ACP"
   ]
  },
  {
   "cell_type": "code",
   "execution_count": 91,
   "id": "970bf2cf",
   "metadata": {},
   "outputs": [
    {
     "data": {
      "text/plain": [
       "(787, 300)"
      ]
     },
     "execution_count": 91,
     "metadata": {},
     "output_type": "execute_result"
    }
   ],
   "source": [
    "from sklearn.decomposition import TruncatedSVD\n",
    "pipe_svd = make_pipeline(CountVectorizer(), TruncatedSVD(n_components=300))\n",
    "pipe_svd.fit(train_NLP['desc_clean'])\n",
    "feat_train_svd = pipe_svd.transform(train_NLP['desc_clean'])\n",
    "feat_train_svd.shape"
   ]
  },
  {
   "cell_type": "code",
   "execution_count": 92,
   "id": "b844c24d",
   "metadata": {},
   "outputs": [
    {
     "data": {
      "text/plain": [
       "RandomForestClassifier(n_estimators=50)"
      ]
     },
     "execution_count": 92,
     "metadata": {},
     "output_type": "execute_result"
    }
   ],
   "source": [
    "clf_svd = RandomForestClassifier(n_estimators=50)\n",
    "clf_svd.fit(feat_train_svd, y_train_TFIDF)"
   ]
  },
  {
   "cell_type": "code",
   "execution_count": 93,
   "id": "73c3c24d",
   "metadata": {},
   "outputs": [
    {
     "data": {
      "text/plain": [
       "0.8821292775665399"
      ]
     },
     "execution_count": 93,
     "metadata": {},
     "output_type": "execute_result"
    }
   ],
   "source": [
    "feat_test_svd = pipe_svd.transform(test_NLP['desc_clean'])\n",
    "clf_svd.score(feat_test_svd, y_test_TFIDF)"
   ]
  },
  {
   "cell_type": "code",
   "execution_count": 94,
   "id": "bd99f13d",
   "metadata": {},
   "outputs": [
    {
     "name": "stderr",
     "output_type": "stream",
     "text": [
      "D:\\Users\\Damien\\anaconda3\\lib\\site-packages\\sklearn\\linear_model\\_logistic.py:763: ConvergenceWarning: lbfgs failed to converge (status=1):\n",
      "STOP: TOTAL NO. of ITERATIONS REACHED LIMIT.\n",
      "\n",
      "Increase the number of iterations (max_iter) or scale the data as shown in:\n",
      "    https://scikit-learn.org/stable/modules/preprocessing.html\n",
      "Please also refer to the documentation for alternative solver options:\n",
      "    https://scikit-learn.org/stable/modules/linear_model.html#logistic-regression\n",
      "  n_iter_i = _check_optimize_result(\n"
     ]
    },
    {
     "data": {
      "text/plain": [
       "0.9391634980988594"
      ]
     },
     "execution_count": 94,
     "metadata": {},
     "output_type": "execute_result"
    }
   ],
   "source": [
    "lr_svd = LogisticRegression()\n",
    "lr_svd.fit(feat_train_svd, y_train_TFIDF)\n",
    "lr_svd.score(feat_test_svd, y_test_TFIDF)"
   ]
  },
  {
   "cell_type": "markdown",
   "id": "83036100",
   "metadata": {},
   "source": [
    "#### TFIDF avec ACP"
   ]
  },
  {
   "cell_type": "code",
   "execution_count": 95,
   "id": "6d717125",
   "metadata": {},
   "outputs": [
    {
     "data": {
      "text/plain": [
       "0.9505703422053232"
      ]
     },
     "execution_count": 95,
     "metadata": {},
     "output_type": "execute_result"
    }
   ],
   "source": [
    "pipe_svd_tfidf = make_pipeline(CountVectorizer(),\n",
    "                               TfidfTransformer(),\n",
    "                               TruncatedSVD(n_components=300))\n",
    "pipe_svd_tfidf.fit(train_NLP['desc_clean'])\n",
    "feat_train_svd_tfidf = pipe_svd_tfidf.transform(train_NLP['desc_clean'])\n",
    "\n",
    "clf_svd_tfidf = LogisticRegression()\n",
    "clf_svd_tfidf.fit(feat_train_svd_tfidf, y_train_TFIDF)\n",
    "\n",
    "feat_test_svd_tfidf = pipe_svd_tfidf.transform(test_NLP['desc_clean'])\n",
    "clf_svd_tfidf.score(feat_test_svd_tfidf, y_test_TFIDF)"
   ]
  },
  {
   "cell_type": "code",
   "execution_count": 96,
   "id": "54632229",
   "metadata": {},
   "outputs": [
    {
     "data": {
      "text/plain": [
       "0.9163498098859315"
      ]
     },
     "execution_count": 96,
     "metadata": {},
     "output_type": "execute_result"
    }
   ],
   "source": [
    "clf_rf_tfidf = RandomForestClassifier()\n",
    "clf_rf_tfidf.fit(feat_train_svd_tfidf, y_train_TFIDF)\n",
    "\n",
    "clf_rf_tfidf.score(feat_test_svd_tfidf, y_test_TFIDF)"
   ]
  },
  {
   "cell_type": "code",
   "execution_count": 97,
   "id": "fb03c66f",
   "metadata": {
    "collapsed": true
   },
   "outputs": [
    {
     "ename": "ValueError",
     "evalue": "Negative values in data passed to MultinomialNB (input X)",
     "output_type": "error",
     "traceback": [
      "\u001b[1;31m---------------------------------------------------------------------------\u001b[0m",
      "\u001b[1;31mValueError\u001b[0m                                Traceback (most recent call last)",
      "\u001b[1;32m<ipython-input-97-5e015a9952d1>\u001b[0m in \u001b[0;36m<module>\u001b[1;34m\u001b[0m\n\u001b[0;32m      1\u001b[0m \u001b[0mclf_mnb_tfidf\u001b[0m \u001b[1;33m=\u001b[0m \u001b[0mMultinomialNB\u001b[0m\u001b[1;33m(\u001b[0m\u001b[1;33m)\u001b[0m\u001b[1;33m\u001b[0m\u001b[1;33m\u001b[0m\u001b[0m\n\u001b[1;32m----> 2\u001b[1;33m \u001b[0mclf_mnb_tfidf\u001b[0m\u001b[1;33m.\u001b[0m\u001b[0mfit\u001b[0m\u001b[1;33m(\u001b[0m\u001b[0mfeat_train_svd_tfidf\u001b[0m\u001b[1;33m,\u001b[0m \u001b[0my_train_TFIDF\u001b[0m\u001b[1;33m)\u001b[0m\u001b[1;33m\u001b[0m\u001b[1;33m\u001b[0m\u001b[0m\n\u001b[0m\u001b[0;32m      3\u001b[0m \u001b[1;33m\u001b[0m\u001b[0m\n\u001b[0;32m      4\u001b[0m \u001b[0mclf_mnb_tfidf\u001b[0m\u001b[1;33m.\u001b[0m\u001b[0mscore\u001b[0m\u001b[1;33m(\u001b[0m\u001b[0mfeat_test_svd_tfidf\u001b[0m\u001b[1;33m,\u001b[0m \u001b[0my_test_TFIDF\u001b[0m\u001b[1;33m)\u001b[0m\u001b[1;33m\u001b[0m\u001b[1;33m\u001b[0m\u001b[0m\n",
      "\u001b[1;32mD:\\Users\\Damien\\anaconda3\\lib\\site-packages\\sklearn\\naive_bayes.py\u001b[0m in \u001b[0;36mfit\u001b[1;34m(self, X, y, sample_weight)\u001b[0m\n\u001b[0;32m    636\u001b[0m \u001b[1;33m\u001b[0m\u001b[0m\n\u001b[0;32m    637\u001b[0m         \u001b[0mself\u001b[0m\u001b[1;33m.\u001b[0m\u001b[0m_init_counters\u001b[0m\u001b[1;33m(\u001b[0m\u001b[0mn_effective_classes\u001b[0m\u001b[1;33m,\u001b[0m \u001b[0mn_features\u001b[0m\u001b[1;33m)\u001b[0m\u001b[1;33m\u001b[0m\u001b[1;33m\u001b[0m\u001b[0m\n\u001b[1;32m--> 638\u001b[1;33m         \u001b[0mself\u001b[0m\u001b[1;33m.\u001b[0m\u001b[0m_count\u001b[0m\u001b[1;33m(\u001b[0m\u001b[0mX\u001b[0m\u001b[1;33m,\u001b[0m \u001b[0mY\u001b[0m\u001b[1;33m)\u001b[0m\u001b[1;33m\u001b[0m\u001b[1;33m\u001b[0m\u001b[0m\n\u001b[0m\u001b[0;32m    639\u001b[0m         \u001b[0malpha\u001b[0m \u001b[1;33m=\u001b[0m \u001b[0mself\u001b[0m\u001b[1;33m.\u001b[0m\u001b[0m_check_alpha\u001b[0m\u001b[1;33m(\u001b[0m\u001b[1;33m)\u001b[0m\u001b[1;33m\u001b[0m\u001b[1;33m\u001b[0m\u001b[0m\n\u001b[0;32m    640\u001b[0m         \u001b[0mself\u001b[0m\u001b[1;33m.\u001b[0m\u001b[0m_update_feature_log_prob\u001b[0m\u001b[1;33m(\u001b[0m\u001b[0malpha\u001b[0m\u001b[1;33m)\u001b[0m\u001b[1;33m\u001b[0m\u001b[1;33m\u001b[0m\u001b[0m\n",
      "\u001b[1;32mD:\\Users\\Damien\\anaconda3\\lib\\site-packages\\sklearn\\naive_bayes.py\u001b[0m in \u001b[0;36m_count\u001b[1;34m(self, X, Y)\u001b[0m\n\u001b[0;32m    769\u001b[0m     \u001b[1;32mdef\u001b[0m \u001b[0m_count\u001b[0m\u001b[1;33m(\u001b[0m\u001b[0mself\u001b[0m\u001b[1;33m,\u001b[0m \u001b[0mX\u001b[0m\u001b[1;33m,\u001b[0m \u001b[0mY\u001b[0m\u001b[1;33m)\u001b[0m\u001b[1;33m:\u001b[0m\u001b[1;33m\u001b[0m\u001b[1;33m\u001b[0m\u001b[0m\n\u001b[0;32m    770\u001b[0m         \u001b[1;34m\"\"\"Count and smooth feature occurrences.\"\"\"\u001b[0m\u001b[1;33m\u001b[0m\u001b[1;33m\u001b[0m\u001b[0m\n\u001b[1;32m--> 771\u001b[1;33m         \u001b[0mcheck_non_negative\u001b[0m\u001b[1;33m(\u001b[0m\u001b[0mX\u001b[0m\u001b[1;33m,\u001b[0m \u001b[1;34m\"MultinomialNB (input X)\"\u001b[0m\u001b[1;33m)\u001b[0m\u001b[1;33m\u001b[0m\u001b[1;33m\u001b[0m\u001b[0m\n\u001b[0m\u001b[0;32m    772\u001b[0m         \u001b[0mself\u001b[0m\u001b[1;33m.\u001b[0m\u001b[0mfeature_count_\u001b[0m \u001b[1;33m+=\u001b[0m \u001b[0msafe_sparse_dot\u001b[0m\u001b[1;33m(\u001b[0m\u001b[0mY\u001b[0m\u001b[1;33m.\u001b[0m\u001b[0mT\u001b[0m\u001b[1;33m,\u001b[0m \u001b[0mX\u001b[0m\u001b[1;33m)\u001b[0m\u001b[1;33m\u001b[0m\u001b[1;33m\u001b[0m\u001b[0m\n\u001b[0;32m    773\u001b[0m         \u001b[0mself\u001b[0m\u001b[1;33m.\u001b[0m\u001b[0mclass_count_\u001b[0m \u001b[1;33m+=\u001b[0m \u001b[0mY\u001b[0m\u001b[1;33m.\u001b[0m\u001b[0msum\u001b[0m\u001b[1;33m(\u001b[0m\u001b[0maxis\u001b[0m\u001b[1;33m=\u001b[0m\u001b[1;36m0\u001b[0m\u001b[1;33m)\u001b[0m\u001b[1;33m\u001b[0m\u001b[1;33m\u001b[0m\u001b[0m\n",
      "\u001b[1;32mD:\\Users\\Damien\\anaconda3\\lib\\site-packages\\sklearn\\utils\\validation.py\u001b[0m in \u001b[0;36mcheck_non_negative\u001b[1;34m(X, whom)\u001b[0m\n\u001b[0;32m   1066\u001b[0m \u001b[1;33m\u001b[0m\u001b[0m\n\u001b[0;32m   1067\u001b[0m     \u001b[1;32mif\u001b[0m \u001b[0mX_min\u001b[0m \u001b[1;33m<\u001b[0m \u001b[1;36m0\u001b[0m\u001b[1;33m:\u001b[0m\u001b[1;33m\u001b[0m\u001b[1;33m\u001b[0m\u001b[0m\n\u001b[1;32m-> 1068\u001b[1;33m         \u001b[1;32mraise\u001b[0m \u001b[0mValueError\u001b[0m\u001b[1;33m(\u001b[0m\u001b[1;34m\"Negative values in data passed to %s\"\u001b[0m \u001b[1;33m%\u001b[0m \u001b[0mwhom\u001b[0m\u001b[1;33m)\u001b[0m\u001b[1;33m\u001b[0m\u001b[1;33m\u001b[0m\u001b[0m\n\u001b[0m\u001b[0;32m   1069\u001b[0m \u001b[1;33m\u001b[0m\u001b[0m\n\u001b[0;32m   1070\u001b[0m \u001b[1;33m\u001b[0m\u001b[0m\n",
      "\u001b[1;31mValueError\u001b[0m: Negative values in data passed to MultinomialNB (input X)"
     ]
    }
   ],
   "source": [
    "clf_mnb_tfidf = MultinomialNB()\n",
    "clf_mnb_tfidf.fit(feat_train_svd_tfidf, y_train_TFIDF)\n",
    "\n",
    "clf_mnb_tfidf.score(feat_test_svd_tfidf, y_test_TFIDF)"
   ]
  },
  {
   "cell_type": "code",
   "execution_count": 98,
   "id": "242ddc3d",
   "metadata": {},
   "outputs": [],
   "source": [
    "proba = clf_svd_tfidf.predict_proba(feat_test_svd_tfidf)"
   ]
  },
  {
   "cell_type": "code",
   "execution_count": 99,
   "id": "e4ae8d3d",
   "metadata": {},
   "outputs": [
    {
     "data": {
      "text/plain": [
       "array([0.06216973, 0.08414794, 0.11970898, 0.1594661 , 0.04890794,\n",
       "       0.46838895, 0.05721035])"
      ]
     },
     "execution_count": 99,
     "metadata": {},
     "output_type": "execute_result"
    }
   ],
   "source": [
    "proba[1]"
   ]
  },
  {
   "cell_type": "markdown",
   "id": "a636d918",
   "metadata": {},
   "source": [
    "### Methode supervisée"
   ]
  },
  {
   "cell_type": "markdown",
   "id": "990815d7",
   "metadata": {},
   "source": [
    "#### Preparation données"
   ]
  },
  {
   "cell_type": "code",
   "execution_count": 100,
   "id": "d028def6",
   "metadata": {},
   "outputs": [],
   "source": [
    "from sklearn.preprocessing import OrdinalEncoder, OneHotEncoder, LabelEncoder"
   ]
  },
  {
   "cell_type": "code",
   "execution_count": 101,
   "id": "4d9fd3af",
   "metadata": {},
   "outputs": [],
   "source": [
    "# vectorizer = TfidfVectorizer(stop_words='english')\n",
    "X_train_sup = vectorizer.transform(train_NLP['desc_clean'])\n",
    "X_test_sup = vectorizer.transform(test_NLP['desc_clean'])"
   ]
  },
  {
   "cell_type": "code",
   "execution_count": 102,
   "id": "9ace2a17",
   "metadata": {},
   "outputs": [],
   "source": [
    "encoder = LabelEncoder()\n",
    "y_train_RF = encoder.fit_transform(train_NLP['cat_lvl_1'])\n",
    "y_test_RF = encoder.fit_transform(test_NLP['cat_lvl_1'])"
   ]
  },
  {
   "cell_type": "markdown",
   "id": "b638bd74",
   "metadata": {},
   "source": [
    "**LDA**"
   ]
  },
  {
   "cell_type": "code",
   "execution_count": 103,
   "id": "d8a3628d",
   "metadata": {},
   "outputs": [
    {
     "name": "stderr",
     "output_type": "stream",
     "text": [
      "D:\\Users\\Damien\\anaconda3\\lib\\site-packages\\sklearn\\feature_extraction\\text.py:388: UserWarning: Your stop_words may be inconsistent with your preprocessing. Tokenizing the stop words generated tokens [\"'d\", \"'ll\", \"'re\", \"'s\", \"'ve\", '``', 'could', 'might', 'must', \"n't\", 'need', 'sha', 'wo', 'would'] not in stop_words.\n",
      "  warnings.warn('Your stop_words may be inconsistent with '\n"
     ]
    }
   ],
   "source": [
    "tf_vectorizer = CountVectorizer(\n",
    "    tokenizer=nltk.word_tokenize,\n",
    "    stop_words=stopwords_combined)\n",
    "tf2 = tf_vectorizer.fit_transform(train_NLP['desc_clean'])"
   ]
  },
  {
   "cell_type": "code",
   "execution_count": 104,
   "id": "f07c3fac",
   "metadata": {},
   "outputs": [],
   "source": [
    "lda2 = LatentDirichletAllocation(n_components=df['cat_lvl_1'].nunique(),\n",
    "                                 random_state=2)"
   ]
  },
  {
   "cell_type": "code",
   "execution_count": 105,
   "id": "80867b15",
   "metadata": {},
   "outputs": [
    {
     "data": {
      "text/plain": [
       "LatentDirichletAllocation(n_components=7, random_state=2)"
      ]
     },
     "execution_count": 105,
     "metadata": {},
     "output_type": "execute_result"
    }
   ],
   "source": [
    "lda2.fit(tf2)"
   ]
  },
  {
   "cell_type": "markdown",
   "id": "c93f3fa8",
   "metadata": {},
   "source": [
    "#### Avec Support Vector Machine"
   ]
  },
  {
   "cell_type": "code",
   "execution_count": 106,
   "id": "530cf917",
   "metadata": {},
   "outputs": [],
   "source": [
    "from sklearn.model_selection import GridSearchCV\n",
    "from sklearn.linear_model import SGDClassifier\n",
    "from sklearn.metrics import accuracy_score"
   ]
  },
  {
   "cell_type": "code",
   "execution_count": 107,
   "id": "3b691d29",
   "metadata": {},
   "outputs": [],
   "source": [
    "params = {'penalty': ['l1', 'l2']}\n",
    "grid_sgd = GridSearchCV(SGDClassifier(), param_grid=params, cv=5)"
   ]
  },
  {
   "cell_type": "code",
   "execution_count": 108,
   "id": "4fa05c97",
   "metadata": {},
   "outputs": [
    {
     "data": {
      "text/plain": [
       "GridSearchCV(cv=5, estimator=SGDClassifier(),\n",
       "             param_grid={'penalty': ['l1', 'l2']})"
      ]
     },
     "execution_count": 108,
     "metadata": {},
     "output_type": "execute_result"
    }
   ],
   "source": [
    "# tf = tf_vectorizer.fit_transform(train_NLP['description'])\n",
    "grid_sgd.fit(X_train_sup, y_train_RF)"
   ]
  },
  {
   "cell_type": "code",
   "execution_count": 109,
   "id": "241cbefb",
   "metadata": {},
   "outputs": [
    {
     "data": {
      "text/plain": [
       "SGDClassifier()"
      ]
     },
     "execution_count": 109,
     "metadata": {},
     "output_type": "execute_result"
    }
   ],
   "source": [
    "grid_sgd.best_estimator_"
   ]
  },
  {
   "cell_type": "code",
   "execution_count": 110,
   "id": "bd6f6b21",
   "metadata": {},
   "outputs": [
    {
     "name": "stdout",
     "output_type": "stream",
     "text": [
      "accuracy sur jeu train :  1.0\n",
      "accuracy sur jeu test :  0.9657794676806084\n"
     ]
    }
   ],
   "source": [
    "print('accuracy sur jeu train : ',\n",
    "      accuracy_score(grid_sgd.best_estimator_.predict(X_train_sup), y_train_RF))\n",
    "print('accuracy sur jeu test : ',\n",
    "      accuracy_score(grid_sgd.best_estimator_.predict(X_test_sup), y_test_RF))"
   ]
  },
  {
   "cell_type": "markdown",
   "id": "0c90ebb5",
   "metadata": {},
   "source": [
    "#### Avec Support Vector Machine post LDA"
   ]
  },
  {
   "cell_type": "code",
   "execution_count": 111,
   "id": "2f87d304",
   "metadata": {},
   "outputs": [],
   "source": [
    "params = {'penalty': ['l1', 'l2']}\n",
    "grid_sgd2 = GridSearchCV(SGDClassifier(), param_grid=params, cv=5)"
   ]
  },
  {
   "cell_type": "code",
   "execution_count": 112,
   "id": "57938d90",
   "metadata": {},
   "outputs": [
    {
     "data": {
      "text/plain": [
       "GridSearchCV(cv=5, estimator=SGDClassifier(),\n",
       "             param_grid={'penalty': ['l1', 'l2']})"
      ]
     },
     "execution_count": 112,
     "metadata": {},
     "output_type": "execute_result"
    }
   ],
   "source": [
    "grid_sgd2.fit(lda2.transform(tf2), y_train_RF)"
   ]
  },
  {
   "cell_type": "code",
   "execution_count": 113,
   "id": "7d8d018a",
   "metadata": {},
   "outputs": [
    {
     "data": {
      "text/plain": [
       "SGDClassifier(penalty='l1')"
      ]
     },
     "execution_count": 113,
     "metadata": {},
     "output_type": "execute_result"
    }
   ],
   "source": [
    "grid_sgd2.best_estimator_"
   ]
  },
  {
   "cell_type": "code",
   "execution_count": 114,
   "id": "d1ae0045",
   "metadata": {},
   "outputs": [
    {
     "name": "stdout",
     "output_type": "stream",
     "text": [
      "accuracy sur jeu train :  0.39644218551461247\n",
      "accuracy sur jeu test :  0.3726235741444867\n"
     ]
    }
   ],
   "source": [
    "print('accuracy sur jeu train : ',\n",
    "      accuracy_score(grid_sgd2.best_estimator_.predict(\n",
    "          lda2.transform(tf_vectorizer.transform(train_NLP['desc_clean']))), y_train_RF))\n",
    "print('accuracy sur jeu test : ',\n",
    "      accuracy_score(grid_sgd2.best_estimator_.predict(\n",
    "          lda2.transform(tf_vectorizer.transform(test_NLP['desc_clean']))), y_test_RF))"
   ]
  },
  {
   "cell_type": "markdown",
   "id": "17a02294",
   "metadata": {},
   "source": [
    "#### Regression logistique"
   ]
  },
  {
   "cell_type": "code",
   "execution_count": 115,
   "id": "0546f035",
   "metadata": {},
   "outputs": [],
   "source": [
    "from sklearn.linear_model import LogisticRegression\n",
    "from sklearn.metrics import *"
   ]
  },
  {
   "cell_type": "code",
   "execution_count": 116,
   "id": "9bf86e75",
   "metadata": {},
   "outputs": [],
   "source": [
    "params_lr = {'C': [0.01, 0.1, 0.5, 0.9, 1, 1.1], }\n",
    "lr = GridSearchCV(LogisticRegression(), param_grid=params_lr)"
   ]
  },
  {
   "cell_type": "code",
   "execution_count": 117,
   "id": "89365ef8",
   "metadata": {},
   "outputs": [
    {
     "data": {
      "text/plain": [
       "GridSearchCV(estimator=LogisticRegression(),\n",
       "             param_grid={'C': [0.01, 0.1, 0.5, 0.9, 1, 1.1]})"
      ]
     },
     "execution_count": 117,
     "metadata": {},
     "output_type": "execute_result"
    }
   ],
   "source": [
    "lr.fit(X_train_sup, y_train_RF)"
   ]
  },
  {
   "cell_type": "code",
   "execution_count": 118,
   "id": "d6ef653f",
   "metadata": {},
   "outputs": [
    {
     "data": {
      "text/plain": [
       "LogisticRegression(C=1.1)"
      ]
     },
     "execution_count": 118,
     "metadata": {},
     "output_type": "execute_result"
    }
   ],
   "source": [
    "lr.best_estimator_"
   ]
  },
  {
   "cell_type": "code",
   "execution_count": 119,
   "id": "4a3ed415",
   "metadata": {},
   "outputs": [
    {
     "name": "stdout",
     "output_type": "stream",
     "text": [
      "mse train :  0.2884371029224905\n",
      "mse test :  0.45627376425855515\n"
     ]
    }
   ],
   "source": [
    "print('mse train : ',\n",
    "      mean_squared_error(lr.best_estimator_.predict(X_train_sup), y_train_RF))\n",
    "print('mse test : ',\n",
    "      mean_squared_error(lr.best_estimator_.predict(\n",
    "          (vectorizer.transform(test_NLP['desc_clean']))), y_test_RF))"
   ]
  },
  {
   "cell_type": "code",
   "execution_count": 120,
   "id": "2689d90e",
   "metadata": {},
   "outputs": [
    {
     "name": "stdout",
     "output_type": "stream",
     "text": [
      "R2 train :  0.9271301052040777\n",
      "R2 test :  0.8768649728447468\n"
     ]
    }
   ],
   "source": [
    "print('R2 train : ',\n",
    "      r2_score(lr.best_estimator_.predict(X_train_sup), y_train_RF))\n",
    "print('R2 test : ',\n",
    "      r2_score(lr.best_estimator_.predict(\n",
    "          (vectorizer.transform(test_NLP['desc_clean']))), y_test_RF))"
   ]
  },
  {
   "cell_type": "markdown",
   "id": "def15972",
   "metadata": {},
   "source": [
    "#### Avec Random Forest"
   ]
  },
  {
   "cell_type": "code",
   "execution_count": 121,
   "id": "b2f60238",
   "metadata": {},
   "outputs": [],
   "source": [
    "from sklearn.ensemble import RandomForestClassifier"
   ]
  },
  {
   "cell_type": "code",
   "execution_count": 122,
   "id": "0ee6658d",
   "metadata": {},
   "outputs": [],
   "source": [
    "# Estimator\n",
    "Random_Forest = RandomForestClassifier()\n",
    "\n",
    "params = {\n",
    "    'n_estimators': [5, 10, 20, 50, 100],\n",
    "    'min_samples_leaf': [1, 3, 5, 10],\n",
    "    'max_features': ['auto', 'sqrt']\n",
    "}\n",
    "\n",
    "\n",
    "grid_RF = GridSearchCV(Random_Forest, param_grid=params, cv=5)"
   ]
  },
  {
   "cell_type": "code",
   "execution_count": 123,
   "id": "5e709d43",
   "metadata": {},
   "outputs": [
    {
     "data": {
      "text/plain": [
       "GridSearchCV(cv=5, estimator=RandomForestClassifier(),\n",
       "             param_grid={'max_features': ['auto', 'sqrt'],\n",
       "                         'min_samples_leaf': [1, 3, 5, 10],\n",
       "                         'n_estimators': [5, 10, 20, 50, 100]})"
      ]
     },
     "execution_count": 123,
     "metadata": {},
     "output_type": "execute_result"
    }
   ],
   "source": [
    "grid_RF.fit(X_train_sup, y_train_RF)"
   ]
  },
  {
   "cell_type": "code",
   "execution_count": 124,
   "id": "c502a858",
   "metadata": {},
   "outputs": [
    {
     "data": {
      "text/plain": [
       "RandomForestClassifier(max_features='sqrt', n_estimators=50)"
      ]
     },
     "execution_count": 124,
     "metadata": {},
     "output_type": "execute_result"
    }
   ],
   "source": [
    "grid_RF.best_estimator_"
   ]
  },
  {
   "cell_type": "code",
   "execution_count": 125,
   "id": "bc795385",
   "metadata": {},
   "outputs": [
    {
     "name": "stdout",
     "output_type": "stream",
     "text": [
      "accuracy sur jeu train :  1.0\n",
      "accuracy sur jeu test :  0.9429657794676806\n"
     ]
    }
   ],
   "source": [
    "print('accuracy sur jeu train : ',\n",
    "      accuracy_score(grid_RF.predict(X_train_sup), y_train_RF))\n",
    "print('accuracy sur jeu test : ',\n",
    "      accuracy_score(grid_RF.predict(X_test_sup), y_test_RF))"
   ]
  },
  {
   "cell_type": "code",
   "execution_count": 126,
   "id": "e0502494",
   "metadata": {},
   "outputs": [],
   "source": [
    "# Random forest, basline, Grid(3,5,7,9) sur KNN, Regression logistique\n",
    "# Vord2vect - Doc2vect(entrainer sur les jeux labelisés puis prediction)"
   ]
  },
  {
   "cell_type": "markdown",
   "id": "2ce5a2a6",
   "metadata": {},
   "source": [
    "### Methode non supervisée"
   ]
  },
  {
   "cell_type": "code",
   "execution_count": 127,
   "id": "32ff6e25",
   "metadata": {},
   "outputs": [],
   "source": [
    "import tensorflow as tf\n",
    "from tensorflow import keras\n",
    "from tensorflow.keras import layers"
   ]
  },
  {
   "cell_type": "markdown",
   "id": "21f31941",
   "metadata": {},
   "source": [
    "#### Préparation données"
   ]
  },
  {
   "cell_type": "code",
   "execution_count": 128,
   "id": "d24d99d3",
   "metadata": {},
   "outputs": [],
   "source": [
    "from gensim.models.doc2vec import Word2Vec, Doc2Vec"
   ]
  },
  {
   "cell_type": "code",
   "execution_count": 129,
   "id": "79b65d13",
   "metadata": {},
   "outputs": [
    {
     "data": {
      "text/plain": [
       "['zyxel',\n",
       " 'pla',\n",
       " 'rs',\n",
       " 'flipkart',\n",
       " 'com',\n",
       " 'genuine',\n",
       " 'day',\n",
       " 'replacement',\n",
       " 'guarantee',\n",
       " 'free',\n",
       " 'shipping',\n",
       " 'cash',\n",
       " 'delivery']"
      ]
     },
     "execution_count": 129,
     "metadata": {},
     "output_type": "execute_result"
    }
   ],
   "source": [
    "from gensim.utils import tokenize\n",
    "sentance = [list(tokenize(s, deacc=True, lower=True))\n",
    "            for s in test_NLP['desc_clean']]\n",
    "sentance[0]"
   ]
  },
  {
   "cell_type": "code",
   "execution_count": 130,
   "id": "07b29158",
   "metadata": {},
   "outputs": [
    {
     "data": {
      "text/plain": [
       "263"
      ]
     },
     "execution_count": 130,
     "metadata": {},
     "output_type": "execute_result"
    }
   ],
   "source": [
    "model_W2V = Word2Vec(sentance, vector_size=300, window=20,\n",
    "                     min_count=2, workers=1)\n",
    "model_W2V.corpus_count"
   ]
  },
  {
   "cell_type": "code",
   "execution_count": 131,
   "id": "4c624412",
   "metadata": {},
   "outputs": [
    {
     "data": {
      "text/plain": [
       "['rs', 'cm', 'free', 'genuine', 'cash']"
      ]
     },
     "execution_count": 131,
     "metadata": {},
     "output_type": "execute_result"
    }
   ],
   "source": [
    "vocab = model_W2V.wv.index_to_key\n",
    "list(vocab)[:5]"
   ]
  },
  {
   "cell_type": "code",
   "execution_count": 132,
   "id": "24d15754",
   "metadata": {},
   "outputs": [
    {
     "data": {
      "text/plain": [
       "((300,),\n",
       " array([-0.00633598,  0.3240816 , -0.03470268,  0.15342218, -0.07382907,\n",
       "        -0.29471964,  0.18895233,  0.57383776,  0.18300942, -0.12949263],\n",
       "       dtype=float32))"
      ]
     },
     "execution_count": 132,
     "metadata": {},
     "output_type": "execute_result"
    }
   ],
   "source": [
    "# Les dix premières coordonnées du vecteur associé au mot watch.\n",
    "model_W2V.wv['watch'].shape, model_W2V.wv['watch'][:10]"
   ]
  },
  {
   "cell_type": "code",
   "execution_count": 133,
   "id": "d2414a01",
   "metadata": {},
   "outputs": [],
   "source": [
    "def get_vect(word, model):\n",
    "    try:\n",
    "        return model.wv[word]\n",
    "    except KeyError:\n",
    "        return np.zeros((model.vector_size,))\n",
    "\n",
    "\n",
    "def sum_vectors(phrase, model):\n",
    "    return sum(get_vect(w, model) for w in phrase)\n",
    "\n",
    "\n",
    "def word2vec_features(X, model):\n",
    "    feats = np.vstack([sum_vectors(p, model) for p in X])\n",
    "    return feats"
   ]
  },
  {
   "cell_type": "code",
   "execution_count": 134,
   "id": "9d6437ce",
   "metadata": {},
   "outputs": [
    {
     "data": {
      "text/plain": [
       "(787, 300)"
      ]
     },
     "execution_count": 134,
     "metadata": {},
     "output_type": "execute_result"
    }
   ],
   "source": [
    "wv_train_feat = word2vec_features(train_NLP[\"desc_clean\"], model_W2V)\n",
    "wv_train_feat.shape"
   ]
  },
  {
   "cell_type": "code",
   "execution_count": 135,
   "id": "f384064b",
   "metadata": {},
   "outputs": [],
   "source": [
    "le = preprocessing.LabelEncoder()\n",
    "wv_y_train = le.fit_transform(train_NLP['cat_lvl_1'])\n",
    "wv_y_test = le.fit_transform(test_NLP['cat_lvl_1'])"
   ]
  },
  {
   "cell_type": "code",
   "execution_count": 136,
   "id": "6b5c48ab",
   "metadata": {},
   "outputs": [
    {
     "data": {
      "text/plain": [
       "LogisticRegression(max_iter=1000)"
      ]
     },
     "execution_count": 136,
     "metadata": {},
     "output_type": "execute_result"
    }
   ],
   "source": [
    "clfwv = LogisticRegression(solver='lbfgs', max_iter=1000)\n",
    "clfwv.fit(wv_train_feat, wv_y_train)"
   ]
  },
  {
   "cell_type": "code",
   "execution_count": 137,
   "id": "deb12a66",
   "metadata": {},
   "outputs": [],
   "source": [
    "wv_test_feat = word2vec_features(test_NLP[\"desc_clean\"], model_W2V)"
   ]
  },
  {
   "cell_type": "code",
   "execution_count": 138,
   "id": "6926de93",
   "metadata": {},
   "outputs": [
    {
     "data": {
      "text/plain": [
       "0.4296577946768061"
      ]
     },
     "execution_count": 138,
     "metadata": {},
     "output_type": "execute_result"
    }
   ],
   "source": [
    "clfwv.score(wv_test_feat, wv_y_test)"
   ]
  },
  {
   "cell_type": "code",
   "execution_count": 139,
   "id": "6cbcb639",
   "metadata": {},
   "outputs": [
    {
     "data": {
      "text/plain": [
       "RandomForestClassifier()"
      ]
     },
     "execution_count": 139,
     "metadata": {},
     "output_type": "execute_result"
    }
   ],
   "source": [
    "clfwv_rf = RandomForestClassifier()\n",
    "clfwv_rf.fit(wv_train_feat, wv_y_train)"
   ]
  },
  {
   "cell_type": "code",
   "execution_count": 140,
   "id": "df194e45",
   "metadata": {},
   "outputs": [
    {
     "data": {
      "text/plain": [
       "0.49049429657794674"
      ]
     },
     "execution_count": 140,
     "metadata": {},
     "output_type": "execute_result"
    }
   ],
   "source": [
    "clfwv_rf.score(wv_test_feat, wv_y_test)"
   ]
  },
  {
   "cell_type": "code",
   "execution_count": 148,
   "id": "94a89862",
   "metadata": {},
   "outputs": [
    {
     "data": {
      "text/plain": [
       "array([[0.03699254, 0.12393444, 0.07243506, ..., 0.15855313, 0.47534746,\n",
       "        0.02162173],\n",
       "       [0.08973896, 0.17031575, 0.06986994, ..., 0.18691623, 0.1127717 ,\n",
       "        0.22197758],\n",
       "       [0.09484135, 0.21603421, 0.12171848, ..., 0.1421464 , 0.14359322,\n",
       "        0.1471096 ],\n",
       "       ...,\n",
       "       [0.24892319, 0.17627333, 0.15623673, ..., 0.16061469, 0.0829616 ,\n",
       "        0.07952886],\n",
       "       [0.07285963, 0.24020554, 0.13243701, ..., 0.11897105, 0.06387914,\n",
       "        0.23798746],\n",
       "       [0.16277277, 0.26318298, 0.25525098, ..., 0.09670514, 0.03562636,\n",
       "        0.07863023]])"
      ]
     },
     "execution_count": 148,
     "metadata": {},
     "output_type": "execute_result"
    }
   ],
   "source": [
    "clfwv.predict_proba(wv_train_feat)"
   ]
  },
  {
   "cell_type": "code",
   "execution_count": 149,
   "id": "c2097d9b",
   "metadata": {},
   "outputs": [
    {
     "data": {
      "text/plain": [
       "['stop',\n",
       " 'storage',\n",
       " 'store',\n",
       " 'strap',\n",
       " 'strict',\n",
       " 'striker',\n",
       " 'string',\n",
       " 'stringent',\n",
       " 'strip',\n",
       " 'stroller']"
      ]
     },
     "execution_count": 149,
     "metadata": {},
     "output_type": "execute_result"
    }
   ],
   "source": [
    "words = list(sorted(model_W2V.wv.index_to_key))\n",
    "words[1000:1010]"
   ]
  },
  {
   "cell_type": "code",
   "execution_count": 150,
   "id": "eae79ce1",
   "metadata": {},
   "outputs": [
    {
     "data": {
      "text/plain": [
       "1169"
      ]
     },
     "execution_count": 150,
     "metadata": {},
     "output_type": "execute_result"
    }
   ],
   "source": [
    "len(words)"
   ]
  },
  {
   "cell_type": "markdown",
   "id": "f14eb5e8",
   "metadata": {},
   "source": [
    "#### Model Tokenizer"
   ]
  },
  {
   "cell_type": "code",
   "execution_count": 151,
   "id": "69d4cb43",
   "metadata": {},
   "outputs": [
    {
     "name": "stdout",
     "output_type": "stream",
     "text": [
      "nombre total de mots:  40628\n"
     ]
    }
   ],
   "source": [
    "corpus = ' '.join(df['desc_clean'].values)\n",
    "print(\"nombre total de mots: \", len(corpus.split()))"
   ]
  },
  {
   "cell_type": "code",
   "execution_count": 152,
   "id": "3525544d",
   "metadata": {},
   "outputs": [],
   "source": [
    "counter = Counter(corpus.split())"
   ]
  },
  {
   "cell_type": "code",
   "execution_count": 153,
   "id": "2fbf8372",
   "metadata": {
    "scrolled": true
   },
   "outputs": [
    {
     "data": {
      "text/plain": [
       "Counter({'key': 220,\n",
       "         'elegance': 11,\n",
       "         'polyester': 63,\n",
       "         'multicolor': 150,\n",
       "         'abstract': 48,\n",
       "         'eyelet': 42,\n",
       "         'door': 39,\n",
       "         'floral': 63,\n",
       "         'curtain': 41,\n",
       "         'cm': 517,\n",
       "         'height': 56,\n",
       "         'pack': 317,\n",
       "         'price': 352,\n",
       "         'r': 130,\n",
       "         'look': 42,\n",
       "         'high': 113,\n",
       "         'quality': 245,\n",
       "         'fabric': 205,\n",
       "         'style': 110,\n",
       "         'stitch': 1,\n",
       "         'metal': 30,\n",
       "         'room': 74,\n",
       "         'environment': 4,\n",
       "         'romantic': 1,\n",
       "         'ant': 5,\n",
       "         'wrinkle': 3,\n",
       "         'anti': 23,\n",
       "         'shrinkage': 3,\n",
       "         'elegant': 50,\n",
       "         'apparance': 1,\n",
       "         'home': 164,\n",
       "         'bright': 16,\n",
       "         'modernistic': 1,\n",
       "         'appeal': 8,\n",
       "         'surreal': 1,\n",
       "         'attention': 5,\n",
       "         'sure': 38,\n",
       "         'contemporary': 13,\n",
       "         'valance': 1,\n",
       "         'first': 10,\n",
       "         'thing': 3,\n",
       "         'morning': 28,\n",
       "         'sun': 5,\n",
       "         'good': 40,\n",
       "         'whole': 10,\n",
       "         'world': 19,\n",
       "         'evening': 1,\n",
       "         'special': 44,\n",
       "         'joyous': 1,\n",
       "         'beauty': 34,\n",
       "         'soothe': 2,\n",
       "         'light': 102,\n",
       "         'right': 17,\n",
       "         'amount': 4,\n",
       "         'sunlight': 2,\n",
       "         'general': 288,\n",
       "         'brand': 238,\n",
       "         'type': 283,\n",
       "         'model': 210,\n",
       "         'name': 102,\n",
       "         'set': 100,\n",
       "         '-PRON-': 53,\n",
       "         'duster': 1,\n",
       "         'color': 322,\n",
       "         'box': 292,\n",
       "         'number': 253,\n",
       "         'package': 144,\n",
       "         'body': 98,\n",
       "         'design': 220,\n",
       "         'material': 269,\n",
       "         'sathiyas': 3,\n",
       "         'cotton': 293,\n",
       "         'bath': 51,\n",
       "         'towel': 63,\n",
       "         'yellow': 50,\n",
       "         'blue': 115,\n",
       "         'machine': 45,\n",
       "         'washable': 37,\n",
       "         'gsm': 19,\n",
       "         'ideal': 160,\n",
       "         'asvtwl': 1,\n",
       "         'size': 177,\n",
       "         'mediam': 1,\n",
       "         'inch': 182,\n",
       "         'width': 114,\n",
       "         'eurospa': 5,\n",
       "         'terry': 7,\n",
       "         'face': 38,\n",
       "         'small': 26,\n",
       "         'piece': 36,\n",
       "         'assort': 3,\n",
       "         'rs': 738,\n",
       "         'soft': 83,\n",
       "         'export': 3,\n",
       "         'texture': 6,\n",
       "         'care': 120,\n",
       "         'skin': 146,\n",
       "         'lot': 1,\n",
       "         'renowne': 1,\n",
       "         'last': 18,\n",
       "         'famous': 10,\n",
       "         'fine': 30,\n",
       "         'absorbency': 3,\n",
       "         'softness': 2,\n",
       "         'durability': 26,\n",
       "         'product': 233,\n",
       "         'susceptible': 1,\n",
       "         'picture': 22,\n",
       "         'wash': 106,\n",
       "         'cold': 13,\n",
       "         'water': 146,\n",
       "         'flat': 30,\n",
       "         'dry': 34,\n",
       "         'use': 67,\n",
       "         'cms': 32,\n",
       "         'shuvam': 2,\n",
       "         'boy': 91,\n",
       "         'g': 111,\n",
       "         'length': 68,\n",
       "         'santosh': 7,\n",
       "         'royal': 19,\n",
       "         'fashion': 19,\n",
       "         'double': 74,\n",
       "         'bedsheet': 57,\n",
       "         'perfact': 1,\n",
       "         'pillow': 33,\n",
       "         'cover': 78,\n",
       "         'gold': 71,\n",
       "         'wedding': 13,\n",
       "         'goldbedi': 1,\n",
       "         'sheet': 71,\n",
       "         'depth': 64,\n",
       "         'jaipur': 14,\n",
       "         'print': 130,\n",
       "         'king': 12,\n",
       "         'white': 84,\n",
       "         'nice': 7,\n",
       "         'bed': 43,\n",
       "         'hand': 63,\n",
       "         'fast': 2,\n",
       "         'colour': 37,\n",
       "         'long': 35,\n",
       "         'life': 23,\n",
       "         'thread': 12,\n",
       "         'count': 6,\n",
       "         'machinewash': 1,\n",
       "         'warranty': 226,\n",
       "         'waranty': 2,\n",
       "         'defect': 4,\n",
       "         'onle': 1,\n",
       "         'origional': 2,\n",
       "         'maserati': 2,\n",
       "         'time': 28,\n",
       "         'analog': 241,\n",
       "         'watch': 324,\n",
       "         'online': 324,\n",
       "         'india': 180,\n",
       "         'flipkart': 479,\n",
       "         'com': 465,\n",
       "         'great': 189,\n",
       "         'genuine': 564,\n",
       "         'day': 540,\n",
       "         'replacement': 559,\n",
       "         'guarantee': 469,\n",
       "         'free': 614,\n",
       "         'shipping': 286,\n",
       "         'cash': 564,\n",
       "         'delivery': 567,\n",
       "         'camerii': 2,\n",
       "         'wm': 2,\n",
       "         'star': 3,\n",
       "         'uft': 1,\n",
       "         'tsw': 1,\n",
       "         'bk': 3,\n",
       "         'br': 4,\n",
       "         'way': 38,\n",
       "         'family': 5,\n",
       "         'lifestyle': 3,\n",
       "         'touch': 14,\n",
       "         'sophistication': 2,\n",
       "         'class': 7,\n",
       "         'mundane': 2,\n",
       "         'regular': 37,\n",
       "         'daily': 10,\n",
       "         'wear': 30,\n",
       "         'separate': 2,\n",
       "         'rest': 3,\n",
       "         'alfajr': 4,\n",
       "         'wy': 2,\n",
       "         'b': 33,\n",
       "         'youth': 4,\n",
       "         'digital': 49,\n",
       "         'azan': 2,\n",
       "         'prayer': 3,\n",
       "         'direction': 3,\n",
       "         'hijri': 1,\n",
       "         'gregorian': 1,\n",
       "         'bookmark': 1,\n",
       "         'tag': 3,\n",
       "         'heuer': 2,\n",
       "         'cau': 2,\n",
       "         'ba': 3,\n",
       "         'formula': 3,\n",
       "         'boys': 11,\n",
       "         'swiss': 3,\n",
       "         'quartz': 9,\n",
       "         'movement': 6,\n",
       "         'scratch': 19,\n",
       "         'resistant': 79,\n",
       "         'sapphire': 1,\n",
       "         'crystal': 20,\n",
       "         'glass': 57,\n",
       "         'feature': 9,\n",
       "         'calibro': 2,\n",
       "         'sw': 3,\n",
       "         'mtg': 4,\n",
       "         'black': 133,\n",
       "         'dial': 91,\n",
       "         'round': 98,\n",
       "         'fashionable': 3,\n",
       "         'statement': 2,\n",
       "         'usage': 8,\n",
       "         'able': 8,\n",
       "         'wide': 35,\n",
       "         'range': 37,\n",
       "         'variety': 8,\n",
       "         'youthful': 6,\n",
       "         'approach': 3,\n",
       "         'finish': 45,\n",
       "         'everything': 6,\n",
       "         'carti': 1,\n",
       "         'w': 72,\n",
       "         'lois': 2,\n",
       "         'caron': 2,\n",
       "         'lcs': 2,\n",
       "         'titan': 2,\n",
       "         'sl': 16,\n",
       "         'srushti': 3,\n",
       "         'art': 68,\n",
       "         'jewelry': 2,\n",
       "         'megnet': 4,\n",
       "         'sport': 4,\n",
       "         'fresh': 67,\n",
       "         'arrival': 1,\n",
       "         'fancy': 8,\n",
       "         'girlswatch': 1,\n",
       "         'wrist': 4,\n",
       "         'escort': 3,\n",
       "         'e': 73,\n",
       "         'blk': 2,\n",
       "         'mantra': 2,\n",
       "         'house': 39,\n",
       "         'timepiece': 2,\n",
       "         'rainy': 2,\n",
       "         'resistance': 4,\n",
       "         'upto': 4,\n",
       "         'atm': 2,\n",
       "         'jack': 3,\n",
       "         'klein': 2,\n",
       "         'buy': 34,\n",
       "         'north': 4,\n",
       "         'moon': 2,\n",
       "         'iw': 2,\n",
       "         'silicone': 9,\n",
       "         'ion': 2,\n",
       "         'fk': 1,\n",
       "         'franck': 4,\n",
       "         'bella': 4,\n",
       "         'fb': 7,\n",
       "         'c': 19,\n",
       "         'apple': 36,\n",
       "         'shape': 46,\n",
       "         'skmei': 4,\n",
       "         'ad': 3,\n",
       "         'dark': 53,\n",
       "         'orange': 33,\n",
       "         'chronograph': 3,\n",
       "         'alarm': 6,\n",
       "         'function': 5,\n",
       "         'date': 6,\n",
       "         'month': 24,\n",
       "         'display': 18,\n",
       "         'ethnic': 9,\n",
       "         'sp': 1,\n",
       "         'dg': 4,\n",
       "         'red': 60,\n",
       "         'fastrack': 6,\n",
       "         'pl': 14,\n",
       "         'stainless': 58,\n",
       "         'steel': 82,\n",
       "         'hybrid': 1,\n",
       "         'case': 61,\n",
       "         'construction': 2,\n",
       "         'rugge': 1,\n",
       "         'increase': 1,\n",
       "         'shock': 3,\n",
       "         'precision': 4,\n",
       "         'analogue': 1,\n",
       "         'wq': 2,\n",
       "         'qibla': 3,\n",
       "         'compass': 3,\n",
       "         'calculation': 1,\n",
       "         'disney': 4,\n",
       "         'dw': 6,\n",
       "         'vizion': 3,\n",
       "         'purple': 14,\n",
       "         'series': 41,\n",
       "         'year': 21,\n",
       "         'manufacturer': 7,\n",
       "         'automatic': 4,\n",
       "         'solid': 42,\n",
       "         'dimension': 10,\n",
       "         'mm': 63,\n",
       "         'strap': 85,\n",
       "         'night': 13,\n",
       "         'backlight': 2,\n",
       "         'hour': 5,\n",
       "         'minute': 2,\n",
       "         'second': 4,\n",
       "         'week': 2,\n",
       "         'format': 7,\n",
       "         'attractive': 40,\n",
       "         'packaging': 2,\n",
       "         'tuff': 2,\n",
       "         'plastic': 44,\n",
       "         'note': 33,\n",
       "         'non': 16,\n",
       "         'receipt': 2,\n",
       "         'card': 12,\n",
       "         'please': 50,\n",
       "         'disclaimer': 3,\n",
       "         'due': 27,\n",
       "         'photographic': 4,\n",
       "         'lighting': 6,\n",
       "         'monitor': 7,\n",
       "         'image': 27,\n",
       "         'view': 6,\n",
       "         'elantra': 2,\n",
       "         'marvel': 5,\n",
       "         'buckle': 25,\n",
       "         'clasp': 31,\n",
       "         'multi': 38,\n",
       "         'lenco': 2,\n",
       "         'bdblue': 3,\n",
       "         'tango': 2,\n",
       "         'casual': 92,\n",
       "         'big': 9,\n",
       "         'colourful': 5,\n",
       "         'signer': 2,\n",
       "         'gm': 7,\n",
       "         'wht': 1,\n",
       "         'diwan': 16,\n",
       "         'cushion': 36,\n",
       "         'exciting': 1,\n",
       "         'designer': 14,\n",
       "         'furniture': 1,\n",
       "         'kitchenware': 1,\n",
       "         'pattern': 85,\n",
       "         'code': 82,\n",
       "         'dsnsan': 1,\n",
       "         'additional': 84,\n",
       "         'queen': 12,\n",
       "         'duvet': 23,\n",
       "         'outer': 5,\n",
       "         'inner': 10,\n",
       "         'polyfill': 5,\n",
       "         'grey': 24,\n",
       "         'closure': 12,\n",
       "         'button': 17,\n",
       "         'p': 9,\n",
       "         'smart': 30,\n",
       "         'stripe': 4,\n",
       "         'reversible': 9,\n",
       "         'riva': 1,\n",
       "         'mat': 7,\n",
       "         'classic': 19,\n",
       "         'loop': 14,\n",
       "         'shag': 1,\n",
       "         'bathmat': 1,\n",
       "         'ri': 1,\n",
       "         'myesquire': 3,\n",
       "         'ceramic': 216,\n",
       "         'burner': 5,\n",
       "         'pot': 32,\n",
       "         'lemongrass': 3,\n",
       "         'liquid': 16,\n",
       "         'air': 21,\n",
       "         'freshener': 1,\n",
       "         'ml': 101,\n",
       "         'illuminate': 4,\n",
       "         'corner': 8,\n",
       "         'living': 25,\n",
       "         'fragrance': 17,\n",
       "         'electric': 4,\n",
       "         'combo': 146,\n",
       "         'unique': 32,\n",
       "         'useful': 6,\n",
       "         'value': 3,\n",
       "         'money': 4,\n",
       "         'decoration': 18,\n",
       "         'ready': 7,\n",
       "         'tea': 72,\n",
       "         'spoon': 4,\n",
       "         'aroma': 30,\n",
       "         'oil': 50,\n",
       "         'bowl': 35,\n",
       "         'surface': 27,\n",
       "         'captivate': 2,\n",
       "         'hot': 14,\n",
       "         'dungri': 3,\n",
       "         'craft': 15,\n",
       "         'ducjug': 4,\n",
       "         'ducgl': 4,\n",
       "         'jug': 19,\n",
       "         'capacity': 54,\n",
       "         'weight': 36,\n",
       "         'copper': 31,\n",
       "         'ware': 3,\n",
       "         'spread': 6,\n",
       "         'many': 10,\n",
       "         'alloy': 3,\n",
       "         'content': 7,\n",
       "         'exposure': 2,\n",
       "         'research': 2,\n",
       "         'southampton': 1,\n",
       "         'university': 5,\n",
       "         'u': 12,\n",
       "         'k': 11,\n",
       "         'mrsa': 1,\n",
       "         'alive': 1,\n",
       "         'microbe': 1,\n",
       "         'serve': 3,\n",
       "         'durable': 41,\n",
       "         'excellent': 12,\n",
       "         'ageless': 1,\n",
       "         'testimony': 1,\n",
       "         'myriad': 1,\n",
       "         'therapeutic': 1,\n",
       "         'fact': 2,\n",
       "         'elixir': 1,\n",
       "         'digestion': 1,\n",
       "         'cardiac': 1,\n",
       "         'basis': 1,\n",
       "         'health': 7,\n",
       "         'ayurveda': 1,\n",
       "         'old': 10,\n",
       "         'vedic': 3,\n",
       "         'tip': 10,\n",
       "         'copperware': 1,\n",
       "         'avoid': 4,\n",
       "         'dishwasher': 3,\n",
       "         'detergent': 18,\n",
       "         'oxidation': 1,\n",
       "         'damage': 33,\n",
       "         'solution': 10,\n",
       "         'equal': 3,\n",
       "         'vinegar': 1,\n",
       "         'lemon': 8,\n",
       "         'juice': 3,\n",
       "         'salt': 1,\n",
       "         'scratchy': 1,\n",
       "         'simple': 17,\n",
       "         'soap': 28,\n",
       "         'base': 15,\n",
       "         'washing': 1,\n",
       "         'cloth': 17,\n",
       "         'l': 115,\n",
       "         'diameter': 14,\n",
       "         'dia': 3,\n",
       "         'safe': 87,\n",
       "         'result': 1,\n",
       "         'pitambari': 1,\n",
       "         'power': 119,\n",
       "         'bft': 4,\n",
       "         'bulb': 31,\n",
       "         'new': 34,\n",
       "         'technology': 12,\n",
       "         'filament': 1,\n",
       "         'table': 57,\n",
       "         'consumption': 21,\n",
       "         'jmd': 3,\n",
       "         'x': 46,\n",
       "         'suitable': 62,\n",
       "         'square': 7,\n",
       "         'mom': 20,\n",
       "         'baby': 300,\n",
       "         'girl': 159,\n",
       "         'green': 71,\n",
       "         'top': 45,\n",
       "         'pyjama': 20,\n",
       "         'suit': 8,\n",
       "         'neck': 73,\n",
       "         'kripa': 3,\n",
       "         'cc': 4,\n",
       "         'mh': 3,\n",
       "         'nack': 1,\n",
       "         'burt': 3,\n",
       "         'repair': 15,\n",
       "         'shea': 5,\n",
       "         'grapefruit': 3,\n",
       "         'deep': 13,\n",
       "         'conditioner': 20,\n",
       "         'conditioning': 2,\n",
       "         'hair': 61,\n",
       "         'condition': 7,\n",
       "         'quantity': 23,\n",
       "         'akup': 25,\n",
       "         'music': 5,\n",
       "         'mug': 325,\n",
       "         'coffee': 164,\n",
       "         'love': 106,\n",
       "         'clay': 17,\n",
       "         'volume': 5,\n",
       "         'moment': 5,\n",
       "         'unforgettable': 5,\n",
       "         'forever': 5,\n",
       "         'item': 31,\n",
       "         'glossy': 10,\n",
       "         'specialty': 11,\n",
       "         'dirt': 7,\n",
       "         'moist': 5,\n",
       "         'tone': 13,\n",
       "         'compromise': 7,\n",
       "         'freezer': 13,\n",
       "         'calm': 3,\n",
       "         'link': 10,\n",
       "         'dap': 2,\n",
       "         'qrs': 1,\n",
       "         'app': 3,\n",
       "         'android': 23,\n",
       "         'speed': 6,\n",
       "         'wireless': 17,\n",
       "         'mbps': 5,\n",
       "         'dsl': 6,\n",
       "         'extender': 7,\n",
       "         'plug': 10,\n",
       "         'summary': 33,\n",
       "         'service': 40,\n",
       "         'connectivity': 3,\n",
       "         'antennae': 1,\n",
       "         'usb': 170,\n",
       "         'internal': 1,\n",
       "         'standard': 10,\n",
       "         'ieee': 2,\n",
       "         'n': 60,\n",
       "         'operate': 2,\n",
       "         'humidity': 1,\n",
       "         'storage': 13,\n",
       "         'temperature': 5,\n",
       "         'degree': 3,\n",
       "         'fcc': 1,\n",
       "         'ic': 1,\n",
       "         'ce': 19,\n",
       "         'league': 5,\n",
       "         'suave': 2,\n",
       "         'sunshine': 3,\n",
       "         'live': 3,\n",
       "         'roq': 4,\n",
       "         'slim': 10,\n",
       "         'multimedia': 5,\n",
       "         'flexible': 43,\n",
       "         'keyboard': 31,\n",
       "         'briefcase': 1,\n",
       "         'alcohol': 1,\n",
       "         'disinfectant': 1,\n",
       "         'disease': 1,\n",
       "         'public': 3,\n",
       "         'place': 43,\n",
       "         'school': 3,\n",
       "         'restaurant': 1,\n",
       "         'hospital': 5,\n",
       "         'clean': 21,\n",
       "         'requirement': 2,\n",
       "         'dusty': 1,\n",
       "         'area': 24,\n",
       "         'factory': 23,\n",
       "         'outdoor': 5,\n",
       "         'quiet': 1,\n",
       "         'keystroke': 1,\n",
       "         'match': 1,\n",
       "         'library': 1,\n",
       "         'tiny': 1,\n",
       "         'bit': 2,\n",
       "         'output': 30,\n",
       "         'dustproof': 1,\n",
       "         'lbs': 1,\n",
       "         'operation': 3,\n",
       "         'manufacture': 9,\n",
       "         'physical': 7,\n",
       "         'cookart': 4,\n",
       "         'handi': 7,\n",
       "         'casserole': 9,\n",
       "         'cook': 5,\n",
       "         'perfect': 158,\n",
       "         'fusion': 3,\n",
       "         'addition': 11,\n",
       "         'kitchen': 67,\n",
       "         'hygiene': 1,\n",
       "         'ech': 4,\n",
       "         'silver': 24,\n",
       "         'include': 1,\n",
       "         'jrb': 9,\n",
       "         'mobile': 20,\n",
       "         'otg': 15,\n",
       "         'phone': 25,\n",
       "         'portable': 39,\n",
       "         'fan': 36,\n",
       "         'system': 20,\n",
       "         'micro': 8,\n",
       "         'borse': 2,\n",
       "         'jewellery': 37,\n",
       "         'vanity': 20,\n",
       "         'rythmx': 5,\n",
       "         'nail': 11,\n",
       "         'important': 14,\n",
       "         'polish': 9,\n",
       "         'organic': 21,\n",
       "         'professional': 7,\n",
       "         'exchange': 5,\n",
       "         'return': 8,\n",
       "         'matte': 12,\n",
       "         'intense': 10,\n",
       "         'chic': 1,\n",
       "         'ultra': 8,\n",
       "         'creamy': 1,\n",
       "         'brillare': 1,\n",
       "         'science': 3,\n",
       "         'dandruff': 2,\n",
       "         'control': 13,\n",
       "         'shampoo': 17,\n",
       "         'intenso': 2,\n",
       "         'creme': 6,\n",
       "         'eye': 23,\n",
       "         'liner': 5,\n",
       "         'lip': 19,\n",
       "         'gloss': 9,\n",
       "         'eyeliner': 4,\n",
       "         'fidelity': 1,\n",
       "         'indicative': 15,\n",
       "         'precise': 3,\n",
       "         'actual': 24,\n",
       "         'resolution': 6,\n",
       "         'screen': 17,\n",
       "         'polishs': 1,\n",
       "         'kohl': 3,\n",
       "         'wine': 12,\n",
       "         'bag': 30,\n",
       "         'easy': 103,\n",
       "         'jutebag': 2,\n",
       "         'jute': 1,\n",
       "         'large': 25,\n",
       "         'shopmania': 3,\n",
       "         'happy': 35,\n",
       "         'birthday': 12,\n",
       "         'gift': 95,\n",
       "         'letter': 3,\n",
       "         'q': 4,\n",
       "         'chhote': 2,\n",
       "         'janab': 2,\n",
       "         'cozy': 6,\n",
       "         'mattress': 9,\n",
       "         'protector': 3,\n",
       "         'waterproof': 18,\n",
       "         'plain': 16,\n",
       "         'comfortable': 32,\n",
       "         'vary': 1,\n",
       "         'prime': 10,\n",
       "         'seater': 11,\n",
       "         'pvc': 17,\n",
       "         'center': 17,\n",
       "         'ski': 1,\n",
       "         'winner': 2,\n",
       "         'skyblue': 3,\n",
       "         'low': 12,\n",
       "         'lunch': 5,\n",
       "         'bos': 1,\n",
       "         'bottle': 51,\n",
       "         'gayatri': 1,\n",
       "         'luck': 1,\n",
       "         'caffeine': 4,\n",
       "         'handmade': 14,\n",
       "         'tribal': 9,\n",
       "         'katori': 5,\n",
       "         'stoneware': 10,\n",
       "         'pottery': 7,\n",
       "         'cute': 33,\n",
       "         'combination': 11,\n",
       "         'field': 2,\n",
       "         'enough': 2,\n",
       "         'elite': 3,\n",
       "         'sweet': 4,\n",
       "         'food': 11,\n",
       "         'modern': 10,\n",
       "         'dessert': 10,\n",
       "         'meal': 1,\n",
       "         'sparkle': 1,\n",
       "         'appreciation': 1,\n",
       "         'hospitality': 1,\n",
       "         'nt': 1,\n",
       "         'ice': 7,\n",
       "         'cream': 32,\n",
       "         'fruit': 23,\n",
       "         'decorative': 34,\n",
       "         'soup': 1,\n",
       "         'vegetable': 1,\n",
       "         'sauce': 1,\n",
       "         'garnet': 2,\n",
       "         'traveller': 2,\n",
       "         'stylish': 52,\n",
       "         'cap': 19,\n",
       "         'pink': 27,\n",
       "         'basic': 11,\n",
       "         'occasion': 57,\n",
       "         'short': 15,\n",
       "         'tg': 2,\n",
       "         'gentle': 16,\n",
       "         'lukewarm': 8,\n",
       "         'graphic': 13,\n",
       "         'antra': 2,\n",
       "         'melange': 2,\n",
       "         'denim': 5,\n",
       "         'patch': 2,\n",
       "         'pocket': 7,\n",
       "         'thigh': 1,\n",
       "         'raw': 1,\n",
       "         'rani': 1,\n",
       "         'ke': 1,\n",
       "         'stor': 1,\n",
       "         'jewellary': 1,\n",
       "         'wood': 37,\n",
       "         'aluminium': 25,\n",
       "         'compartment': 5,\n",
       "         'giorgio': 2,\n",
       "         'smooth': 10,\n",
       "         'silk': 16,\n",
       "         'pencil': 5,\n",
       "         'soyeux': 1,\n",
       "         'smoothly': 1,\n",
       "         'gorgeous': 8,\n",
       "         'dual': 13,\n",
       "         'shade': 17,\n",
       "         'smudge': 1,\n",
       "         'superior': 7,\n",
       "         'beautiful': 74,\n",
       "         'city': 3,\n",
       "         'packing': 3,\n",
       "         'single': 85,\n",
       "         'bolster': 1,\n",
       "         'florence': 2,\n",
       "         'vareesha': 3,\n",
       "         'wooden': 38,\n",
       "         'holder': 13,\n",
       "         'work': 23,\n",
       "         'iron': 21,\n",
       "         'mango': 3,\n",
       "         'sheesham': 1,\n",
       "         'wet': 13,\n",
       "         'wipe': 1,\n",
       "         'traditional': 28,\n",
       "         'utility': 8,\n",
       "         'keybox': 1,\n",
       "         'convenient': 10,\n",
       "         'dust': 15,\n",
       "         'manageable': 2,\n",
       "         'car': 4,\n",
       "         'vsswh': 1,\n",
       "         'h': 12,\n",
       "         'treasure': 5,\n",
       "         'showpiece': 183,\n",
       "         'polyresin': 13,\n",
       "         'te': 1,\n",
       "         'fengshui': 4,\n",
       "         'chinmay': 2,\n",
       "         'mosquito': 2,\n",
       "         'net': 25,\n",
       "         'multicolour': 5,\n",
       "         'convenience': 5,\n",
       "         'person': 1,\n",
       "         'cvpc': 1,\n",
       "         'dress': 103,\n",
       "         'apparel': 2,\n",
       "         'jersey': 1,\n",
       "         'primary': 7,\n",
       "         'fit': 50,\n",
       "         'half': 20,\n",
       "         'vase': 7,\n",
       "         'hgfvscgstgry': 1,\n",
       "         'garden': 3,\n",
       "         'decor': 37,\n",
       "         'wall': 85,\n",
       "         'guru': 10,\n",
       "         'medium': 27,\n",
       "         'adhesive': 22,\n",
       "         'sticker': 61,\n",
       "         'decal': 15,\n",
       "         'awesome': 7,\n",
       "         'guest': 9,\n",
       "         'front': 19,\n",
       "         'pure': 22,\n",
       "         'kind': 10,\n",
       "         'self': 22,\n",
       "         'vinyl': 35,\n",
       "         'plane': 3,\n",
       "         'suppliment': 3,\n",
       "         'wallpaper': 6,\n",
       "         'method': 10,\n",
       "         'thnkss': 3,\n",
       "         'child': 6,\n",
       "         'bedroom': 27,\n",
       "         'oxford': 3,\n",
       "         'tawa': 4,\n",
       "         'stick': 14,\n",
       "         'pan': 2,\n",
       "         'induction': 4,\n",
       "         'dosa': 1,\n",
       "         'rich': 12,\n",
       "         'audio': 13,\n",
       "         'video': 12,\n",
       "         'complete': 14,\n",
       "         'understanding': 1,\n",
       "         'subject': 1,\n",
       "         'understand': 2,\n",
       "         'text': 1,\n",
       "         'learn': 1,\n",
       "         'topic': 1,\n",
       "         'student': 2,\n",
       "         'management': 1,\n",
       "         'software': 1,\n",
       "         'effort': 5,\n",
       "         'comprehensive': 1,\n",
       "         'curriculum': 1,\n",
       "         'coverage': 2,\n",
       "         'eureka': 3,\n",
       "         'gseb': 2,\n",
       "         'vii': 3,\n",
       "         'pen': 10,\n",
       "         'drive': 13,\n",
       "         'premium': 26,\n",
       "         'board': 9,\n",
       "         'performance': 25,\n",
       "         'exam': 1,\n",
       "         'foundation': 1,\n",
       "         'future': 1,\n",
       "         'learning': 3,\n",
       "         'specification': 8,\n",
       "         'num': 1,\n",
       "         'disk': 3,\n",
       "         'interactive': 4,\n",
       "         'quiz': 2,\n",
       "         'visual': 1,\n",
       "         'education': 2,\n",
       "         'gujarat': 1,\n",
       "         'secondary': 4,\n",
       "         'subscription': 1,\n",
       "         'validity': 1,\n",
       "         'gb': 29,\n",
       "         'memory': 17,\n",
       "         'ram': 4,\n",
       "         'space': 5,\n",
       "         'harddisk': 1,\n",
       "         'operating': 2,\n",
       "         'nvidia': 1,\n",
       "         'geforce': 1,\n",
       "         'compatible': 31,\n",
       "         'sound': 7,\n",
       "         'hard': 19,\n",
       "         'processor': 6,\n",
       "         'core': 16,\n",
       "         'duo': 3,\n",
       "         'ghz': 5,\n",
       "         'trade': 5,\n",
       "         'oval': 8,\n",
       "         'coaster': 12,\n",
       "         'antique': 27,\n",
       "         'brown': 47,\n",
       "         'amazing': 5,\n",
       "         'rajasthan': 20,\n",
       "         'authentic': 1,\n",
       "         'ct': 1,\n",
       "         'wd': 1,\n",
       "         'relacement': 1,\n",
       "         'thickness': 1,\n",
       "         'parv': 1,\n",
       "         'couple': 11,\n",
       "         'statue': 21,\n",
       "         'exotic': 12,\n",
       "         'adi': 2,\n",
       "         'buddha': 21,\n",
       "         'vajrasattva': 2,\n",
       "         'princess': 3,\n",
       "         'aapno': 6,\n",
       "         'vaishnava': 2,\n",
       "         'shankha': 2,\n",
       "         'chakra': 4,\n",
       "         'ganesha': 31,\n",
       "         'beyoutiful': 2,\n",
       "         'repouss': 2,\n",
       "         'man': 5,\n",
       "         'dhol': 2,\n",
       "         'angel': 7,\n",
       "         'diviniti': 4,\n",
       "         'ornamental': 5,\n",
       "         'religious': 11,\n",
       "         'royale': 4,\n",
       "         'desk': 10,\n",
       "         'etc': 22,\n",
       "         'definite': 2,\n",
       "         'personal': 5,\n",
       "         'roll': 3,\n",
       "         'pouch': 2,\n",
       "         'kuber': 1,\n",
       "         'thar': 2,\n",
       "         'handloom': 4,\n",
       "         'makeup': 7,\n",
       "         'mdf': 10,\n",
       "         'radha': 5,\n",
       "         'lord': 27,\n",
       "         'idol': 25,\n",
       "         'proof': 6,\n",
       "         'frame': 19,\n",
       "         'craftsmanship': 3,\n",
       "         'figurine': 7,\n",
       "         'wonderful': 6,\n",
       "         'gifting': 2,\n",
       "         'option': 5,\n",
       "         'friend': 3,\n",
       "         'party': 37,\n",
       "         'puja': 4,\n",
       "         'showcase': 1,\n",
       "         'cmr': 1,\n",
       "         'rama': 3,\n",
       "         'shop': 8,\n",
       "         'dohar': 25,\n",
       "         'play': 9,\n",
       "         'inflatable': 4,\n",
       "         'pool': 2,\n",
       "         'bestway': 1,\n",
       "         'artisan': 1,\n",
       "         'creation': 48,\n",
       "         'quilt': 24,\n",
       "         'jaipuri': 4,\n",
       "         'velvet': 30,\n",
       "         'razai': 2,\n",
       "         'sanganeri': 4,\n",
       "         'fluffy': 5,\n",
       "         'indian': 18,\n",
       "         'spectacular': 2,\n",
       "         'check': 6,\n",
       "         'fill': 2,\n",
       "         'side': 12,\n",
       "         'beige': 12,\n",
       "         'remtex': 2,\n",
       "         'cartoon': 13,\n",
       "         'polycotton': 2,\n",
       "         'twisha': 3,\n",
       "         'salwar': 9,\n",
       "         'kurta': 13,\n",
       "         'kurti': 2,\n",
       "         'flamingo': 1,\n",
       "         'polka': 5,\n",
       "         'dupatta': 3,\n",
       "         'sleeveless': 18,\n",
       "         'festive': 6,\n",
       "         'eternity': 2,\n",
       "         'lamp': 30,\n",
       "         'buffet': 1,\n",
       "         'cfsl': 1,\n",
       "         'mosaic': 3,\n",
       "         'v': 41,\n",
       "         'hz': 8,\n",
       "         'source': 11,\n",
       "         'fs': 18,\n",
       "         'mini': 30,\n",
       "         'klub': 15,\n",
       "         'sleepsuit': 9,\n",
       "         'full': 22,\n",
       "         'bootie': 3,\n",
       "         'age': 15,\n",
       "         'group': 17,\n",
       "         'omic': 6,\n",
       "         'poto': 5,\n",
       "         'friendly': 4,\n",
       "         'delicious': 4,\n",
       "         'nutrient': 1,\n",
       "         'infuse': 2,\n",
       "         'go': 4,\n",
       "         'limitless': 1,\n",
       "         'alternative': 2,\n",
       "         'temptation': 1,\n",
       "         'sugary': 1,\n",
       "         'natural': 19,\n",
       "         'drinking': 1,\n",
       "         'healthy': 4,\n",
       "         'extra': 12,\n",
       "         'resistence': 1,\n",
       "         'unbreakable': 3,\n",
       "         'bpa': 2,\n",
       "         'safety': 25,\n",
       "         'leak': 1,\n",
       "         'picnic': 1,\n",
       "         ...})"
      ]
     },
     "execution_count": 153,
     "metadata": {},
     "output_type": "execute_result"
    }
   ],
   "source": [
    "counter"
   ]
  },
  {
   "cell_type": "code",
   "execution_count": 154,
   "id": "f9c716a9",
   "metadata": {},
   "outputs": [],
   "source": [
    "num_words = len(counter)"
   ]
  },
  {
   "cell_type": "code",
   "execution_count": 155,
   "id": "3ec5ec27",
   "metadata": {},
   "outputs": [],
   "source": [
    "max_length = 50"
   ]
  },
  {
   "cell_type": "code",
   "execution_count": 156,
   "id": "43031d4e",
   "metadata": {},
   "outputs": [],
   "source": [
    "from keras.preprocessing.text import Tokenizer\n",
    "\n",
    "tokenizer = Tokenizer(num_words=num_words)\n",
    "tokenizer.fit_on_texts(train_NLP['desc_clean'].values)"
   ]
  },
  {
   "cell_type": "code",
   "execution_count": 157,
   "id": "79ef4c8f",
   "metadata": {},
   "outputs": [],
   "source": [
    "word_index = tokenizer.word_index"
   ]
  },
  {
   "cell_type": "code",
   "execution_count": 158,
   "id": "25ec4779",
   "metadata": {},
   "outputs": [
    {
     "data": {
      "text/plain": [
       "{'rs': 1,\n",
       " 'free': 2,\n",
       " 'delivery': 3,\n",
       " 'replacement': 4,\n",
       " 'cash': 5,\n",
       " 'genuine': 6,\n",
       " 'day': 7,\n",
       " 'cm': 8,\n",
       " 'flipkart': 9,\n",
       " 'guarantee': 10,\n",
       " 'com': 11,\n",
       " 'mug': 12,\n",
       " 'price': 13,\n",
       " 'online': 14,\n",
       " 'watch': 15,\n",
       " 'color': 16,\n",
       " 'baby': 17,\n",
       " 'pack': 18,\n",
       " 'shipping': 19,\n",
       " 'box': 20,\n",
       " 'general': 21,\n",
       " 'cotton': 22,\n",
       " 'type': 23,\n",
       " 'material': 24,\n",
       " 'product': 25,\n",
       " 'quality': 26,\n",
       " 'number': 27,\n",
       " 'analog': 28,\n",
       " 'brand': 29,\n",
       " 'warranty': 30,\n",
       " 'design': 31,\n",
       " 'laptop': 32,\n",
       " 'ceramic': 33,\n",
       " 'key': 34,\n",
       " 'fabric': 35,\n",
       " 'great': 36,\n",
       " 'model': 37,\n",
       " 'coffee': 38,\n",
       " 'showpiece': 39,\n",
       " 'india': 40,\n",
       " 'size': 41,\n",
       " 'perfect': 42,\n",
       " 'usb': 43,\n",
       " 'inch': 44,\n",
       " 'home': 45,\n",
       " 'ideal': 46,\n",
       " 'combo': 47,\n",
       " 'water': 48,\n",
       " 'girl': 49,\n",
       " 'multicolor': 50,\n",
       " 'skin': 51,\n",
       " 'r': 52,\n",
       " 'power': 53,\n",
       " 'battery': 54,\n",
       " 'l': 55,\n",
       " 'package': 56,\n",
       " 'print': 57,\n",
       " 'black': 58,\n",
       " 'love': 59,\n",
       " 'blue': 60,\n",
       " 'care': 61,\n",
       " 'adapter': 62,\n",
       " 'wash': 63,\n",
       " 'high': 64,\n",
       " 'width': 65,\n",
       " 'ml': 66,\n",
       " 'style': 67,\n",
       " 'round': 68,\n",
       " 'e': 69,\n",
       " 'light': 70,\n",
       " 'easy': 71,\n",
       " 'boy': 72,\n",
       " 'casual': 73,\n",
       " 'g': 74,\n",
       " 'gift': 75,\n",
       " 'white': 76,\n",
       " 'safe': 77,\n",
       " 'dial': 78,\n",
       " 'name': 79,\n",
       " 'body': 80,\n",
       " 'strap': 81,\n",
       " 'single': 82,\n",
       " 'soft': 83,\n",
       " 'brass': 84,\n",
       " 'green': 85,\n",
       " 'resistant': 86,\n",
       " 'set': 87,\n",
       " 'additional': 88,\n",
       " 'dress': 89,\n",
       " 'tea': 90,\n",
       " 'neck': 91,\n",
       " 'rockmantra': 92,\n",
       " 'wall': 93,\n",
       " 'pattern': 94,\n",
       " 'code': 95,\n",
       " 'room': 96,\n",
       " 'sheet': 97,\n",
       " 'fresh': 98,\n",
       " 'shirt': 99,\n",
       " 'mm': 100,\n",
       " 'steel': 101,\n",
       " 'cover': 102,\n",
       " 'double': 103,\n",
       " 'hair': 104,\n",
       " 'exclusive': 105,\n",
       " 'pick': 106,\n",
       " 'w': 107,\n",
       " 'suitable': 108,\n",
       " 'use': 109,\n",
       " 'cr': 110,\n",
       " 'beautiful': 111,\n",
       " 'sticker': 112,\n",
       " 'n': 113,\n",
       " 'vaio': 114,\n",
       " 'vgn': 115,\n",
       " 'glass': 116,\n",
       " 'art': 117,\n",
       " 'case': 118,\n",
       " 'depth': 119,\n",
       " 'charger': 120,\n",
       " 'capacity': 121,\n",
       " 'towel': 122,\n",
       " 'please': 123,\n",
       " 'hand': 124,\n",
       " 'yellow': 125,\n",
       " 'gold': 126,\n",
       " 'creation': 127,\n",
       " 'fit': 128,\n",
       " 'floral': 129,\n",
       " 'occasion': 130,\n",
       " 'abstract': 131,\n",
       " 'pad': 132,\n",
       " 'top': 133,\n",
       " 'length': 134,\n",
       " 'red': 135,\n",
       " 'stylish': 136,\n",
       " 'kitchen': 137,\n",
       " 'thrill': 138,\n",
       " 'start': 139,\n",
       " 'permanent': 140,\n",
       " 'bath': 141,\n",
       " 'comfort': 142,\n",
       " 'bedsheet': 143,\n",
       " 'elegant': 144,\n",
       " 'paper': 145,\n",
       " 'smartpro': 146,\n",
       " 'height': 147,\n",
       " 'flexible': 148,\n",
       " 'pc': 149,\n",
       " 'polyester': 150,\n",
       " 'digital': 151,\n",
       " 'pron': 152,\n",
       " 'special': 153,\n",
       " 'bottle': 154,\n",
       " 'mouse': 155,\n",
       " 'dark': 156,\n",
       " 'stainless': 157,\n",
       " 'finish': 158,\n",
       " 'x': 159,\n",
       " 'machine': 160,\n",
       " 'brown': 161,\n",
       " 'jewellery': 162,\n",
       " 'solid': 163,\n",
       " 'series': 164,\n",
       " 'kadhai': 165,\n",
       " 'table': 166,\n",
       " 'attractive': 167,\n",
       " 'oil': 168,\n",
       " 'bed': 169,\n",
       " 'sure': 170,\n",
       " 'regular': 171,\n",
       " 'blanket': 172,\n",
       " 'service': 173,\n",
       " 'range': 174,\n",
       " 'printland': 175,\n",
       " 'way': 176,\n",
       " 'house': 177,\n",
       " 'place': 178,\n",
       " 'customer': 179,\n",
       " 'maxima': 180,\n",
       " 'pot': 181,\n",
       " 'wide': 182,\n",
       " 'shape': 183,\n",
       " 'v': 184,\n",
       " 'wooden': 185,\n",
       " 'get': 186,\n",
       " 'beauty': 187,\n",
       " 'prithish': 188,\n",
       " 'weight': 189,\n",
       " 'golden': 190,\n",
       " 'look': 191,\n",
       " 'decor': 192,\n",
       " 'unique': 193,\n",
       " 'fan': 194,\n",
       " 'damage': 195,\n",
       " 'comfortable': 196,\n",
       " 'good': 197,\n",
       " 'collection': 198,\n",
       " 'cute': 199,\n",
       " 'happy': 200,\n",
       " 'multi': 201,\n",
       " 'washable': 202,\n",
       " 'plastic': 203,\n",
       " 'port': 204,\n",
       " 'wear': 205,\n",
       " 'order': 206,\n",
       " 'voltage': 207,\n",
       " 'summary': 208,\n",
       " 'cushion': 209,\n",
       " 'cream': 210,\n",
       " 'portable': 211,\n",
       " 'new': 212,\n",
       " 'vinyl': 213,\n",
       " 'eyelet': 214,\n",
       " 'curtain': 215,\n",
       " 'b': 216,\n",
       " 'party': 217,\n",
       " 'compatible': 218,\n",
       " 'face': 219,\n",
       " 'orange': 220,\n",
       " 'surface': 221,\n",
       " 'output': 222,\n",
       " 'image': 223,\n",
       " 'copper': 224,\n",
       " 'lord': 225,\n",
       " 'ganesha': 226,\n",
       " 'apple': 227,\n",
       " 'morning': 228,\n",
       " 'huge': 229,\n",
       " 'door': 230,\n",
       " 'durable': 231,\n",
       " 'cheer': 232,\n",
       " 'nutcase': 233,\n",
       " 'gb': 234,\n",
       " 'due': 235,\n",
       " 'buy': 236,\n",
       " 'colour': 237,\n",
       " 'lapguard': 238,\n",
       " 'pillow': 239,\n",
       " 'duvet': 240,\n",
       " 'wrap': 241,\n",
       " 'pin': 242,\n",
       " 'durability': 243,\n",
       " 'grey': 244,\n",
       " 'add': 245,\n",
       " 'cell': 246,\n",
       " 'mini': 247,\n",
       " 'long': 248,\n",
       " 'fantastic': 249,\n",
       " 'line': 250,\n",
       " 'wood': 251,\n",
       " 'holiday': 252,\n",
       " 'affordable': 253,\n",
       " 'catchy': 254,\n",
       " 'keyboard': 255,\n",
       " 'aroma': 256,\n",
       " 'sleeve': 257,\n",
       " 'current': 258,\n",
       " 'kit': 259,\n",
       " 'message': 260,\n",
       " 'sonata': 261,\n",
       " 'clasp': 262,\n",
       " 'piece': 263,\n",
       " 'buddha': 264,\n",
       " 'adorable': 265,\n",
       " 'share': 266,\n",
       " 'express': 267,\n",
       " 'cms': 268,\n",
       " 'premium': 269,\n",
       " 'original': 270,\n",
       " 'note': 271,\n",
       " 'actual': 272,\n",
       " 'dry': 273,\n",
       " 'ocean': 274,\n",
       " 'metal': 275,\n",
       " 'life': 276,\n",
       " 'item': 277,\n",
       " 'wardrobe': 278,\n",
       " 'large': 279,\n",
       " 'decorative': 280,\n",
       " 'plant': 281,\n",
       " 'medium': 282,\n",
       " 'work': 283,\n",
       " 'carpet': 284,\n",
       " 'selection': 285,\n",
       " 'quote': 286,\n",
       " 'forget': 287,\n",
       " 'ink': 288,\n",
       " 'enjoyment': 289,\n",
       " 'distinctive': 290,\n",
       " 'freedom': 291,\n",
       " 'pyjama': 292,\n",
       " 'akup': 293,\n",
       " 'similar': 294,\n",
       " 'etc': 295,\n",
       " 'consumption': 296,\n",
       " 'month': 297,\n",
       " 'massage': 298,\n",
       " 'time': 299,\n",
       " 'bedroom': 300,\n",
       " 'velvet': 301,\n",
       " 'living': 302,\n",
       " 'classic': 303,\n",
       " 'bulb': 304,\n",
       " 'statue': 305,\n",
       " 'flat': 306,\n",
       " 'clean': 307,\n",
       " 'jug': 308,\n",
       " 'poster': 309,\n",
       " 'idol': 310,\n",
       " 'hp': 311,\n",
       " 'sony': 312,\n",
       " 'factory': 313,\n",
       " 'picture': 314,\n",
       " 'net': 315,\n",
       " 'area': 316,\n",
       " 'antique': 317,\n",
       " 'available': 318,\n",
       " 'eye': 319,\n",
       " 'half': 320,\n",
       " 'fine': 321,\n",
       " 'c': 322,\n",
       " 'performance': 323,\n",
       " 'bag': 324,\n",
       " 'normal': 325,\n",
       " 'fruit': 326,\n",
       " 'vitamin': 327,\n",
       " 'photo': 328,\n",
       " 'office': 329,\n",
       " 'dv': 330,\n",
       " 'warm': 331,\n",
       " 'vanity': 332,\n",
       " 'smart': 333,\n",
       " 'ce': 334,\n",
       " 'label': 335,\n",
       " 'button': 336,\n",
       " 'liquid': 337,\n",
       " 'perucci': 338,\n",
       " 'pure': 339,\n",
       " 'macbook': 340,\n",
       " 'pro': 341,\n",
       " 'indian': 342,\n",
       " 'quantity': 343,\n",
       " 'traditional': 344,\n",
       " 'tree': 345,\n",
       " 'backpack': 346,\n",
       " 'pink': 347,\n",
       " 'connector': 348,\n",
       " 'necessary': 349,\n",
       " 'authentication': 350,\n",
       " 'rohs': 351,\n",
       " 'oxyglow': 352,\n",
       " 'silk': 353,\n",
       " 'lip': 354,\n",
       " 'buckle': 355,\n",
       " 'grade': 356,\n",
       " 'scratch': 357,\n",
       " 'simple': 358,\n",
       " 'cap': 359,\n",
       " 'year': 360,\n",
       " 'silver': 361,\n",
       " 'clear': 362,\n",
       " 'soap': 363,\n",
       " 'shampoo': 364,\n",
       " 'hub': 365,\n",
       " 'phone': 366,\n",
       " 'conditioner': 367,\n",
       " 'natural': 368,\n",
       " 'frame': 369,\n",
       " 'antiqueshop': 370,\n",
       " 'dust': 371,\n",
       " 'mom': 372,\n",
       " 'little': 373,\n",
       " 'company': 374,\n",
       " 'artificial': 375,\n",
       " 'sofa': 376,\n",
       " 'magsafe': 377,\n",
       " 'elephant': 378,\n",
       " 'rajasthan': 379,\n",
       " 'display': 380,\n",
       " 'dohar': 381,\n",
       " 'screen': 382,\n",
       " 'mobile': 383,\n",
       " 'fs': 384,\n",
       " 'cloth': 385,\n",
       " 'rice': 386,\n",
       " 'adhesive': 387,\n",
       " 'ac': 388,\n",
       " 'night': 389,\n",
       " 'wheel': 390,\n",
       " 'cutter': 391,\n",
       " 'repair': 392,\n",
       " 'installation': 393,\n",
       " 'detergent': 394,\n",
       " 'iron': 395,\n",
       " 'hard': 396,\n",
       " 'fashion': 397,\n",
       " 'gentle': 398,\n",
       " 'group': 399,\n",
       " 'waterproof': 400,\n",
       " 'hot': 401,\n",
       " 'lamp': 402,\n",
       " 'decoration': 403,\n",
       " 'aluminium': 404,\n",
       " 'non': 405,\n",
       " 'geometric': 406,\n",
       " 'polyresin': 407,\n",
       " 'center': 408,\n",
       " 'rectangle': 409,\n",
       " 'air': 410,\n",
       " 'canvas': 411,\n",
       " 'bleach': 412,\n",
       " 'purple': 413,\n",
       " 'bonsai': 414,\n",
       " 'wild': 415,\n",
       " 'cor': 416,\n",
       " 'stone': 417,\n",
       " 'world': 418,\n",
       " 'small': 419,\n",
       " 'system': 420,\n",
       " 'clay': 421,\n",
       " 'front': 422,\n",
       " 'sl': 423,\n",
       " 'vacuum': 424,\n",
       " 'computer': 425,\n",
       " 'core': 426,\n",
       " 'cord': 427,\n",
       " 'indicative': 428,\n",
       " 'right': 429,\n",
       " 'timewel': 430,\n",
       " 'low': 431,\n",
       " 'safety': 432,\n",
       " 'plain': 433,\n",
       " 'one': 434,\n",
       " 'glassware': 435,\n",
       " 'pavilion': 436,\n",
       " 'fragrance': 437,\n",
       " 'gsm': 438,\n",
       " 'hook': 439,\n",
       " 'loop': 440,\n",
       " 'almond': 441,\n",
       " 'organic': 442,\n",
       " 'king': 443,\n",
       " 'drive': 444,\n",
       " 'self': 445,\n",
       " 'spf': 446,\n",
       " 'pa': 447,\n",
       " 'notebook': 448,\n",
       " 'pizza': 449,\n",
       " 'glow': 450,\n",
       " 'anti': 451,\n",
       " 'bodysuit': 452,\n",
       " 'age': 453,\n",
       " 'linen': 454,\n",
       " 'base': 455,\n",
       " 'short': 456,\n",
       " 'full': 457,\n",
       " 'wet': 458,\n",
       " 'tone': 459,\n",
       " 'deep': 460,\n",
       " 'excellent': 461,\n",
       " 'thread': 462,\n",
       " 'furnishingland': 463,\n",
       " 'storage': 464,\n",
       " 'card': 465,\n",
       " 'basic': 466,\n",
       " 'pl': 467,\n",
       " 'honey': 468,\n",
       " 'feel': 469,\n",
       " 'cartoon': 470,\n",
       " 'memory': 471,\n",
       " 'klub': 472,\n",
       " 'wallskart': 473,\n",
       " 'grn': 474,\n",
       " 'router': 475,\n",
       " 'chinese': 476,\n",
       " 'external': 477,\n",
       " 'audio': 478,\n",
       " 'video': 479,\n",
       " 'slim': 480,\n",
       " 'designer': 481,\n",
       " 'sleeveless': 482,\n",
       " 'closure': 483,\n",
       " 'pp': 484,\n",
       " 'part': 485,\n",
       " 'decker': 486,\n",
       " 'reusable': 487,\n",
       " 'quilt': 488,\n",
       " 'exotic': 489,\n",
       " 'wow': 490,\n",
       " 'taste': 491,\n",
       " 'brush': 492,\n",
       " 'last': 493,\n",
       " 'daily': 494,\n",
       " 'wireless': 495,\n",
       " 'elegance': 496,\n",
       " 'different': 497,\n",
       " 'help': 498,\n",
       " 'purpose': 499,\n",
       " 'old': 500,\n",
       " 'contemporary': 501,\n",
       " 'intellect': 502,\n",
       " 'complete': 503,\n",
       " 'craft': 504,\n",
       " 'aloevera': 505,\n",
       " 'diaper': 506,\n",
       " 'panel': 507,\n",
       " 'guru': 508,\n",
       " 'fork': 509,\n",
       " 'sunlast': 510,\n",
       " 'solar': 511,\n",
       " 'idli': 512,\n",
       " 'freezer': 513,\n",
       " 'absorbent': 514,\n",
       " 'charge': 515,\n",
       " 'limited': 516,\n",
       " 'tv': 517,\n",
       " 'ym': 518,\n",
       " 'beige': 519,\n",
       " 'cold': 520,\n",
       " 'shade': 521,\n",
       " 'pvc': 522,\n",
       " 'royal': 523,\n",
       " 'smooth': 524,\n",
       " 'heat': 525,\n",
       " 'diameter': 526,\n",
       " 'important': 527,\n",
       " 'technology': 528,\n",
       " 'boys': 529,\n",
       " 'feature': 530,\n",
       " 'ease': 531,\n",
       " 'retail': 532,\n",
       " 'dimension': 533,\n",
       " 'many': 534,\n",
       " 'bottom': 535,\n",
       " 'otg': 536,\n",
       " 'tx': 537,\n",
       " 'first': 538,\n",
       " 'whole': 539,\n",
       " 'polo': 540,\n",
       " 'lock': 541,\n",
       " 'silicone': 542,\n",
       " 'abkl': 543,\n",
       " 'pnk': 544,\n",
       " 'sponge': 545,\n",
       " 'nylon': 546,\n",
       " 'loofah': 547,\n",
       " 'matte': 548,\n",
       " 'lamination': 549,\n",
       " 'approx': 550,\n",
       " 'source': 551,\n",
       " 'attachment': 552,\n",
       " 'graphic': 553,\n",
       " 'k': 554,\n",
       " 'quirky': 555,\n",
       " 'sky': 556,\n",
       " 'board': 557,\n",
       " 'dessert': 558,\n",
       " 'pen': 559,\n",
       " 'casserole': 560,\n",
       " 'queen': 561,\n",
       " 'reliable': 562,\n",
       " 'send': 563,\n",
       " 'cable': 564,\n",
       " 'magnetic': 565,\n",
       " 'p': 566,\n",
       " 'gorgeous': 567,\n",
       " 'percent': 568,\n",
       " 'religious': 569,\n",
       " 'desk': 570,\n",
       " 'warmth': 571,\n",
       " 'stick': 572,\n",
       " 'strong': 573,\n",
       " 'grip': 574,\n",
       " 'sapatos': 575,\n",
       " 'exquisite': 576,\n",
       " 'hako': 577,\n",
       " 'lal': 578,\n",
       " 'haveli': 579,\n",
       " 'interior': 580,\n",
       " 'ethnic': 581,\n",
       " 'mirror': 582,\n",
       " 'side': 583,\n",
       " 'wallmantra': 584,\n",
       " 'cotonex': 585,\n",
       " 'jasmine': 586,\n",
       " 'u': 587,\n",
       " 'paris': 588,\n",
       " 'bharatcraft': 589,\n",
       " 'creative': 590,\n",
       " 'h': 591,\n",
       " 'solution': 592,\n",
       " 'rajasthani': 593,\n",
       " 'specification': 594,\n",
       " 'raymond': 595,\n",
       " 'bright': 596,\n",
       " 'bazaar': 597,\n",
       " 'store': 598,\n",
       " 'guest': 599,\n",
       " 'lemon': 600,\n",
       " 'bank': 601,\n",
       " 'kurta': 602,\n",
       " 'glue': 603,\n",
       " 'removal': 604,\n",
       " 'gum': 605,\n",
       " 'residue': 606,\n",
       " 'ganpati': 607,\n",
       " 'plug': 608,\n",
       " 'polish': 609,\n",
       " 'tube': 610,\n",
       " 'device': 611,\n",
       " 'window': 612,\n",
       " 'rich': 613,\n",
       " 'ganesh': 614,\n",
       " 'glossy': 615,\n",
       " 'attitude': 616,\n",
       " 'harness': 617,\n",
       " 'playful': 618,\n",
       " 'lantern': 619,\n",
       " 'comforter': 620,\n",
       " 'standard': 621,\n",
       " 'addition': 622,\n",
       " 'utility': 623,\n",
       " 'holder': 624,\n",
       " 'suit': 625,\n",
       " 'hz': 626,\n",
       " 'laser': 627,\n",
       " 'pane': 628,\n",
       " 'garment': 629,\n",
       " 'pocket': 630,\n",
       " 'diwan': 631,\n",
       " 'gm': 632,\n",
       " 'dual': 633,\n",
       " 'happiness': 634,\n",
       " 'kid': 635,\n",
       " 'cool': 636,\n",
       " 'clock': 637,\n",
       " 'class': 638,\n",
       " 'business': 639,\n",
       " 'artistic': 640,\n",
       " 'appeal': 641,\n",
       " 'international': 642,\n",
       " 'krishna': 643,\n",
       " 'jacadi': 644,\n",
       " 'handicraft': 645,\n",
       " 'oxy': 646,\n",
       " 'lid': 647,\n",
       " 'multiple': 648,\n",
       " 'adjustable': 649,\n",
       " 'shower': 650,\n",
       " 'mink': 651,\n",
       " 'floor': 652,\n",
       " 'container': 653,\n",
       " 'manufacturer': 654,\n",
       " 'monitor': 655,\n",
       " 'method': 656,\n",
       " 'handmade': 657,\n",
       " 'rope': 658,\n",
       " 'stock': 659,\n",
       " 'choice': 660,\n",
       " 'st': 661,\n",
       " 'nail': 662,\n",
       " 'return': 663,\n",
       " 'flare': 664,\n",
       " 'rubber': 665,\n",
       " 'extender': 666,\n",
       " 'surgical': 667,\n",
       " 'pooja': 668,\n",
       " 'extract': 669,\n",
       " 'essential': 670,\n",
       " 'energy': 671,\n",
       " 'desire': 672,\n",
       " 'compact': 673,\n",
       " 'iso': 674,\n",
       " 'developer': 675,\n",
       " 'papaya': 676,\n",
       " 'mousepad': 677,\n",
       " 'decal': 678,\n",
       " 'limit': 679,\n",
       " 'hammock': 680,\n",
       " 'butter': 681,\n",
       " 'pant': 682,\n",
       " 'dish': 683,\n",
       " 'digilight': 684,\n",
       " 'jaipur': 685,\n",
       " 'plate': 686,\n",
       " 'handi': 687,\n",
       " 'clublaptop': 688,\n",
       " 'capri': 689,\n",
       " 'input': 690,\n",
       " 'replace': 691,\n",
       " 'western': 692,\n",
       " 'prime': 693,\n",
       " 'seater': 694,\n",
       " 'midi': 695,\n",
       " 'knee': 696,\n",
       " 'magic': 697,\n",
       " 'sensitive': 698,\n",
       " 'fastrack': 699,\n",
       " 'square': 700,\n",
       " 'useful': 701,\n",
       " 'comparable': 702,\n",
       " 'appearance': 703,\n",
       " 'strict': 704,\n",
       " 'control': 705,\n",
       " 'filtration': 706,\n",
       " 'testing': 707,\n",
       " 'summer': 708,\n",
       " 'spunk': 709,\n",
       " 'utmost': 710,\n",
       " 'tire': 711,\n",
       " 'movement': 712,\n",
       " 'crystal': 713,\n",
       " 'deployment': 714,\n",
       " 'marble': 715,\n",
       " 'show': 716,\n",
       " 'pk': 717,\n",
       " 'chair': 718,\n",
       " 'pmr': 719,\n",
       " 'food': 720,\n",
       " 'disposable': 721,\n",
       " 'hmt': 722,\n",
       " 'ultra': 723,\n",
       " 'touch': 724,\n",
       " 'hanging': 725,\n",
       " 'extra': 726,\n",
       " 'stop': 727,\n",
       " 'head': 728,\n",
       " 'inner': 729,\n",
       " 'miracle': 730,\n",
       " 'dirt': 731,\n",
       " 'correct': 732,\n",
       " 'runner': 733,\n",
       " 'intense': 734,\n",
       " 'lighting': 735,\n",
       " 'view': 736,\n",
       " 'kg': 737,\n",
       " 'terracotta': 738,\n",
       " 'mxofere': 739,\n",
       " 'persian': 740,\n",
       " 'lukewarm': 741,\n",
       " 'lasting': 742,\n",
       " 'jumpsuit': 743,\n",
       " 'romper': 744,\n",
       " 'mache': 745,\n",
       " 'lmli': 746,\n",
       " 'swarovski': 747,\n",
       " 'shop': 748,\n",
       " 'link': 749,\n",
       " 'tool': 750,\n",
       " 'big': 751,\n",
       " 'ddr': 752,\n",
       " 'specialty': 753,\n",
       " 'compromise': 754,\n",
       " 'pulse': 755,\n",
       " 'nc': 756,\n",
       " 'sea': 757,\n",
       " 'heart': 758,\n",
       " 'android': 759,\n",
       " 'balm': 760,\n",
       " 'press': 761,\n",
       " 'hdmi': 762,\n",
       " 'version': 763,\n",
       " 'ipad': 764,\n",
       " 'hence': 765,\n",
       " 'position': 766,\n",
       " 'able': 767,\n",
       " 'parrot': 768,\n",
       " 'maroon': 769,\n",
       " 'mediterranean': 770,\n",
       " 'lucky': 771,\n",
       " 'balaji': 772,\n",
       " 'mdf': 773,\n",
       " 'maker': 774,\n",
       " 'shelf': 775,\n",
       " 'gen': 776,\n",
       " 'fluid': 777,\n",
       " 'rectangular': 778,\n",
       " 'birthday': 779,\n",
       " 'assure': 780,\n",
       " 'select': 781,\n",
       " 'compliance': 782,\n",
       " 'requirment': 783,\n",
       " 'volatege': 784,\n",
       " 'deviation': 785,\n",
       " 'bucket': 786,\n",
       " 'space': 787,\n",
       " 'rating': 788,\n",
       " 'attention': 789,\n",
       " 'lightweight': 790,\n",
       " 'tumble': 791,\n",
       " 'league': 792,\n",
       " 'man': 793,\n",
       " 'mkb': 794,\n",
       " 'waist': 795,\n",
       " 'flower': 796,\n",
       " 'angel': 797,\n",
       " 'pencil': 798,\n",
       " 'pretty': 799,\n",
       " 'multicolour': 800,\n",
       " 'physical': 801,\n",
       " 'ornamental': 802,\n",
       " 'fancy': 803,\n",
       " 'true': 804,\n",
       " 'fabulous': 805,\n",
       " 'satin': 806,\n",
       " 'silicon': 807,\n",
       " 'sand': 808,\n",
       " 'treasure': 809,\n",
       " 'manufacture': 810,\n",
       " 'playboy': 811,\n",
       " 'makeup': 812,\n",
       " 'shadow': 813,\n",
       " 'paint': 814,\n",
       " 'sunscreen': 815,\n",
       " 'family': 816,\n",
       " 'agromech': 817,\n",
       " 'asus': 818,\n",
       " 'figurine': 819,\n",
       " 'luxury': 820,\n",
       " 'roaster': 821,\n",
       " 'cook': 822,\n",
       " 'cmgy': 823,\n",
       " 'ant': 824,\n",
       " 'outer': 825,\n",
       " 'shea': 826,\n",
       " 'condition': 827,\n",
       " 'minimum': 828,\n",
       " 'tallenge': 829,\n",
       " 'purchase': 830,\n",
       " 'count': 831,\n",
       " 'dongli': 832,\n",
       " 'lunch': 833,\n",
       " 'nappy': 834,\n",
       " 'sulfate': 835,\n",
       " 'hour': 836,\n",
       " 'date': 837,\n",
       " 'goddess': 838,\n",
       " 'prishaindia': 839,\n",
       " 'shoppingtara': 840,\n",
       " 'category': 841,\n",
       " 'artist': 842,\n",
       " 'insert': 843,\n",
       " 'usage': 844,\n",
       " 'ready': 845,\n",
       " 'multimedia': 846,\n",
       " 'hospital': 847,\n",
       " 'primary': 848,\n",
       " 'switch': 849,\n",
       " 'nx': 850,\n",
       " 'hookah': 851,\n",
       " 'usable': 852,\n",
       " 'diamond': 853,\n",
       " 'famous': 854,\n",
       " 'stand': 855,\n",
       " 'beach': 856,\n",
       " 'skirt': 857,\n",
       " 'elastic': 858,\n",
       " 'maximum': 859,\n",
       " 'speed': 860,\n",
       " 'co': 861,\n",
       " 'heavy': 862,\n",
       " 'layer': 863,\n",
       " 'mb': 864,\n",
       " 'play': 865,\n",
       " 'aari': 866,\n",
       " 'embroidery': 867,\n",
       " 'vol': 868,\n",
       " 'musician': 869,\n",
       " 'mattress': 870,\n",
       " 'location': 871,\n",
       " 'university': 872,\n",
       " 'wallpaper': 873,\n",
       " 'sm': 874,\n",
       " 'mixfruit': 875,\n",
       " 'kind': 876,\n",
       " 'peppermint': 877,\n",
       " 'burner': 878,\n",
       " 'pair': 879,\n",
       " 'child': 880,\n",
       " 'shopizone': 881,\n",
       " 'ship': 882,\n",
       " 'lula': 883,\n",
       " 'sstudio': 884,\n",
       " 'gown': 885,\n",
       " 'aapno': 886,\n",
       " 'cargo': 887,\n",
       " 'giftsthatwow': 888,\n",
       " 'gtw': 889,\n",
       " 'seat': 890,\n",
       " 'experience': 891,\n",
       " 'bourne': 892,\n",
       " 'supermacy': 893,\n",
       " 'bela': 894,\n",
       " 'adaptor': 895,\n",
       " 'cl': 896,\n",
       " 'idlis': 897,\n",
       " 'nkp': 898,\n",
       " 'tb': 899,\n",
       " 'chocoberry': 900,\n",
       " 'calculus': 901,\n",
       " 'colorful': 902,\n",
       " 'adidas': 903,\n",
       " 'ice': 904,\n",
       " 'santosh': 905,\n",
       " 'empire': 906,\n",
       " 'facial': 907,\n",
       " 'sf': 908,\n",
       " 'pine': 909,\n",
       " 'effect': 910,\n",
       " 'support': 911,\n",
       " 'royale': 912,\n",
       " 'personal': 913,\n",
       " 'beautifull': 914,\n",
       " 'sleep': 915,\n",
       " 'spread': 916,\n",
       " 'bhavya': 917,\n",
       " 'sturdy': 918,\n",
       " 'spoon': 919,\n",
       " 'ecraftindia': 920,\n",
       " 'quartz': 921,\n",
       " 'crystle': 922,\n",
       " 'pride': 923,\n",
       " 'accessory': 924,\n",
       " 'maintenance': 925,\n",
       " 'wrist': 926,\n",
       " 'favorite': 927,\n",
       " 'xa': 928,\n",
       " 'seller': 929,\n",
       " 'stoneware': 930,\n",
       " 'drawing': 931,\n",
       " 'kidz': 932,\n",
       " 'attivo': 933,\n",
       " 'rajo': 934,\n",
       " 'raja': 935,\n",
       " 'artpiece': 936,\n",
       " 'chokree': 937,\n",
       " 'vglass': 938,\n",
       " 'asia': 939,\n",
       " 'background': 940,\n",
       " 'lace': 941,\n",
       " 'band': 942,\n",
       " 'leaf': 943,\n",
       " 'wedding': 944,\n",
       " 'wonderchef': 945,\n",
       " 'windsor': 946,\n",
       " 'saucer': 947,\n",
       " 'imagination': 948,\n",
       " 'interesting': 949,\n",
       " 'kfactory': 950,\n",
       " 'fun': 951,\n",
       " 'yuva': 952,\n",
       " 'vintage': 953,\n",
       " 'environment': 954,\n",
       " 'total': 955,\n",
       " 'fire': 956,\n",
       " 'zone': 957,\n",
       " 'fur': 958,\n",
       " 'winter': 959,\n",
       " 'christmas': 960,\n",
       " 'season': 961,\n",
       " 'awesome': 962,\n",
       " 'format': 963,\n",
       " 'production': 964,\n",
       " 'convenient': 965,\n",
       " 'content': 966,\n",
       " 'polypropylene': 967,\n",
       " 'open': 968,\n",
       " 'oreal': 969,\n",
       " 'eversleek': 970,\n",
       " 'alarm': 971,\n",
       " 'second': 972,\n",
       " 'photographic': 973,\n",
       " 'wealth': 974,\n",
       " 'prisha': 975,\n",
       " 'west': 976,\n",
       " 'bengal': 977,\n",
       " 'culture': 978,\n",
       " 'fogg': 979,\n",
       " 'facewash': 980,\n",
       " 'modern': 981,\n",
       " 'flvi': 982,\n",
       " 'metallino': 983,\n",
       " 'bendable': 984,\n",
       " 'stripe': 985,\n",
       " 'lacquer': 986,\n",
       " 'uberlyfe': 987,\n",
       " 'professional': 988,\n",
       " 'cc': 989,\n",
       " 'upto': 990,\n",
       " 'avoid': 991,\n",
       " 'resistance': 992,\n",
       " 'bapa': 993,\n",
       " 'mount': 994,\n",
       " 'roq': 995,\n",
       " 'gel': 996,\n",
       " 'tresemme': 997,\n",
       " 'precious': 998,\n",
       " 'franck': 999,\n",
       " 'bella': 1000,\n",
       " ...}"
      ]
     },
     "execution_count": 158,
     "metadata": {},
     "output_type": "execute_result"
    }
   ],
   "source": [
    "word_index"
   ]
  },
  {
   "cell_type": "code",
   "execution_count": 159,
   "id": "abb9f5a9",
   "metadata": {},
   "outputs": [],
   "source": [
    "train_sequences = tokenizer.texts_to_sequences(train_NLP['desc_clean'].values)"
   ]
  },
  {
   "cell_type": "code",
   "execution_count": 160,
   "id": "6d950f08",
   "metadata": {
    "scrolled": true
   },
   "outputs": [
    {
     "data": {
      "text/plain": [
       "[92,\n",
       " 199,\n",
       " 33,\n",
       " 12,\n",
       " 55,\n",
       " 13,\n",
       " 52,\n",
       " 138,\n",
       " 98,\n",
       " 139,\n",
       " 7,\n",
       " 105,\n",
       " 127,\n",
       " 92,\n",
       " 12,\n",
       " 31,\n",
       " 140,\n",
       " 42,\n",
       " 106,\n",
       " 59,\n",
       " 77,\n",
       " 25,\n",
       " 33,\n",
       " 41,\n",
       " 138,\n",
       " 98,\n",
       " 139,\n",
       " 7,\n",
       " 105,\n",
       " 127,\n",
       " 92,\n",
       " 12,\n",
       " 31,\n",
       " 140,\n",
       " 42,\n",
       " 106,\n",
       " 59,\n",
       " 77,\n",
       " 25,\n",
       " 33,\n",
       " 41,\n",
       " 159]"
      ]
     },
     "execution_count": 160,
     "metadata": {},
     "output_type": "execute_result"
    }
   ],
   "source": [
    "train_sequences[0]"
   ]
  },
  {
   "cell_type": "code",
   "execution_count": 161,
   "id": "a705e4e6",
   "metadata": {},
   "outputs": [],
   "source": [
    "from keras.preprocessing.sequence import pad_sequences"
   ]
  },
  {
   "cell_type": "code",
   "execution_count": 162,
   "id": "55d22de3",
   "metadata": {},
   "outputs": [],
   "source": [
    "train_padded = pad_sequences(\n",
    "    train_sequences, maxlen=max_length, padding=\"post\", truncating=\"post\")"
   ]
  },
  {
   "cell_type": "code",
   "execution_count": 163,
   "id": "4b4d1744",
   "metadata": {},
   "outputs": [
    {
     "data": {
      "text/plain": [
       "array([ 92, 199,  33,  12,  55,  13,  52, 138,  98, 139,   7, 105, 127,\n",
       "        92,  12,  31, 140,  42, 106,  59,  77,  25,  33,  41, 138,  98,\n",
       "       139,   7, 105, 127,  92,  12,  31, 140,  42, 106,  59,  77,  25,\n",
       "        33,  41, 159,   0,   0,   0,   0,   0,   0,   0,   0])"
      ]
     },
     "execution_count": 163,
     "metadata": {},
     "output_type": "execute_result"
    }
   ],
   "source": [
    "train_padded[0]"
   ]
  },
  {
   "cell_type": "code",
   "execution_count": 164,
   "id": "62731053",
   "metadata": {},
   "outputs": [],
   "source": [
    "test_sequences = tokenizer.texts_to_sequences(test_NLP['desc_clean'].values)"
   ]
  },
  {
   "cell_type": "code",
   "execution_count": 165,
   "id": "4b04195d",
   "metadata": {},
   "outputs": [],
   "source": [
    "test_padded = pad_sequences(\n",
    "    test_sequences, maxlen=max_length, padding=\"post\", truncating=\"post\")"
   ]
  },
  {
   "cell_type": "code",
   "execution_count": 166,
   "id": "9199ff6a",
   "metadata": {},
   "outputs": [
    {
     "name": "stdout",
     "output_type": "stream",
     "text": [
      "rockmantra cute ceramic mug l price r thrill fresh start day exclusive creation rockmantra mug design permanent perfect pick love safe product ceramic size thrill fresh start day exclusive creation rockmantra mug design permanent perfect pick love safe product ceramic size x\n",
      "[92, 199, 33, 12, 55, 13, 52, 138, 98, 139, 7, 105, 127, 92, 12, 31, 140, 42, 106, 59, 77, 25, 33, 41, 138, 98, 139, 7, 105, 127, 92, 12, 31, 140, 42, 106, 59, 77, 25, 33, 41, 159]\n"
     ]
    }
   ],
   "source": [
    "print(train_NLP['desc_clean'].iloc[0])\n",
    "print(train_sequences[0])"
   ]
  }
 ],
 "metadata": {
  "kernelspec": {
   "display_name": "Python 3",
   "language": "python",
   "name": "python3"
  },
  "language_info": {
   "codemirror_mode": {
    "name": "ipython",
    "version": 3
   },
   "file_extension": ".py",
   "mimetype": "text/x-python",
   "name": "python",
   "nbconvert_exporter": "python",
   "pygments_lexer": "ipython3",
   "version": "3.8.8"
  }
 },
 "nbformat": 4,
 "nbformat_minor": 5
}
